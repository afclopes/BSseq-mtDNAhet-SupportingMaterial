{
  "nbformat": 4,
  "nbformat_minor": 0,
  "metadata": {
    "colab": {
      "name": "SingleCell-SearchMtDNA.ipynb",
      "provenance": [],
      "toc_visible": true,
      "authorship_tag": "ABX9TyM2RVp9nOsemAnh2i3NosQv",
      "include_colab_link": true
    },
    "kernelspec": {
      "name": "python3",
      "display_name": "Python 3"
    }
  },
  "cells": [
    {
      "cell_type": "markdown",
      "metadata": {
        "id": "view-in-github",
        "colab_type": "text"
      },
      "source": [
        "<a href=\"https://colab.research.google.com/github/afclopes/BSseq-mtDNAhet-SupportingMaterial/blob/main/SingleCell_SearchMtDNA.ipynb\" target=\"_parent\"><img src=\"https://colab.research.google.com/assets/colab-badge.svg\" alt=\"Open In Colab\"/></a>"
      ]
    },
    {
      "cell_type": "markdown",
      "metadata": {
        "id": "ceA6mSdIdKqd"
      },
      "source": [
        "# Does BS-seq give information about mitochondrial DNA?\n",
        "\n",
        "The question is whether BS-seq also sequences mitochondrial DNA. Based on the paper https://www.nature.com/articles/nmeth.3728#Sec1 (let's call it paper 1) and https://www.nature.com/articles/nmeth.3035#accession-codes (paper 2) there seems to be no reason in theory for this not to be the case. It appears that the entire genome is fragmented and sequenced. And there is no removal of mitochondrial DNA at any point. Thus, there should be sequenced mitochondrial DNA.\n",
        "\n",
        "## Can we find evidence of mitochondrial DNA in the supplementary data for paper 1?\n",
        "\n",
        "Paper 1, Supplementary Table 4 described as \"Gene-level results of the association tests between DNA-methylation variation in alternative genomic contexts and gene expression variation. (XLSX 21480 kb)\"."
      ]
    },
    {
      "cell_type": "code",
      "metadata": {
        "id": "Zb-UF27hpMAy",
        "colab": {
          "resources": {
            "http://localhost:8080/nbextensions/google.colab/files.js": {
              "data": "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",
              "ok": true,
              "headers": [
                [
                  "content-type",
                  "application/javascript"
                ]
              ],
              "status": 200,
              "status_text": ""
            }
          },
          "base_uri": "https://localhost:8080/",
          "height": 73
        },
        "outputId": "02e5a4e7-03bc-476f-8949-502fc79346a2"
      },
      "source": [
        "from google.colab import files\n",
        "uploaded = files.upload()"
      ],
      "execution_count": null,
      "outputs": [
        {
          "output_type": "display_data",
          "data": {
            "text/html": [
              "\n",
              "     <input type=\"file\" id=\"files-506782e1-f3d0-44db-8b9d-7b696cd1556b\" name=\"files[]\" multiple disabled\n",
              "        style=\"border:none\" />\n",
              "     <output id=\"result-506782e1-f3d0-44db-8b9d-7b696cd1556b\">\n",
              "      Upload widget is only available when the cell has been executed in the\n",
              "      current browser session. Please rerun this cell to enable.\n",
              "      </output>\n",
              "      <script src=\"/nbextensions/google.colab/files.js\"></script> "
            ],
            "text/plain": [
              "<IPython.core.display.HTML object>"
            ]
          },
          "metadata": {
            "tags": []
          }
        },
        {
          "output_type": "stream",
          "text": [
            "Saving 41592_2016_BFnmeth3728_MOESM611_ESM.csv to 41592_2016_BFnmeth3728_MOESM611_ESM.csv\n"
          ],
          "name": "stdout"
        }
      ]
    },
    {
      "cell_type": "code",
      "metadata": {
        "id": "w8Z3HR12FUfn",
        "colab": {
          "base_uri": "https://localhost:8080/",
          "height": 52
        },
        "outputId": "a157a1a2-38df-4a2a-8b70-4f8c2f97e0f5"
      },
      "source": [
        "#let's start by installing packages we will likely be using\n",
        "import numpy as np\n",
        "import pandas as pd\n",
        "import matplotlib as mpl\n",
        "import matplotlib.pyplot as plt\n",
        "import seaborn as sns"
      ],
      "execution_count": null,
      "outputs": [
        {
          "output_type": "stream",
          "text": [
            "/usr/local/lib/python3.6/dist-packages/statsmodels/tools/_testing.py:19: FutureWarning: pandas.util.testing is deprecated. Use the functions in the public API at pandas.testing instead.\n",
            "  import pandas.util.testing as tm\n"
          ],
          "name": "stderr"
        }
      ]
    },
    {
      "cell_type": "code",
      "metadata": {
        "id": "H6inFV1lFBcG",
        "colab": {
          "base_uri": "https://localhost:8080/",
          "height": 52
        },
        "outputId": "b9044890-0e1a-4862-e0ce-89f88e645f1f"
      },
      "source": [
        "import io\n",
        "supplementary_table_4=pd.read_csv(io.BytesIO(uploaded['41592_2016_BFnmeth3728_MOESM611_ESM.csv']))"
      ],
      "execution_count": null,
      "outputs": [
        {
          "output_type": "stream",
          "text": [
            "/usr/local/lib/python3.6/dist-packages/IPython/core/interactiveshell.py:2718: DtypeWarning: Columns (12) have mixed types.Specify dtype option on import or set low_memory=False.\n",
            "  interactivity=interactivity, compiler=compiler, result=result)\n"
          ],
          "name": "stderr"
        }
      ]
    },
    {
      "cell_type": "code",
      "metadata": {
        "id": "V_CnZgxtFZjV",
        "colab": {
          "base_uri": "https://localhost:8080/",
          "height": 204
        },
        "outputId": "6128028d-8364-4dc9-c179-081a8f5f16e0"
      },
      "source": [
        "supplementary_table_4.head()"
      ],
      "execution_count": null,
      "outputs": [
        {
          "output_type": "execute_result",
          "data": {
            "text/html": [
              "<div>\n",
              "<style scoped>\n",
              "    .dataframe tbody tr th:only-of-type {\n",
              "        vertical-align: middle;\n",
              "    }\n",
              "\n",
              "    .dataframe tbody tr th {\n",
              "        vertical-align: top;\n",
              "    }\n",
              "\n",
              "    .dataframe thead th {\n",
              "        text-align: right;\n",
              "    }\n",
              "</style>\n",
              "<table border=\"1\" class=\"dataframe\">\n",
              "  <thead>\n",
              "    <tr style=\"text-align: right;\">\n",
              "      <th></th>\n",
              "      <th>name</th>\n",
              "      <th>r</th>\n",
              "      <th>r_lo</th>\n",
              "      <th>r_up</th>\n",
              "      <th>p</th>\n",
              "      <th>n</th>\n",
              "      <th>n_wtd</th>\n",
              "      <th>p_fdr</th>\n",
              "      <th>p_rnd</th>\n",
              "      <th>p_adj</th>\n",
              "      <th>ens_id</th>\n",
              "      <th>gene_id</th>\n",
              "      <th>chromo</th>\n",
              "      <th>start_gene</th>\n",
              "      <th>end_gene</th>\n",
              "      <th>start_context</th>\n",
              "      <th>end_context</th>\n",
              "      <th>strand</th>\n",
              "      <th>pluri</th>\n",
              "    </tr>\n",
              "  </thead>\n",
              "  <tbody>\n",
              "    <tr>\n",
              "      <th>0</th>\n",
              "      <td>cpg_mean</td>\n",
              "      <td>-0.137998</td>\n",
              "      <td>-0.370096</td>\n",
              "      <td>0.094100</td>\n",
              "      <td>0.288877</td>\n",
              "      <td>61</td>\n",
              "      <td>61</td>\n",
              "      <td>0.619949</td>\n",
              "      <td>0.619949</td>\n",
              "      <td>0.619949</td>\n",
              "      <td>ENSMUSG00000069045</td>\n",
              "      <td>Ddx3y</td>\n",
              "      <td>Y</td>\n",
              "      <td>1260715</td>\n",
              "      <td>1286613</td>\n",
              "      <td>1</td>\n",
              "      <td>1</td>\n",
              "      <td>-</td>\n",
              "      <td>False</td>\n",
              "    </tr>\n",
              "    <tr>\n",
              "      <th>1</th>\n",
              "      <td>cpg_mean</td>\n",
              "      <td>-0.066585</td>\n",
              "      <td>-0.300405</td>\n",
              "      <td>0.167235</td>\n",
              "      <td>0.610155</td>\n",
              "      <td>61</td>\n",
              "      <td>61</td>\n",
              "      <td>0.827108</td>\n",
              "      <td>0.827108</td>\n",
              "      <td>0.827108</td>\n",
              "      <td>ENSMUSG00000068457</td>\n",
              "      <td>Uty</td>\n",
              "      <td>Y</td>\n",
              "      <td>1096861</td>\n",
              "      <td>1245759</td>\n",
              "      <td>1</td>\n",
              "      <td>1</td>\n",
              "      <td>-</td>\n",
              "      <td>False</td>\n",
              "    </tr>\n",
              "    <tr>\n",
              "      <th>2</th>\n",
              "      <td>cpg_mean</td>\n",
              "      <td>-0.023458</td>\n",
              "      <td>-0.257734</td>\n",
              "      <td>0.210818</td>\n",
              "      <td>0.857587</td>\n",
              "      <td>61</td>\n",
              "      <td>61</td>\n",
              "      <td>0.953853</td>\n",
              "      <td>0.953853</td>\n",
              "      <td>0.953853</td>\n",
              "      <td>ENSMUSG00000069049</td>\n",
              "      <td>Eif2s3y</td>\n",
              "      <td>Y</td>\n",
              "      <td>1010543</td>\n",
              "      <td>1028847</td>\n",
              "      <td>1</td>\n",
              "      <td>1</td>\n",
              "      <td>+</td>\n",
              "      <td>False</td>\n",
              "    </tr>\n",
              "    <tr>\n",
              "      <th>3</th>\n",
              "      <td>gene_body</td>\n",
              "      <td>-0.357736</td>\n",
              "      <td>-0.654877</td>\n",
              "      <td>-0.060596</td>\n",
              "      <td>0.037781</td>\n",
              "      <td>34</td>\n",
              "      <td>473</td>\n",
              "      <td>0.736332</td>\n",
              "      <td>0.736332</td>\n",
              "      <td>0.736332</td>\n",
              "      <td>ENSMUSG00000069045</td>\n",
              "      <td>Ddx3y</td>\n",
              "      <td>Y</td>\n",
              "      <td>1260715</td>\n",
              "      <td>1286613</td>\n",
              "      <td>1260715</td>\n",
              "      <td>1286613</td>\n",
              "      <td>-</td>\n",
              "      <td>False</td>\n",
              "    </tr>\n",
              "    <tr>\n",
              "      <th>4</th>\n",
              "      <td>gene_body</td>\n",
              "      <td>0.103351</td>\n",
              "      <td>-0.223523</td>\n",
              "      <td>0.430224</td>\n",
              "      <td>0.573510</td>\n",
              "      <td>32</td>\n",
              "      <td>166</td>\n",
              "      <td>0.986958</td>\n",
              "      <td>0.986958</td>\n",
              "      <td>0.986958</td>\n",
              "      <td>ENSMUSG00000069049</td>\n",
              "      <td>Eif2s3y</td>\n",
              "      <td>Y</td>\n",
              "      <td>1010543</td>\n",
              "      <td>1028847</td>\n",
              "      <td>1010543</td>\n",
              "      <td>1028847</td>\n",
              "      <td>+</td>\n",
              "      <td>False</td>\n",
              "    </tr>\n",
              "  </tbody>\n",
              "</table>\n",
              "</div>"
            ],
            "text/plain": [
              "        name         r      r_lo  ...  end_context  strand  pluri\n",
              "0   cpg_mean -0.137998 -0.370096  ...            1       -  False\n",
              "1   cpg_mean -0.066585 -0.300405  ...            1       -  False\n",
              "2   cpg_mean -0.023458 -0.257734  ...            1       +  False\n",
              "3  gene_body -0.357736 -0.654877  ...      1286613       -  False\n",
              "4  gene_body  0.103351 -0.223523  ...      1028847       +  False\n",
              "\n",
              "[5 rows x 19 columns]"
            ]
          },
          "metadata": {
            "tags": []
          },
          "execution_count": 30
        }
      ]
    },
    {
      "cell_type": "code",
      "metadata": {
        "id": "vF7JkjE0FfIu",
        "colab": {
          "base_uri": "https://localhost:8080/",
          "height": 51
        },
        "outputId": "faccfa9a-466a-4529-cd7c-d244d0425ef5"
      },
      "source": [
        "supplementary_table_4['chromo'].unique()"
      ],
      "execution_count": null,
      "outputs": [
        {
          "output_type": "execute_result",
          "data": {
            "text/plain": [
              "array(['Y', 'X', '19', '18', '17', '16', '15', '14', '13', 13, 12, 11, 10,\n",
              "       9, 8, 7, 6, 5, 4, 3, 2, 1], dtype=object)"
            ]
          },
          "metadata": {
            "tags": []
          },
          "execution_count": 6
        }
      ]
    },
    {
      "cell_type": "markdown",
      "metadata": {
        "id": "JaFSF0a3FuOt"
      },
      "source": [
        "It appears that this paper removed on purpose chromosomes 20 and 21 and the mitochondrial DNA data as it is not present here any indications of these chromosomes."
      ]
    },
    {
      "cell_type": "markdown",
      "metadata": {
        "id": "ZVUP0QwEGcHg"
      },
      "source": [
        "## Can we find evidence for mitochondrial DNA in the  raw data available for paper 1?\n",
        "\n",
        "Raw data for this paper was saved under Series GSE68642. Inside this series there is one Platform called GPL13112 carried out using Illumina HiSeq 2000 (Mus musculus), and 96 Samples with names like GSM1922083 Serum_A01 [BS-seq]. At random, I have picked one to look at.\n",
        "\n",
        "Details of the sample:\n",
        "\n",
        "Organism: Mus musculus\n",
        "\n",
        "Characteristics cell line: E14\n",
        "\n",
        "cell type: embryonic stem cell\n",
        "\n",
        "strain/background: C57BL/6\n",
        "\n",
        "genotype/variation: wild-type\n",
        "\n",
        "growth condition: serum/LIF\n",
        "\n",
        "Growth protocol \tESCs were cultured in serum/LIF "
      ]
    },
    {
      "cell_type": "code",
      "metadata": {
        "id": "952wzfdtIO1g"
      },
      "source": [
        "#from google.colab import files\n",
        "#uploaded = files.upload()"
      ],
      "execution_count": null,
      "outputs": []
    },
    {
      "cell_type": "code",
      "metadata": {
        "id": "IT2CLnHVISRY"
      },
      "source": [
        "#import io\n",
        "#P1_raw_data_H10=pd.read_csv(io.BytesIO(uploaded['GSM1922176_H10.CpG.txt']))"
      ],
      "execution_count": null,
      "outputs": []
    },
    {
      "cell_type": "code",
      "metadata": {
        "id": "czUmpHDbbZlH",
        "colab": {
          "base_uri": "https://localhost:8080/",
          "height": 34
        },
        "outputId": "0e955791-11c1-4d34-ce63-de9ef60700d6"
      },
      "source": [
        "from google.colab import drive\n",
        "drive.mount('/content/drive/')"
      ],
      "execution_count": null,
      "outputs": [
        {
          "output_type": "stream",
          "text": [
            "Mounted at /content/drive/\n"
          ],
          "name": "stdout"
        }
      ]
    },
    {
      "cell_type": "code",
      "metadata": {
        "id": "BsqmaQdff8Eu",
        "colab": {
          "base_uri": "https://localhost:8080/",
          "height": 52
        },
        "outputId": "d4a5cd12-7574-4226-8f6c-e21567ec5534"
      },
      "source": [
        "\n",
        "path = \"/content/drive/My Drive/UniversityCambridge/Cambridge_Data/GSM1922176_H10.CpG.txt\"\n",
        "df_raw_data_H10 = pd.read_csv(path,sep='\\t',header=None)\n"
      ],
      "execution_count": null,
      "outputs": [
        {
          "output_type": "stream",
          "text": [
            "/usr/local/lib/python3.6/dist-packages/IPython/core/interactiveshell.py:2718: DtypeWarning: Columns (0) have mixed types.Specify dtype option on import or set low_memory=False.\n",
            "  interactivity=interactivity, compiler=compiler, result=result)\n"
          ],
          "name": "stderr"
        }
      ]
    },
    {
      "cell_type": "code",
      "metadata": {
        "id": "oeP9FcUriSB0",
        "colab": {
          "base_uri": "https://localhost:8080/",
          "height": 197
        },
        "outputId": "a608bbca-e72c-4cb5-9d02-182a171b979f"
      },
      "source": [
        "df_raw_data_H10.head()"
      ],
      "execution_count": null,
      "outputs": [
        {
          "output_type": "execute_result",
          "data": {
            "text/html": [
              "<div>\n",
              "<style scoped>\n",
              "    .dataframe tbody tr th:only-of-type {\n",
              "        vertical-align: middle;\n",
              "    }\n",
              "\n",
              "    .dataframe tbody tr th {\n",
              "        vertical-align: top;\n",
              "    }\n",
              "\n",
              "    .dataframe thead th {\n",
              "        text-align: right;\n",
              "    }\n",
              "</style>\n",
              "<table border=\"1\" class=\"dataframe\">\n",
              "  <thead>\n",
              "    <tr style=\"text-align: right;\">\n",
              "      <th></th>\n",
              "      <th>0</th>\n",
              "      <th>1</th>\n",
              "      <th>2</th>\n",
              "      <th>3</th>\n",
              "      <th>4</th>\n",
              "      <th>5</th>\n",
              "      <th>6</th>\n",
              "    </tr>\n",
              "  </thead>\n",
              "  <tbody>\n",
              "    <tr>\n",
              "      <th>0</th>\n",
              "      <td>17</td>\n",
              "      <td>3000204</td>\n",
              "      <td>+</td>\n",
              "      <td>0</td>\n",
              "      <td>0</td>\n",
              "      <td>CG</td>\n",
              "      <td>CGT</td>\n",
              "    </tr>\n",
              "    <tr>\n",
              "      <th>1</th>\n",
              "      <td>17</td>\n",
              "      <td>3000205</td>\n",
              "      <td>-</td>\n",
              "      <td>0</td>\n",
              "      <td>0</td>\n",
              "      <td>CG</td>\n",
              "      <td>CGA</td>\n",
              "    </tr>\n",
              "    <tr>\n",
              "      <th>2</th>\n",
              "      <td>17</td>\n",
              "      <td>3000350</td>\n",
              "      <td>+</td>\n",
              "      <td>0</td>\n",
              "      <td>0</td>\n",
              "      <td>CG</td>\n",
              "      <td>CGA</td>\n",
              "    </tr>\n",
              "    <tr>\n",
              "      <th>3</th>\n",
              "      <td>17</td>\n",
              "      <td>3000351</td>\n",
              "      <td>-</td>\n",
              "      <td>0</td>\n",
              "      <td>0</td>\n",
              "      <td>CG</td>\n",
              "      <td>CGC</td>\n",
              "    </tr>\n",
              "    <tr>\n",
              "      <th>4</th>\n",
              "      <td>17</td>\n",
              "      <td>3000417</td>\n",
              "      <td>+</td>\n",
              "      <td>0</td>\n",
              "      <td>0</td>\n",
              "      <td>CG</td>\n",
              "      <td>CGA</td>\n",
              "    </tr>\n",
              "  </tbody>\n",
              "</table>\n",
              "</div>"
            ],
            "text/plain": [
              "    0        1  2  3  4   5    6\n",
              "0  17  3000204  +  0  0  CG  CGT\n",
              "1  17  3000205  -  0  0  CG  CGA\n",
              "2  17  3000350  +  0  0  CG  CGA\n",
              "3  17  3000351  -  0  0  CG  CGC\n",
              "4  17  3000417  +  0  0  CG  CGA"
            ]
          },
          "metadata": {
            "tags": []
          },
          "execution_count": 22
        }
      ]
    },
    {
      "cell_type": "code",
      "metadata": {
        "id": "8QyDFDsApOyF",
        "colab": {
          "base_uri": "https://localhost:8080/",
          "height": 197
        },
        "outputId": "fe8ee14d-a94b-4bb5-d252-da01f3a3d38e"
      },
      "source": [
        "df_raw_data_H10.columns=[\"chromosome\",\"position\",\"strand\",\"count methylated\",\"count non-methylated\",\"C-context\",\"trinucleotide context\"]\n",
        "df_raw_data_H10.head()"
      ],
      "execution_count": null,
      "outputs": [
        {
          "output_type": "execute_result",
          "data": {
            "text/html": [
              "<div>\n",
              "<style scoped>\n",
              "    .dataframe tbody tr th:only-of-type {\n",
              "        vertical-align: middle;\n",
              "    }\n",
              "\n",
              "    .dataframe tbody tr th {\n",
              "        vertical-align: top;\n",
              "    }\n",
              "\n",
              "    .dataframe thead th {\n",
              "        text-align: right;\n",
              "    }\n",
              "</style>\n",
              "<table border=\"1\" class=\"dataframe\">\n",
              "  <thead>\n",
              "    <tr style=\"text-align: right;\">\n",
              "      <th></th>\n",
              "      <th>chromosome</th>\n",
              "      <th>position</th>\n",
              "      <th>strand</th>\n",
              "      <th>count methylated</th>\n",
              "      <th>count non-methylated</th>\n",
              "      <th>C-context</th>\n",
              "      <th>trinucleotide context</th>\n",
              "    </tr>\n",
              "  </thead>\n",
              "  <tbody>\n",
              "    <tr>\n",
              "      <th>0</th>\n",
              "      <td>17</td>\n",
              "      <td>3000204</td>\n",
              "      <td>+</td>\n",
              "      <td>0</td>\n",
              "      <td>0</td>\n",
              "      <td>CG</td>\n",
              "      <td>CGT</td>\n",
              "    </tr>\n",
              "    <tr>\n",
              "      <th>1</th>\n",
              "      <td>17</td>\n",
              "      <td>3000205</td>\n",
              "      <td>-</td>\n",
              "      <td>0</td>\n",
              "      <td>0</td>\n",
              "      <td>CG</td>\n",
              "      <td>CGA</td>\n",
              "    </tr>\n",
              "    <tr>\n",
              "      <th>2</th>\n",
              "      <td>17</td>\n",
              "      <td>3000350</td>\n",
              "      <td>+</td>\n",
              "      <td>0</td>\n",
              "      <td>0</td>\n",
              "      <td>CG</td>\n",
              "      <td>CGA</td>\n",
              "    </tr>\n",
              "    <tr>\n",
              "      <th>3</th>\n",
              "      <td>17</td>\n",
              "      <td>3000351</td>\n",
              "      <td>-</td>\n",
              "      <td>0</td>\n",
              "      <td>0</td>\n",
              "      <td>CG</td>\n",
              "      <td>CGC</td>\n",
              "    </tr>\n",
              "    <tr>\n",
              "      <th>4</th>\n",
              "      <td>17</td>\n",
              "      <td>3000417</td>\n",
              "      <td>+</td>\n",
              "      <td>0</td>\n",
              "      <td>0</td>\n",
              "      <td>CG</td>\n",
              "      <td>CGA</td>\n",
              "    </tr>\n",
              "  </tbody>\n",
              "</table>\n",
              "</div>"
            ],
            "text/plain": [
              "  chromosome  position  ... C-context  trinucleotide context\n",
              "0         17   3000204  ...        CG                    CGT\n",
              "1         17   3000205  ...        CG                    CGA\n",
              "2         17   3000350  ...        CG                    CGA\n",
              "3         17   3000351  ...        CG                    CGC\n",
              "4         17   3000417  ...        CG                    CGA\n",
              "\n",
              "[5 rows x 7 columns]"
            ]
          },
          "metadata": {
            "tags": []
          },
          "execution_count": 23
        }
      ]
    },
    {
      "cell_type": "code",
      "metadata": {
        "id": "YP6Ks-W-r3Nb",
        "colab": {
          "base_uri": "https://localhost:8080/",
          "height": 51
        },
        "outputId": "6efe62e5-beca-4c68-890c-f0cc60aacaa5"
      },
      "source": [
        "df_raw_data_H10.chromosome.unique()"
      ],
      "execution_count": null,
      "outputs": [
        {
          "output_type": "execute_result",
          "data": {
            "text/plain": [
              "array([17, 19, 7, 4, 8, 1, 5, 13, 3, 2, 6, 14, 18, 16, 10, 11, 9, 15, 12,\n",
              "       '12', 'X', 'Y', 'MT'], dtype=object)"
            ]
          },
          "metadata": {
            "tags": []
          },
          "execution_count": 6
        }
      ]
    },
    {
      "cell_type": "markdown",
      "metadata": {
        "id": "Xu-_q_-UsYF6"
      },
      "source": [
        "Where are chromosome 20, 21 and 22?"
      ]
    },
    {
      "cell_type": "code",
      "metadata": {
        "id": "GHWxWjbHtvhf"
      },
      "source": [
        "df_raw_data_H10_mitochondria=df_raw_data_H10[df_raw_data_H10['chromosome']=='MT']"
      ],
      "execution_count": null,
      "outputs": []
    },
    {
      "cell_type": "markdown",
      "metadata": {
        "id": "aIqLCd9WXH-a"
      },
      "source": [
        "## Can we find evidence for sequencing the mtDNA at position 5024?"
      ]
    },
    {
      "cell_type": "code",
      "metadata": {
        "id": "nltYA4v8DZXP",
        "colab": {
          "base_uri": "https://localhost:8080/",
          "height": 419
        },
        "outputId": "75445f7b-1b3f-4c0a-ccb0-e123689a4694"
      },
      "source": [
        "df_raw_data_H10_mitochondria"
      ],
      "execution_count": null,
      "outputs": [
        {
          "output_type": "execute_result",
          "data": {
            "text/html": [
              "<div>\n",
              "<style scoped>\n",
              "    .dataframe tbody tr th:only-of-type {\n",
              "        vertical-align: middle;\n",
              "    }\n",
              "\n",
              "    .dataframe tbody tr th {\n",
              "        vertical-align: top;\n",
              "    }\n",
              "\n",
              "    .dataframe thead th {\n",
              "        text-align: right;\n",
              "    }\n",
              "</style>\n",
              "<table border=\"1\" class=\"dataframe\">\n",
              "  <thead>\n",
              "    <tr style=\"text-align: right;\">\n",
              "      <th></th>\n",
              "      <th>chromosome</th>\n",
              "      <th>position</th>\n",
              "      <th>strand</th>\n",
              "      <th>count methylated</th>\n",
              "      <th>count non-methylated</th>\n",
              "      <th>C-context</th>\n",
              "      <th>trinucleotide context</th>\n",
              "    </tr>\n",
              "  </thead>\n",
              "  <tbody>\n",
              "    <tr>\n",
              "      <th>43735100</th>\n",
              "      <td>MT</td>\n",
              "      <td>134</td>\n",
              "      <td>+</td>\n",
              "      <td>2</td>\n",
              "      <td>2</td>\n",
              "      <td>CG</td>\n",
              "      <td>CGG</td>\n",
              "    </tr>\n",
              "    <tr>\n",
              "      <th>43735101</th>\n",
              "      <td>MT</td>\n",
              "      <td>135</td>\n",
              "      <td>-</td>\n",
              "      <td>7</td>\n",
              "      <td>3</td>\n",
              "      <td>CG</td>\n",
              "      <td>CGG</td>\n",
              "    </tr>\n",
              "    <tr>\n",
              "      <th>43735102</th>\n",
              "      <td>MT</td>\n",
              "      <td>229</td>\n",
              "      <td>+</td>\n",
              "      <td>3</td>\n",
              "      <td>1</td>\n",
              "      <td>CG</td>\n",
              "      <td>CGG</td>\n",
              "    </tr>\n",
              "    <tr>\n",
              "      <th>43735103</th>\n",
              "      <td>MT</td>\n",
              "      <td>230</td>\n",
              "      <td>-</td>\n",
              "      <td>3</td>\n",
              "      <td>4</td>\n",
              "      <td>CG</td>\n",
              "      <td>CGT</td>\n",
              "    </tr>\n",
              "    <tr>\n",
              "      <th>43735104</th>\n",
              "      <td>MT</td>\n",
              "      <td>263</td>\n",
              "      <td>+</td>\n",
              "      <td>1</td>\n",
              "      <td>0</td>\n",
              "      <td>CG</td>\n",
              "      <td>CGA</td>\n",
              "    </tr>\n",
              "    <tr>\n",
              "      <th>...</th>\n",
              "      <td>...</td>\n",
              "      <td>...</td>\n",
              "      <td>...</td>\n",
              "      <td>...</td>\n",
              "      <td>...</td>\n",
              "      <td>...</td>\n",
              "      <td>...</td>\n",
              "    </tr>\n",
              "    <tr>\n",
              "      <th>43735669</th>\n",
              "      <td>MT</td>\n",
              "      <td>16012</td>\n",
              "      <td>-</td>\n",
              "      <td>6</td>\n",
              "      <td>13</td>\n",
              "      <td>CG</td>\n",
              "      <td>CGG</td>\n",
              "    </tr>\n",
              "    <tr>\n",
              "      <th>43735670</th>\n",
              "      <td>MT</td>\n",
              "      <td>16251</td>\n",
              "      <td>+</td>\n",
              "      <td>2</td>\n",
              "      <td>0</td>\n",
              "      <td>CG</td>\n",
              "      <td>CGT</td>\n",
              "    </tr>\n",
              "    <tr>\n",
              "      <th>43735671</th>\n",
              "      <td>MT</td>\n",
              "      <td>16252</td>\n",
              "      <td>-</td>\n",
              "      <td>1</td>\n",
              "      <td>1</td>\n",
              "      <td>CG</td>\n",
              "      <td>CGG</td>\n",
              "    </tr>\n",
              "    <tr>\n",
              "      <th>43735672</th>\n",
              "      <td>MT</td>\n",
              "      <td>16282</td>\n",
              "      <td>+</td>\n",
              "      <td>2</td>\n",
              "      <td>0</td>\n",
              "      <td>CG</td>\n",
              "      <td>CGC</td>\n",
              "    </tr>\n",
              "    <tr>\n",
              "      <th>43735673</th>\n",
              "      <td>MT</td>\n",
              "      <td>16283</td>\n",
              "      <td>-</td>\n",
              "      <td>0</td>\n",
              "      <td>2</td>\n",
              "      <td>CG</td>\n",
              "      <td>CGT</td>\n",
              "    </tr>\n",
              "  </tbody>\n",
              "</table>\n",
              "<p>574 rows × 7 columns</p>\n",
              "</div>"
            ],
            "text/plain": [
              "         chromosome  position  ... C-context  trinucleotide context\n",
              "43735100         MT       134  ...        CG                    CGG\n",
              "43735101         MT       135  ...        CG                    CGG\n",
              "43735102         MT       229  ...        CG                    CGG\n",
              "43735103         MT       230  ...        CG                    CGT\n",
              "43735104         MT       263  ...        CG                    CGA\n",
              "...             ...       ...  ...       ...                    ...\n",
              "43735669         MT     16012  ...        CG                    CGG\n",
              "43735670         MT     16251  ...        CG                    CGT\n",
              "43735671         MT     16252  ...        CG                    CGG\n",
              "43735672         MT     16282  ...        CG                    CGC\n",
              "43735673         MT     16283  ...        CG                    CGT\n",
              "\n",
              "[574 rows x 7 columns]"
            ]
          },
          "metadata": {
            "tags": []
          },
          "execution_count": 5
        }
      ]
    },
    {
      "cell_type": "code",
      "metadata": {
        "id": "JmSma8G_EdxT",
        "colab": {
          "base_uri": "https://localhost:8080/",
          "height": 153
        },
        "outputId": "fe9c11ba-6506-455c-92db-60b26f0bda9a"
      },
      "source": [
        "df_raw_data_H10_mitochondria.dtypes"
      ],
      "execution_count": null,
      "outputs": [
        {
          "output_type": "execute_result",
          "data": {
            "text/plain": [
              "chromosome               object\n",
              "position                  int64\n",
              "strand                   object\n",
              "count methylated          int64\n",
              "count non-methylated      int64\n",
              "C-context                object\n",
              "trinucleotide context    object\n",
              "dtype: object"
            ]
          },
          "metadata": {
            "tags": []
          },
          "execution_count": 13
        }
      ]
    },
    {
      "cell_type": "code",
      "metadata": {
        "id": "jZKRH_r0Diok",
        "colab": {
          "base_uri": "https://localhost:8080/",
          "height": 158
        },
        "outputId": "1076c609-d952-4477-e92f-2d2c829b0851"
      },
      "source": [
        "\n",
        "df_raw_data_H10_mitochondria['position'].astype(str)\n",
        "\n",
        "df_raw_data_H10_mitochondria.dtypes\n"
      ],
      "execution_count": null,
      "outputs": [
        {
          "output_type": "execute_result",
          "data": {
            "text/plain": [
              "chromosome               object\n",
              "position                  int64\n",
              "strand                   object\n",
              "count methylated          int64\n",
              "count non-methylated      int64\n",
              "C-context                object\n",
              "trinucleotide context    object\n",
              "dtype: object"
            ]
          },
          "metadata": {
            "tags": []
          },
          "execution_count": 5
        }
      ]
    },
    {
      "cell_type": "code",
      "metadata": {
        "id": "OdGEfR0hJMoH",
        "colab": {
          "base_uri": "https://localhost:8080/",
          "height": 49
        },
        "outputId": "16d72d2c-95ba-4bfe-e623-195df8bf8021"
      },
      "source": [
        "df_raw_data_H10_mitochondria[df_raw_data_H10_mitochondria['position'].str.contains('5024')]"
      ],
      "execution_count": null,
      "outputs": [
        {
          "output_type": "execute_result",
          "data": {
            "text/html": [
              "<div>\n",
              "<style scoped>\n",
              "    .dataframe tbody tr th:only-of-type {\n",
              "        vertical-align: middle;\n",
              "    }\n",
              "\n",
              "    .dataframe tbody tr th {\n",
              "        vertical-align: top;\n",
              "    }\n",
              "\n",
              "    .dataframe thead th {\n",
              "        text-align: right;\n",
              "    }\n",
              "</style>\n",
              "<table border=\"1\" class=\"dataframe\">\n",
              "  <thead>\n",
              "    <tr style=\"text-align: right;\">\n",
              "      <th></th>\n",
              "      <th>chromosome</th>\n",
              "      <th>position</th>\n",
              "      <th>strand</th>\n",
              "      <th>count methylated</th>\n",
              "      <th>count non-methylated</th>\n",
              "      <th>C-context</th>\n",
              "      <th>trinucleotide context</th>\n",
              "    </tr>\n",
              "  </thead>\n",
              "  <tbody>\n",
              "  </tbody>\n",
              "</table>\n",
              "</div>"
            ],
            "text/plain": [
              "Empty DataFrame\n",
              "Columns: [chromosome, position, strand, count methylated, count non-methylated, C-context, trinucleotide context]\n",
              "Index: []"
            ]
          },
          "metadata": {
            "tags": []
          },
          "execution_count": 32
        }
      ]
    },
    {
      "cell_type": "markdown",
      "metadata": {
        "id": "mU9ScrFEJO4c"
      },
      "source": [
        "Does not seem like the position we are looking for is found in this data. But can we get closer to the position?"
      ]
    },
    {
      "cell_type": "code",
      "metadata": {
        "id": "aQd4JIjRIzeX",
        "colab": {
          "base_uri": "https://localhost:8080/",
          "height": 419
        },
        "outputId": "2a2ec092-37ea-4f18-c90d-b5758f2d9c35"
      },
      "source": [
        "df_raw_data_H10_mitochondria[df_raw_data_H10_mitochondria['position'].str.contains('5')]"
      ],
      "execution_count": null,
      "outputs": [
        {
          "output_type": "execute_result",
          "data": {
            "text/html": [
              "<div>\n",
              "<style scoped>\n",
              "    .dataframe tbody tr th:only-of-type {\n",
              "        vertical-align: middle;\n",
              "    }\n",
              "\n",
              "    .dataframe tbody tr th {\n",
              "        vertical-align: top;\n",
              "    }\n",
              "\n",
              "    .dataframe thead th {\n",
              "        text-align: right;\n",
              "    }\n",
              "</style>\n",
              "<table border=\"1\" class=\"dataframe\">\n",
              "  <thead>\n",
              "    <tr style=\"text-align: right;\">\n",
              "      <th></th>\n",
              "      <th>chromosome</th>\n",
              "      <th>position</th>\n",
              "      <th>strand</th>\n",
              "      <th>count methylated</th>\n",
              "      <th>count non-methylated</th>\n",
              "      <th>C-context</th>\n",
              "      <th>trinucleotide context</th>\n",
              "    </tr>\n",
              "  </thead>\n",
              "  <tbody>\n",
              "    <tr>\n",
              "      <th>43735101</th>\n",
              "      <td>MT</td>\n",
              "      <td>135</td>\n",
              "      <td>-</td>\n",
              "      <td>7</td>\n",
              "      <td>3</td>\n",
              "      <td>CG</td>\n",
              "      <td>CGG</td>\n",
              "    </tr>\n",
              "    <tr>\n",
              "      <th>43735106</th>\n",
              "      <td>MT</td>\n",
              "      <td>305</td>\n",
              "      <td>+</td>\n",
              "      <td>1</td>\n",
              "      <td>1</td>\n",
              "      <td>CG</td>\n",
              "      <td>CGT</td>\n",
              "    </tr>\n",
              "    <tr>\n",
              "      <th>43735114</th>\n",
              "      <td>MT</td>\n",
              "      <td>351</td>\n",
              "      <td>+</td>\n",
              "      <td>0</td>\n",
              "      <td>1</td>\n",
              "      <td>CG</td>\n",
              "      <td>CGG</td>\n",
              "    </tr>\n",
              "    <tr>\n",
              "      <th>43735115</th>\n",
              "      <td>MT</td>\n",
              "      <td>352</td>\n",
              "      <td>-</td>\n",
              "      <td>0</td>\n",
              "      <td>5</td>\n",
              "      <td>CG</td>\n",
              "      <td>CGA</td>\n",
              "    </tr>\n",
              "    <tr>\n",
              "      <th>43735116</th>\n",
              "      <td>MT</td>\n",
              "      <td>354</td>\n",
              "      <td>+</td>\n",
              "      <td>0</td>\n",
              "      <td>1</td>\n",
              "      <td>CG</td>\n",
              "      <td>CGT</td>\n",
              "    </tr>\n",
              "    <tr>\n",
              "      <th>...</th>\n",
              "      <td>...</td>\n",
              "      <td>...</td>\n",
              "      <td>...</td>\n",
              "      <td>...</td>\n",
              "      <td>...</td>\n",
              "      <td>...</td>\n",
              "      <td>...</td>\n",
              "    </tr>\n",
              "    <tr>\n",
              "      <th>43735665</th>\n",
              "      <td>MT</td>\n",
              "      <td>15985</td>\n",
              "      <td>-</td>\n",
              "      <td>5</td>\n",
              "      <td>10</td>\n",
              "      <td>CG</td>\n",
              "      <td>CGT</td>\n",
              "    </tr>\n",
              "    <tr>\n",
              "      <th>43735666</th>\n",
              "      <td>MT</td>\n",
              "      <td>15992</td>\n",
              "      <td>+</td>\n",
              "      <td>0</td>\n",
              "      <td>1</td>\n",
              "      <td>CG</td>\n",
              "      <td>CGG</td>\n",
              "    </tr>\n",
              "    <tr>\n",
              "      <th>43735667</th>\n",
              "      <td>MT</td>\n",
              "      <td>15993</td>\n",
              "      <td>-</td>\n",
              "      <td>7</td>\n",
              "      <td>13</td>\n",
              "      <td>CG</td>\n",
              "      <td>CGT</td>\n",
              "    </tr>\n",
              "    <tr>\n",
              "      <th>43735670</th>\n",
              "      <td>MT</td>\n",
              "      <td>16251</td>\n",
              "      <td>+</td>\n",
              "      <td>2</td>\n",
              "      <td>0</td>\n",
              "      <td>CG</td>\n",
              "      <td>CGT</td>\n",
              "    </tr>\n",
              "    <tr>\n",
              "      <th>43735671</th>\n",
              "      <td>MT</td>\n",
              "      <td>16252</td>\n",
              "      <td>-</td>\n",
              "      <td>1</td>\n",
              "      <td>1</td>\n",
              "      <td>CG</td>\n",
              "      <td>CGG</td>\n",
              "    </tr>\n",
              "  </tbody>\n",
              "</table>\n",
              "<p>208 rows × 7 columns</p>\n",
              "</div>"
            ],
            "text/plain": [
              "         chromosome position  ... C-context  trinucleotide context\n",
              "43735101         MT      135  ...        CG                    CGG\n",
              "43735106         MT      305  ...        CG                    CGT\n",
              "43735114         MT      351  ...        CG                    CGG\n",
              "43735115         MT      352  ...        CG                    CGA\n",
              "43735116         MT      354  ...        CG                    CGT\n",
              "...             ...      ...  ...       ...                    ...\n",
              "43735665         MT    15985  ...        CG                    CGT\n",
              "43735666         MT    15992  ...        CG                    CGG\n",
              "43735667         MT    15993  ...        CG                    CGT\n",
              "43735670         MT    16251  ...        CG                    CGT\n",
              "43735671         MT    16252  ...        CG                    CGG\n",
              "\n",
              "[208 rows x 7 columns]"
            ]
          },
          "metadata": {
            "tags": []
          },
          "execution_count": 31
        }
      ]
    },
    {
      "cell_type": "markdown",
      "metadata": {
        "id": "5Dzn7m6dI2Oe"
      },
      "source": [
        "Too many to look at. I am looking for position 5024."
      ]
    },
    {
      "cell_type": "code",
      "metadata": {
        "id": "HA17-qT4Iab7",
        "colab": {
          "base_uri": "https://localhost:8080/",
          "height": 483
        },
        "outputId": "5e420e58-321e-4573-e6bf-15c4da98eac3"
      },
      "source": [
        "df_raw_data_H10_mitochondria[df_raw_data_H10_mitochondria['position'].str.contains('50')]"
      ],
      "execution_count": null,
      "outputs": [
        {
          "output_type": "execute_result",
          "data": {
            "text/html": [
              "<div>\n",
              "<style scoped>\n",
              "    .dataframe tbody tr th:only-of-type {\n",
              "        vertical-align: middle;\n",
              "    }\n",
              "\n",
              "    .dataframe tbody tr th {\n",
              "        vertical-align: top;\n",
              "    }\n",
              "\n",
              "    .dataframe thead th {\n",
              "        text-align: right;\n",
              "    }\n",
              "</style>\n",
              "<table border=\"1\" class=\"dataframe\">\n",
              "  <thead>\n",
              "    <tr style=\"text-align: right;\">\n",
              "      <th></th>\n",
              "      <th>chromosome</th>\n",
              "      <th>position</th>\n",
              "      <th>strand</th>\n",
              "      <th>count methylated</th>\n",
              "      <th>count non-methylated</th>\n",
              "      <th>C-context</th>\n",
              "      <th>trinucleotide context</th>\n",
              "    </tr>\n",
              "  </thead>\n",
              "  <tbody>\n",
              "    <tr>\n",
              "      <th>43735206</th>\n",
              "      <td>MT</td>\n",
              "      <td>2502</td>\n",
              "      <td>+</td>\n",
              "      <td>0</td>\n",
              "      <td>0</td>\n",
              "      <td>CG</td>\n",
              "      <td>CGT</td>\n",
              "    </tr>\n",
              "    <tr>\n",
              "      <th>43735207</th>\n",
              "      <td>MT</td>\n",
              "      <td>2503</td>\n",
              "      <td>-</td>\n",
              "      <td>1</td>\n",
              "      <td>2</td>\n",
              "      <td>CG</td>\n",
              "      <td>CGT</td>\n",
              "    </tr>\n",
              "    <tr>\n",
              "      <th>43735219</th>\n",
              "      <td>MT</td>\n",
              "      <td>2650</td>\n",
              "      <td>-</td>\n",
              "      <td>0</td>\n",
              "      <td>3</td>\n",
              "      <td>CG</td>\n",
              "      <td>CGT</td>\n",
              "    </tr>\n",
              "    <tr>\n",
              "      <th>43735228</th>\n",
              "      <td>MT</td>\n",
              "      <td>2850</td>\n",
              "      <td>+</td>\n",
              "      <td>1</td>\n",
              "      <td>0</td>\n",
              "      <td>CG</td>\n",
              "      <td>CGA</td>\n",
              "    </tr>\n",
              "    <tr>\n",
              "      <th>43735238</th>\n",
              "      <td>MT</td>\n",
              "      <td>3150</td>\n",
              "      <td>+</td>\n",
              "      <td>4</td>\n",
              "      <td>0</td>\n",
              "      <td>CG</td>\n",
              "      <td>CGA</td>\n",
              "    </tr>\n",
              "    <tr>\n",
              "      <th>43735454</th>\n",
              "      <td>MT</td>\n",
              "      <td>9505</td>\n",
              "      <td>+</td>\n",
              "      <td>0</td>\n",
              "      <td>0</td>\n",
              "      <td>CG</td>\n",
              "      <td>CGC</td>\n",
              "    </tr>\n",
              "    <tr>\n",
              "      <th>43735455</th>\n",
              "      <td>MT</td>\n",
              "      <td>9506</td>\n",
              "      <td>-</td>\n",
              "      <td>0</td>\n",
              "      <td>0</td>\n",
              "      <td>CG</td>\n",
              "      <td>CGT</td>\n",
              "    </tr>\n",
              "    <tr>\n",
              "      <th>43735612</th>\n",
              "      <td>MT</td>\n",
              "      <td>14507</td>\n",
              "      <td>+</td>\n",
              "      <td>4</td>\n",
              "      <td>1</td>\n",
              "      <td>CG</td>\n",
              "      <td>CGC</td>\n",
              "    </tr>\n",
              "    <tr>\n",
              "      <th>43735613</th>\n",
              "      <td>MT</td>\n",
              "      <td>14508</td>\n",
              "      <td>-</td>\n",
              "      <td>6</td>\n",
              "      <td>6</td>\n",
              "      <td>CG</td>\n",
              "      <td>CGA</td>\n",
              "    </tr>\n",
              "    <tr>\n",
              "      <th>43735636</th>\n",
              "      <td>MT</td>\n",
              "      <td>15081</td>\n",
              "      <td>+</td>\n",
              "      <td>13</td>\n",
              "      <td>0</td>\n",
              "      <td>CG</td>\n",
              "      <td>CGA</td>\n",
              "    </tr>\n",
              "    <tr>\n",
              "      <th>43735637</th>\n",
              "      <td>MT</td>\n",
              "      <td>15082</td>\n",
              "      <td>-</td>\n",
              "      <td>14</td>\n",
              "      <td>14</td>\n",
              "      <td>CG</td>\n",
              "      <td>CGT</td>\n",
              "    </tr>\n",
              "    <tr>\n",
              "      <th>43735638</th>\n",
              "      <td>MT</td>\n",
              "      <td>15096</td>\n",
              "      <td>+</td>\n",
              "      <td>10</td>\n",
              "      <td>1</td>\n",
              "      <td>CG</td>\n",
              "      <td>CGC</td>\n",
              "    </tr>\n",
              "    <tr>\n",
              "      <th>43735639</th>\n",
              "      <td>MT</td>\n",
              "      <td>15097</td>\n",
              "      <td>-</td>\n",
              "      <td>15</td>\n",
              "      <td>14</td>\n",
              "      <td>CG</td>\n",
              "      <td>CGG</td>\n",
              "    </tr>\n",
              "    <tr>\n",
              "      <th>43735662</th>\n",
              "      <td>MT</td>\n",
              "      <td>15950</td>\n",
              "      <td>+</td>\n",
              "      <td>0</td>\n",
              "      <td>1</td>\n",
              "      <td>CG</td>\n",
              "      <td>CGT</td>\n",
              "    </tr>\n",
              "  </tbody>\n",
              "</table>\n",
              "</div>"
            ],
            "text/plain": [
              "         chromosome position  ... C-context  trinucleotide context\n",
              "43735206         MT     2502  ...        CG                    CGT\n",
              "43735207         MT     2503  ...        CG                    CGT\n",
              "43735219         MT     2650  ...        CG                    CGT\n",
              "43735228         MT     2850  ...        CG                    CGA\n",
              "43735238         MT     3150  ...        CG                    CGA\n",
              "43735454         MT     9505  ...        CG                    CGC\n",
              "43735455         MT     9506  ...        CG                    CGT\n",
              "43735612         MT    14507  ...        CG                    CGC\n",
              "43735613         MT    14508  ...        CG                    CGA\n",
              "43735636         MT    15081  ...        CG                    CGA\n",
              "43735637         MT    15082  ...        CG                    CGT\n",
              "43735638         MT    15096  ...        CG                    CGC\n",
              "43735639         MT    15097  ...        CG                    CGG\n",
              "43735662         MT    15950  ...        CG                    CGT\n",
              "\n",
              "[14 rows x 7 columns]"
            ]
          },
          "metadata": {
            "tags": []
          },
          "execution_count": 30
        }
      ]
    },
    {
      "cell_type": "markdown",
      "metadata": {
        "id": "-ZtRkxSKBnBc"
      },
      "source": [
        "How about positions starting with number 5?"
      ]
    },
    {
      "cell_type": "code",
      "metadata": {
        "id": "3isWByc2J1-L",
        "colab": {
          "base_uri": "https://localhost:8080/",
          "height": 1000
        },
        "outputId": "f696428d-22f2-4108-9c18-8bc63597758f"
      },
      "source": [
        "df_raw_data_H10_mitochondria[df_raw_data_H10_mitochondria['position'].str.contains('\\A5')]"
      ],
      "execution_count": null,
      "outputs": [
        {
          "output_type": "execute_result",
          "data": {
            "text/html": [
              "<div>\n",
              "<style scoped>\n",
              "    .dataframe tbody tr th:only-of-type {\n",
              "        vertical-align: middle;\n",
              "    }\n",
              "\n",
              "    .dataframe tbody tr th {\n",
              "        vertical-align: top;\n",
              "    }\n",
              "\n",
              "    .dataframe thead th {\n",
              "        text-align: right;\n",
              "    }\n",
              "</style>\n",
              "<table border=\"1\" class=\"dataframe\">\n",
              "  <thead>\n",
              "    <tr style=\"text-align: right;\">\n",
              "      <th></th>\n",
              "      <th>chromosome</th>\n",
              "      <th>position</th>\n",
              "      <th>strand</th>\n",
              "      <th>count methylated</th>\n",
              "      <th>count non-methylated</th>\n",
              "      <th>C-context</th>\n",
              "      <th>trinucleotide context</th>\n",
              "    </tr>\n",
              "  </thead>\n",
              "  <tbody>\n",
              "    <tr>\n",
              "      <th>43735124</th>\n",
              "      <td>MT</td>\n",
              "      <td>596</td>\n",
              "      <td>+</td>\n",
              "      <td>7</td>\n",
              "      <td>1</td>\n",
              "      <td>CG</td>\n",
              "      <td>CGG</td>\n",
              "    </tr>\n",
              "    <tr>\n",
              "      <th>43735125</th>\n",
              "      <td>MT</td>\n",
              "      <td>597</td>\n",
              "      <td>-</td>\n",
              "      <td>5</td>\n",
              "      <td>9</td>\n",
              "      <td>CG</td>\n",
              "      <td>CGC</td>\n",
              "    </tr>\n",
              "    <tr>\n",
              "      <th>43735298</th>\n",
              "      <td>MT</td>\n",
              "      <td>5113</td>\n",
              "      <td>+</td>\n",
              "      <td>0</td>\n",
              "      <td>0</td>\n",
              "      <td>CG</td>\n",
              "      <td>CGA</td>\n",
              "    </tr>\n",
              "    <tr>\n",
              "      <th>43735299</th>\n",
              "      <td>MT</td>\n",
              "      <td>5114</td>\n",
              "      <td>-</td>\n",
              "      <td>0</td>\n",
              "      <td>4</td>\n",
              "      <td>CG</td>\n",
              "      <td>CGT</td>\n",
              "    </tr>\n",
              "    <tr>\n",
              "      <th>43735300</th>\n",
              "      <td>MT</td>\n",
              "      <td>5167</td>\n",
              "      <td>+</td>\n",
              "      <td>3</td>\n",
              "      <td>0</td>\n",
              "      <td>CG</td>\n",
              "      <td>CGC</td>\n",
              "    </tr>\n",
              "    <tr>\n",
              "      <th>43735301</th>\n",
              "      <td>MT</td>\n",
              "      <td>5168</td>\n",
              "      <td>-</td>\n",
              "      <td>0</td>\n",
              "      <td>2</td>\n",
              "      <td>CG</td>\n",
              "      <td>CGG</td>\n",
              "    </tr>\n",
              "    <tr>\n",
              "      <th>43735302</th>\n",
              "      <td>MT</td>\n",
              "      <td>5170</td>\n",
              "      <td>+</td>\n",
              "      <td>3</td>\n",
              "      <td>0</td>\n",
              "      <td>CG</td>\n",
              "      <td>CGA</td>\n",
              "    </tr>\n",
              "    <tr>\n",
              "      <th>43735303</th>\n",
              "      <td>MT</td>\n",
              "      <td>5171</td>\n",
              "      <td>-</td>\n",
              "      <td>0</td>\n",
              "      <td>2</td>\n",
              "      <td>CG</td>\n",
              "      <td>CGG</td>\n",
              "    </tr>\n",
              "    <tr>\n",
              "      <th>43735304</th>\n",
              "      <td>MT</td>\n",
              "      <td>5186</td>\n",
              "      <td>+</td>\n",
              "      <td>2</td>\n",
              "      <td>1</td>\n",
              "      <td>CG</td>\n",
              "      <td>CGG</td>\n",
              "    </tr>\n",
              "    <tr>\n",
              "      <th>43735305</th>\n",
              "      <td>MT</td>\n",
              "      <td>5187</td>\n",
              "      <td>-</td>\n",
              "      <td>1</td>\n",
              "      <td>1</td>\n",
              "      <td>CG</td>\n",
              "      <td>CGC</td>\n",
              "    </tr>\n",
              "    <tr>\n",
              "      <th>43735306</th>\n",
              "      <td>MT</td>\n",
              "      <td>5221</td>\n",
              "      <td>+</td>\n",
              "      <td>3</td>\n",
              "      <td>0</td>\n",
              "      <td>CG</td>\n",
              "      <td>CGA</td>\n",
              "    </tr>\n",
              "    <tr>\n",
              "      <th>43735307</th>\n",
              "      <td>MT</td>\n",
              "      <td>5222</td>\n",
              "      <td>-</td>\n",
              "      <td>1</td>\n",
              "      <td>1</td>\n",
              "      <td>CG</td>\n",
              "      <td>CGA</td>\n",
              "    </tr>\n",
              "    <tr>\n",
              "      <th>43735308</th>\n",
              "      <td>MT</td>\n",
              "      <td>5234</td>\n",
              "      <td>+</td>\n",
              "      <td>3</td>\n",
              "      <td>0</td>\n",
              "      <td>CG</td>\n",
              "      <td>CGA</td>\n",
              "    </tr>\n",
              "    <tr>\n",
              "      <th>43735309</th>\n",
              "      <td>MT</td>\n",
              "      <td>5235</td>\n",
              "      <td>-</td>\n",
              "      <td>1</td>\n",
              "      <td>1</td>\n",
              "      <td>CG</td>\n",
              "      <td>CGA</td>\n",
              "    </tr>\n",
              "    <tr>\n",
              "      <th>43735310</th>\n",
              "      <td>MT</td>\n",
              "      <td>5340</td>\n",
              "      <td>+</td>\n",
              "      <td>1</td>\n",
              "      <td>1</td>\n",
              "      <td>CG</td>\n",
              "      <td>CGT</td>\n",
              "    </tr>\n",
              "    <tr>\n",
              "      <th>43735311</th>\n",
              "      <td>MT</td>\n",
              "      <td>5341</td>\n",
              "      <td>-</td>\n",
              "      <td>3</td>\n",
              "      <td>2</td>\n",
              "      <td>CG</td>\n",
              "      <td>CGA</td>\n",
              "    </tr>\n",
              "    <tr>\n",
              "      <th>43735312</th>\n",
              "      <td>MT</td>\n",
              "      <td>5372</td>\n",
              "      <td>+</td>\n",
              "      <td>1</td>\n",
              "      <td>2</td>\n",
              "      <td>CG</td>\n",
              "      <td>CGG</td>\n",
              "    </tr>\n",
              "    <tr>\n",
              "      <th>43735313</th>\n",
              "      <td>MT</td>\n",
              "      <td>5373</td>\n",
              "      <td>-</td>\n",
              "      <td>5</td>\n",
              "      <td>3</td>\n",
              "      <td>CG</td>\n",
              "      <td>CGA</td>\n",
              "    </tr>\n",
              "    <tr>\n",
              "      <th>43735314</th>\n",
              "      <td>MT</td>\n",
              "      <td>5393</td>\n",
              "      <td>+</td>\n",
              "      <td>0</td>\n",
              "      <td>2</td>\n",
              "      <td>CG</td>\n",
              "      <td>CGG</td>\n",
              "    </tr>\n",
              "    <tr>\n",
              "      <th>43735315</th>\n",
              "      <td>MT</td>\n",
              "      <td>5394</td>\n",
              "      <td>-</td>\n",
              "      <td>3</td>\n",
              "      <td>3</td>\n",
              "      <td>CG</td>\n",
              "      <td>CGA</td>\n",
              "    </tr>\n",
              "    <tr>\n",
              "      <th>43735316</th>\n",
              "      <td>MT</td>\n",
              "      <td>5404</td>\n",
              "      <td>+</td>\n",
              "      <td>0</td>\n",
              "      <td>1</td>\n",
              "      <td>CG</td>\n",
              "      <td>CGG</td>\n",
              "    </tr>\n",
              "    <tr>\n",
              "      <th>43735317</th>\n",
              "      <td>MT</td>\n",
              "      <td>5405</td>\n",
              "      <td>-</td>\n",
              "      <td>3</td>\n",
              "      <td>3</td>\n",
              "      <td>CG</td>\n",
              "      <td>CGC</td>\n",
              "    </tr>\n",
              "    <tr>\n",
              "      <th>43735318</th>\n",
              "      <td>MT</td>\n",
              "      <td>5439</td>\n",
              "      <td>+</td>\n",
              "      <td>1</td>\n",
              "      <td>1</td>\n",
              "      <td>CG</td>\n",
              "      <td>CGA</td>\n",
              "    </tr>\n",
              "    <tr>\n",
              "      <th>43735319</th>\n",
              "      <td>MT</td>\n",
              "      <td>5440</td>\n",
              "      <td>-</td>\n",
              "      <td>3</td>\n",
              "      <td>1</td>\n",
              "      <td>CG</td>\n",
              "      <td>CGA</td>\n",
              "    </tr>\n",
              "    <tr>\n",
              "      <th>43735320</th>\n",
              "      <td>MT</td>\n",
              "      <td>5498</td>\n",
              "      <td>+</td>\n",
              "      <td>1</td>\n",
              "      <td>0</td>\n",
              "      <td>CG</td>\n",
              "      <td>CGT</td>\n",
              "    </tr>\n",
              "    <tr>\n",
              "      <th>43735321</th>\n",
              "      <td>MT</td>\n",
              "      <td>5499</td>\n",
              "      <td>-</td>\n",
              "      <td>4</td>\n",
              "      <td>4</td>\n",
              "      <td>CG</td>\n",
              "      <td>CGA</td>\n",
              "    </tr>\n",
              "    <tr>\n",
              "      <th>43735322</th>\n",
              "      <td>MT</td>\n",
              "      <td>5588</td>\n",
              "      <td>+</td>\n",
              "      <td>0</td>\n",
              "      <td>0</td>\n",
              "      <td>CG</td>\n",
              "      <td>CGG</td>\n",
              "    </tr>\n",
              "    <tr>\n",
              "      <th>43735323</th>\n",
              "      <td>MT</td>\n",
              "      <td>5589</td>\n",
              "      <td>-</td>\n",
              "      <td>5</td>\n",
              "      <td>6</td>\n",
              "      <td>CG</td>\n",
              "      <td>CGA</td>\n",
              "    </tr>\n",
              "    <tr>\n",
              "      <th>43735324</th>\n",
              "      <td>MT</td>\n",
              "      <td>5613</td>\n",
              "      <td>+</td>\n",
              "      <td>0</td>\n",
              "      <td>0</td>\n",
              "      <td>CG</td>\n",
              "      <td>CGA</td>\n",
              "    </tr>\n",
              "    <tr>\n",
              "      <th>43735325</th>\n",
              "      <td>MT</td>\n",
              "      <td>5614</td>\n",
              "      <td>-</td>\n",
              "      <td>4</td>\n",
              "      <td>6</td>\n",
              "      <td>CG</td>\n",
              "      <td>CGT</td>\n",
              "    </tr>\n",
              "    <tr>\n",
              "      <th>43735326</th>\n",
              "      <td>MT</td>\n",
              "      <td>5726</td>\n",
              "      <td>+</td>\n",
              "      <td>1</td>\n",
              "      <td>0</td>\n",
              "      <td>CG</td>\n",
              "      <td>CGG</td>\n",
              "    </tr>\n",
              "    <tr>\n",
              "      <th>43735327</th>\n",
              "      <td>MT</td>\n",
              "      <td>5727</td>\n",
              "      <td>-</td>\n",
              "      <td>3</td>\n",
              "      <td>4</td>\n",
              "      <td>CG</td>\n",
              "      <td>CGG</td>\n",
              "    </tr>\n",
              "    <tr>\n",
              "      <th>43735328</th>\n",
              "      <td>MT</td>\n",
              "      <td>5888</td>\n",
              "      <td>+</td>\n",
              "      <td>0</td>\n",
              "      <td>0</td>\n",
              "      <td>CG</td>\n",
              "      <td>CGT</td>\n",
              "    </tr>\n",
              "    <tr>\n",
              "      <th>43735329</th>\n",
              "      <td>MT</td>\n",
              "      <td>5889</td>\n",
              "      <td>-</td>\n",
              "      <td>5</td>\n",
              "      <td>9</td>\n",
              "      <td>CG</td>\n",
              "      <td>CGG</td>\n",
              "    </tr>\n",
              "    <tr>\n",
              "      <th>43735330</th>\n",
              "      <td>MT</td>\n",
              "      <td>5903</td>\n",
              "      <td>+</td>\n",
              "      <td>0</td>\n",
              "      <td>0</td>\n",
              "      <td>CG</td>\n",
              "      <td>CGT</td>\n",
              "    </tr>\n",
              "    <tr>\n",
              "      <th>43735331</th>\n",
              "      <td>MT</td>\n",
              "      <td>5904</td>\n",
              "      <td>-</td>\n",
              "      <td>6</td>\n",
              "      <td>9</td>\n",
              "      <td>CG</td>\n",
              "      <td>CGG</td>\n",
              "    </tr>\n",
              "    <tr>\n",
              "      <th>43735332</th>\n",
              "      <td>MT</td>\n",
              "      <td>5936</td>\n",
              "      <td>+</td>\n",
              "      <td>2</td>\n",
              "      <td>0</td>\n",
              "      <td>CG</td>\n",
              "      <td>CGC</td>\n",
              "    </tr>\n",
              "    <tr>\n",
              "      <th>43735333</th>\n",
              "      <td>MT</td>\n",
              "      <td>5937</td>\n",
              "      <td>-</td>\n",
              "      <td>5</td>\n",
              "      <td>10</td>\n",
              "      <td>CG</td>\n",
              "      <td>CGG</td>\n",
              "    </tr>\n",
              "    <tr>\n",
              "      <th>43735334</th>\n",
              "      <td>MT</td>\n",
              "      <td>5964</td>\n",
              "      <td>+</td>\n",
              "      <td>2</td>\n",
              "      <td>0</td>\n",
              "      <td>CG</td>\n",
              "      <td>CGC</td>\n",
              "    </tr>\n",
              "    <tr>\n",
              "      <th>43735335</th>\n",
              "      <td>MT</td>\n",
              "      <td>5965</td>\n",
              "      <td>-</td>\n",
              "      <td>4</td>\n",
              "      <td>7</td>\n",
              "      <td>CG</td>\n",
              "      <td>CGG</td>\n",
              "    </tr>\n",
              "    <tr>\n",
              "      <th>43735336</th>\n",
              "      <td>MT</td>\n",
              "      <td>5993</td>\n",
              "      <td>+</td>\n",
              "      <td>2</td>\n",
              "      <td>0</td>\n",
              "      <td>CG</td>\n",
              "      <td>CGC</td>\n",
              "    </tr>\n",
              "    <tr>\n",
              "      <th>43735337</th>\n",
              "      <td>MT</td>\n",
              "      <td>5994</td>\n",
              "      <td>-</td>\n",
              "      <td>4</td>\n",
              "      <td>8</td>\n",
              "      <td>CG</td>\n",
              "      <td>CGG</td>\n",
              "    </tr>\n",
              "  </tbody>\n",
              "</table>\n",
              "</div>"
            ],
            "text/plain": [
              "         chromosome position  ... C-context  trinucleotide context\n",
              "43735124         MT      596  ...        CG                    CGG\n",
              "43735125         MT      597  ...        CG                    CGC\n",
              "43735298         MT     5113  ...        CG                    CGA\n",
              "43735299         MT     5114  ...        CG                    CGT\n",
              "43735300         MT     5167  ...        CG                    CGC\n",
              "43735301         MT     5168  ...        CG                    CGG\n",
              "43735302         MT     5170  ...        CG                    CGA\n",
              "43735303         MT     5171  ...        CG                    CGG\n",
              "43735304         MT     5186  ...        CG                    CGG\n",
              "43735305         MT     5187  ...        CG                    CGC\n",
              "43735306         MT     5221  ...        CG                    CGA\n",
              "43735307         MT     5222  ...        CG                    CGA\n",
              "43735308         MT     5234  ...        CG                    CGA\n",
              "43735309         MT     5235  ...        CG                    CGA\n",
              "43735310         MT     5340  ...        CG                    CGT\n",
              "43735311         MT     5341  ...        CG                    CGA\n",
              "43735312         MT     5372  ...        CG                    CGG\n",
              "43735313         MT     5373  ...        CG                    CGA\n",
              "43735314         MT     5393  ...        CG                    CGG\n",
              "43735315         MT     5394  ...        CG                    CGA\n",
              "43735316         MT     5404  ...        CG                    CGG\n",
              "43735317         MT     5405  ...        CG                    CGC\n",
              "43735318         MT     5439  ...        CG                    CGA\n",
              "43735319         MT     5440  ...        CG                    CGA\n",
              "43735320         MT     5498  ...        CG                    CGT\n",
              "43735321         MT     5499  ...        CG                    CGA\n",
              "43735322         MT     5588  ...        CG                    CGG\n",
              "43735323         MT     5589  ...        CG                    CGA\n",
              "43735324         MT     5613  ...        CG                    CGA\n",
              "43735325         MT     5614  ...        CG                    CGT\n",
              "43735326         MT     5726  ...        CG                    CGG\n",
              "43735327         MT     5727  ...        CG                    CGG\n",
              "43735328         MT     5888  ...        CG                    CGT\n",
              "43735329         MT     5889  ...        CG                    CGG\n",
              "43735330         MT     5903  ...        CG                    CGT\n",
              "43735331         MT     5904  ...        CG                    CGG\n",
              "43735332         MT     5936  ...        CG                    CGC\n",
              "43735333         MT     5937  ...        CG                    CGG\n",
              "43735334         MT     5964  ...        CG                    CGC\n",
              "43735335         MT     5965  ...        CG                    CGG\n",
              "43735336         MT     5993  ...        CG                    CGC\n",
              "43735337         MT     5994  ...        CG                    CGG\n",
              "\n",
              "[42 rows x 7 columns]"
            ]
          },
          "metadata": {
            "tags": []
          },
          "execution_count": 37
        }
      ]
    },
    {
      "cell_type": "markdown",
      "metadata": {
        "id": "blRboar4Bt-W"
      },
      "source": [
        "Not exactly what I want yet. Which means my position exactly is not being measured. What is the closest position to my number being measured?"
      ]
    },
    {
      "cell_type": "code",
      "metadata": {
        "id": "_Vym6xDELDgY",
        "colab": {
          "base_uri": "https://localhost:8080/",
          "height": 1000
        },
        "outputId": "2a62f3d5-09b5-4cba-9c9d-0d9d3db23151"
      },
      "source": [
        "df_raw_data_H10_mitochondria['position'].unique()"
      ],
      "execution_count": null,
      "outputs": [
        {
          "output_type": "execute_result",
          "data": {
            "text/plain": [
              "array(['134', '135', '229', '230', '263', '264', '305', '306', '317',\n",
              "       '318', '319', '320', '327', '328', '351', '352', '354', '355',\n",
              "       '361', '362', '441', '442', '470', '471', '596', '597', '635',\n",
              "       '636', '645', '646', '685', '686', '745', '746', '898', '899',\n",
              "       '907', '908', '911', '912', '963', '964', '984', '985', '1185',\n",
              "       '1186', '1214', '1215', '1333', '1334', '1343', '1344', '1376',\n",
              "       '1377', '1429', '1430', '1553', '1554', '1635', '1636', '1772',\n",
              "       '1773', '1774', '1775', '1786', '1787', '1871', '1872', '1912',\n",
              "       '1913', '1928', '1929', '2003', '2004', '2007', '2008', '2009',\n",
              "       '2010', '2021', '2022', '2071', '2072', '2079', '2080', '2155',\n",
              "       '2156', '2247', '2248', '2262', '2263', '2281', '2282', '2356',\n",
              "       '2357', '2383', '2384', '2408', '2409', '2424', '2425', '2430',\n",
              "       '2431', '2477', '2478', '2488', '2489', '2502', '2503', '2520',\n",
              "       '2521', '2535', '2536', '2552', '2553', '2567', '2568', '2605',\n",
              "       '2606', '2649', '2650', '2702', '2703', '2780', '2781', '2795',\n",
              "       '2796', '2823', '2824', '2850', '2851', '2879', '2880', '2903',\n",
              "       '2904', '2934', '2935', '3140', '3141', '3150', '3151', '3155',\n",
              "       '3156', '3333', '3334', '3344', '3345', '3386', '3387', '3395',\n",
              "       '3396', '3401', '3402', '3410', '3411', '3412', '3413', '3455',\n",
              "       '3456', '3570', '3571', '3585', '3586', '3591', '3592', '3596',\n",
              "       '3597', '3685', '3686', '3818', '3819', '3869', '3870', '3882',\n",
              "       '3883', '3888', '3889', '3907', '3908', '4064', '4065', '4093',\n",
              "       '4094', '4135', '4136', '4186', '4187', '4237', '4238', '4353',\n",
              "       '4354', '4439', '4440', '4796', '4797', '4972', '4973', '4974',\n",
              "       '4975', '5113', '5114', '5167', '5168', '5170', '5171', '5186',\n",
              "       '5187', '5221', '5222', '5234', '5235', '5340', '5341', '5372',\n",
              "       '5373', '5393', '5394', '5404', '5405', '5439', '5440', '5498',\n",
              "       '5499', '5588', '5589', '5613', '5614', '5726', '5727', '5888',\n",
              "       '5889', '5903', '5904', '5936', '5937', '5964', '5965', '5993',\n",
              "       '5994', '6113', '6114', '6131', '6132', '6231', '6232', '6263',\n",
              "       '6264', '6275', '6276', '6311', '6312', '6389', '6390', '6422',\n",
              "       '6423', '6431', '6432', '6569', '6570', '6581', '6582', '6639',\n",
              "       '6640', '6642', '6643', '6765', '6766', '6784', '6785', '6842',\n",
              "       '6843', '6886', '6887', '7045', '7046', '7140', '7141', '7256',\n",
              "       '7257', '7276', '7277', '7291', '7292', '7300', '7301', '7336',\n",
              "       '7337', '7390', '7391', '7412', '7413', '7433', '7434', '7438',\n",
              "       '7439', '7463', '7464', '7486', '7487', '7544', '7545', '7574',\n",
              "       '7575', '7669', '7670', '7717', '7718', '7932', '7933', '7983',\n",
              "       '7984', '8032', '8033', '8047', '8048', '8122', '8123', '8262',\n",
              "       '8263', '8278', '8279', '8401', '8402', '8448', '8449', '8562',\n",
              "       '8563', '8781', '8782', '8786', '8787', '8793', '8794', '8844',\n",
              "       '8845', '8867', '8868', '8872', '8873', '8905', '8906', '8924',\n",
              "       '8925', '9072', '9073', '9267', '9268', '9305', '9306', '9317',\n",
              "       '9318', '9344', '9345', '9365', '9366', '9505', '9506', '9575',\n",
              "       '9576', '9581', '9582', '9600', '9601', '9839', '9840', '9943',\n",
              "       '9944', '10074', '10075', '10083', '10084', '10127', '10128',\n",
              "       '10131', '10132', '10143', '10144', '10244', '10245', '10301',\n",
              "       '10302', '10304', '10305', '10433', '10434', '10569', '10570',\n",
              "       '10590', '10591', '10598', '10599', '10631', '10632', '10727',\n",
              "       '10728', '10889', '10890', '10899', '10900', '10998', '10999',\n",
              "       '11024', '11025', '11117', '11118', '11168', '11169', '11172',\n",
              "       '11173', '11184', '11185', '11202', '11203', '11412', '11413',\n",
              "       '11414', '11415', '11460', '11461', '12087', '12088', '12218',\n",
              "       '12219', '12222', '12223', '12230', '12231', '12267', '12268',\n",
              "       '12272', '12273', '12281', '12282', '12362', '12363', '12395',\n",
              "       '12396', '12525', '12526', '12541', '12542', '12581', '12582',\n",
              "       '12629', '12630', '12688', '12689', '12737', '12738', '12797',\n",
              "       '12798', '12810', '12811', '12866', '12867', '12875', '12876',\n",
              "       '12956', '12957', '12983', '12984', '13014', '13015', '13028',\n",
              "       '13029', '13045', '13046', '13047', '13048', '13073', '13074',\n",
              "       '13107', '13108', '13118', '13119', '13241', '13242', '13344',\n",
              "       '13345', '13559', '13560', '13569', '13570', '13588', '13589',\n",
              "       '13645', '13646', '13861', '13862', '13924', '13925', '14094',\n",
              "       '14095', '14117', '14118', '14157', '14158', '14355', '14356',\n",
              "       '14360', '14361', '14369', '14370', '14382', '14383', '14393',\n",
              "       '14394', '14399', '14400', '14438', '14439', '14442', '14443',\n",
              "       '14507', '14508', '14537', '14538', '14627', '14628', '14673',\n",
              "       '14674', '14681', '14682', '14711', '14712', '14713', '14714',\n",
              "       '14726', '14727', '14747', '14748', '14954', '14955', '14978',\n",
              "       '14979', '14988', '14989', '15081', '15082', '15096', '15097',\n",
              "       '15260', '15261', '15465', '15466', '15700', '15701', '15716',\n",
              "       '15717', '15738', '15739', '15743', '15744', '15819', '15820',\n",
              "       '15825', '15826', '15833', '15834', '15856', '15857', '15865',\n",
              "       '15866', '15950', '15951', '15984', '15985', '15992', '15993',\n",
              "       '16011', '16012', '16251', '16252', '16282', '16283'], dtype=object)"
            ]
          },
          "metadata": {
            "tags": []
          },
          "execution_count": 36
        }
      ]
    },
    {
      "cell_type": "markdown",
      "metadata": {
        "id": "gJcwK0N6NSnq"
      },
      "source": [
        "So the closest values to 5024 that we have are 4975 and 5113.\n",
        "\n",
        "From 5024 to 4975 is just 49 base pairs. The question now is whether a fragment that starts at this position, will be longer than 50bp to be able to cover the region of interest."
      ]
    },
    {
      "cell_type": "code",
      "metadata": {
        "id": "mfSsaogAOKJ6",
        "colab": {
          "base_uri": "https://localhost:8080/",
          "height": 80
        },
        "outputId": "46307279-c342-4a7f-9957-984e3e727fe0"
      },
      "source": [
        "df_raw_data_H10_mitochondria[df_raw_data_H10_mitochondria['position']=='4975']"
      ],
      "execution_count": null,
      "outputs": [
        {
          "output_type": "execute_result",
          "data": {
            "text/html": [
              "<div>\n",
              "<style scoped>\n",
              "    .dataframe tbody tr th:only-of-type {\n",
              "        vertical-align: middle;\n",
              "    }\n",
              "\n",
              "    .dataframe tbody tr th {\n",
              "        vertical-align: top;\n",
              "    }\n",
              "\n",
              "    .dataframe thead th {\n",
              "        text-align: right;\n",
              "    }\n",
              "</style>\n",
              "<table border=\"1\" class=\"dataframe\">\n",
              "  <thead>\n",
              "    <tr style=\"text-align: right;\">\n",
              "      <th></th>\n",
              "      <th>chromosome</th>\n",
              "      <th>position</th>\n",
              "      <th>strand</th>\n",
              "      <th>count methylated</th>\n",
              "      <th>count non-methylated</th>\n",
              "      <th>C-context</th>\n",
              "      <th>trinucleotide context</th>\n",
              "    </tr>\n",
              "  </thead>\n",
              "  <tbody>\n",
              "    <tr>\n",
              "      <th>43735297</th>\n",
              "      <td>MT</td>\n",
              "      <td>4975</td>\n",
              "      <td>-</td>\n",
              "      <td>8</td>\n",
              "      <td>10</td>\n",
              "      <td>CG</td>\n",
              "      <td>CGC</td>\n",
              "    </tr>\n",
              "  </tbody>\n",
              "</table>\n",
              "</div>"
            ],
            "text/plain": [
              "         chromosome position  ... C-context  trinucleotide context\n",
              "43735297         MT     4975  ...        CG                    CGC\n",
              "\n",
              "[1 rows x 7 columns]"
            ]
          },
          "metadata": {
            "tags": []
          },
          "execution_count": 39
        }
      ]
    },
    {
      "cell_type": "markdown",
      "metadata": {
        "id": "fBRtEF24OvXa"
      },
      "source": [
        "Considering that the fragment starting at 4975 has 8 methylated sites and 10 non-methylated sites, it is very likely that it will span the area of interest. The question now is whether we can find a file from this experiment that shows us the data where we can track the sequence starting at position 4975 and see if it is long enough. But for this, it appears that I will have to open a file with extension .cov.gz which appears to be only openable in R but not in python."
      ]
    },
    {
      "cell_type": "markdown",
      "metadata": {
        "id": "hgOM8iP6sXAH"
      },
      "source": [
        "Turns out I was wrong! These 10 non-methylated sites and 8 methylated sites are how many were measured for the specific sites, which means that in total only 18 reads were used. I wonder if this number of reads is usual for mitochondria and for nuclear sites.\n",
        "\n",
        "According to the Illumina website (https://www.illumina.com/documents/products/technotes/technote_coverage_calculation.pdf) \"the level of coverage for human genome mutations/SNPs/rearrangements detection that most publications require is from 10× to 30× depth of coverage depending on the application and statistical model.\" Another paper (https://www.ncbi.nlm.nih.gov/pmc/articles/PMC4344394/) also states that \"for DMR identification using the sample types analyzed in this study, we recommend per sample coverage in the range of 5× to 15×, depending on the magnitude of methylation differences between the groups and whether a smoothing or single CpG based DMR identification strategy is used. Sequencing at levels higher than this range leads to wasted resources that would be better spent on an increased number of biological replicates.\"\n",
        "\n",
        "From this we can conclude that 18 reads that we observed is not bad.\n",
        "\n",
        "\n",
        "## What is the average number of reads at CpG sites in mitochondria?"
      ]
    },
    {
      "cell_type": "code",
      "metadata": {
        "id": "rvvGfN2jAinP",
        "colab": {
          "base_uri": "https://localhost:8080/",
          "height": 197
        },
        "outputId": "5cad7969-4c29-43a0-c7d0-dad6432a7df3"
      },
      "source": [
        "df_raw_data_H10['total count']=df_raw_data_H10['count methylated']+df_raw_data_H10['count non-methylated']\n",
        "\n",
        "df_raw_data_H10.head()"
      ],
      "execution_count": null,
      "outputs": [
        {
          "output_type": "execute_result",
          "data": {
            "text/html": [
              "<div>\n",
              "<style scoped>\n",
              "    .dataframe tbody tr th:only-of-type {\n",
              "        vertical-align: middle;\n",
              "    }\n",
              "\n",
              "    .dataframe tbody tr th {\n",
              "        vertical-align: top;\n",
              "    }\n",
              "\n",
              "    .dataframe thead th {\n",
              "        text-align: right;\n",
              "    }\n",
              "</style>\n",
              "<table border=\"1\" class=\"dataframe\">\n",
              "  <thead>\n",
              "    <tr style=\"text-align: right;\">\n",
              "      <th></th>\n",
              "      <th>chromosome</th>\n",
              "      <th>position</th>\n",
              "      <th>strand</th>\n",
              "      <th>count methylated</th>\n",
              "      <th>count non-methylated</th>\n",
              "      <th>C-context</th>\n",
              "      <th>trinucleotide context</th>\n",
              "      <th>total count</th>\n",
              "    </tr>\n",
              "  </thead>\n",
              "  <tbody>\n",
              "    <tr>\n",
              "      <th>0</th>\n",
              "      <td>17</td>\n",
              "      <td>3000204</td>\n",
              "      <td>+</td>\n",
              "      <td>0</td>\n",
              "      <td>0</td>\n",
              "      <td>CG</td>\n",
              "      <td>CGT</td>\n",
              "      <td>0</td>\n",
              "    </tr>\n",
              "    <tr>\n",
              "      <th>1</th>\n",
              "      <td>17</td>\n",
              "      <td>3000205</td>\n",
              "      <td>-</td>\n",
              "      <td>0</td>\n",
              "      <td>0</td>\n",
              "      <td>CG</td>\n",
              "      <td>CGA</td>\n",
              "      <td>0</td>\n",
              "    </tr>\n",
              "    <tr>\n",
              "      <th>2</th>\n",
              "      <td>17</td>\n",
              "      <td>3000350</td>\n",
              "      <td>+</td>\n",
              "      <td>0</td>\n",
              "      <td>0</td>\n",
              "      <td>CG</td>\n",
              "      <td>CGA</td>\n",
              "      <td>0</td>\n",
              "    </tr>\n",
              "    <tr>\n",
              "      <th>3</th>\n",
              "      <td>17</td>\n",
              "      <td>3000351</td>\n",
              "      <td>-</td>\n",
              "      <td>0</td>\n",
              "      <td>0</td>\n",
              "      <td>CG</td>\n",
              "      <td>CGC</td>\n",
              "      <td>0</td>\n",
              "    </tr>\n",
              "    <tr>\n",
              "      <th>4</th>\n",
              "      <td>17</td>\n",
              "      <td>3000417</td>\n",
              "      <td>+</td>\n",
              "      <td>0</td>\n",
              "      <td>0</td>\n",
              "      <td>CG</td>\n",
              "      <td>CGA</td>\n",
              "      <td>0</td>\n",
              "    </tr>\n",
              "  </tbody>\n",
              "</table>\n",
              "</div>"
            ],
            "text/plain": [
              "  chromosome  position strand  ...  C-context  trinucleotide context total count\n",
              "0         17   3000204      +  ...         CG                    CGT           0\n",
              "1         17   3000205      -  ...         CG                    CGA           0\n",
              "2         17   3000350      +  ...         CG                    CGA           0\n",
              "3         17   3000351      -  ...         CG                    CGC           0\n",
              "4         17   3000417      +  ...         CG                    CGA           0\n",
              "\n",
              "[5 rows x 8 columns]"
            ]
          },
          "metadata": {
            "tags": []
          },
          "execution_count": 33
        }
      ]
    },
    {
      "cell_type": "code",
      "metadata": {
        "id": "yvlJLa-JF7ie"
      },
      "source": [
        "df_raw_data_H10_mitochondria2=df_raw_data_H10[df_raw_data_H10['chromosome']=='MT']"
      ],
      "execution_count": null,
      "outputs": []
    },
    {
      "cell_type": "code",
      "metadata": {
        "id": "qi8fBDd8BXCj",
        "colab": {
          "base_uri": "https://localhost:8080/",
          "height": 197
        },
        "outputId": "e620da62-97cc-4997-e8c5-38ca7c125363"
      },
      "source": [
        "df_raw_data_H10_mitochondria2.head()"
      ],
      "execution_count": null,
      "outputs": [
        {
          "output_type": "execute_result",
          "data": {
            "text/html": [
              "<div>\n",
              "<style scoped>\n",
              "    .dataframe tbody tr th:only-of-type {\n",
              "        vertical-align: middle;\n",
              "    }\n",
              "\n",
              "    .dataframe tbody tr th {\n",
              "        vertical-align: top;\n",
              "    }\n",
              "\n",
              "    .dataframe thead th {\n",
              "        text-align: right;\n",
              "    }\n",
              "</style>\n",
              "<table border=\"1\" class=\"dataframe\">\n",
              "  <thead>\n",
              "    <tr style=\"text-align: right;\">\n",
              "      <th></th>\n",
              "      <th>chromosome</th>\n",
              "      <th>position</th>\n",
              "      <th>strand</th>\n",
              "      <th>count methylated</th>\n",
              "      <th>count non-methylated</th>\n",
              "      <th>C-context</th>\n",
              "      <th>trinucleotide context</th>\n",
              "      <th>total count</th>\n",
              "    </tr>\n",
              "  </thead>\n",
              "  <tbody>\n",
              "    <tr>\n",
              "      <th>43735100</th>\n",
              "      <td>MT</td>\n",
              "      <td>134</td>\n",
              "      <td>+</td>\n",
              "      <td>2</td>\n",
              "      <td>2</td>\n",
              "      <td>CG</td>\n",
              "      <td>CGG</td>\n",
              "      <td>4</td>\n",
              "    </tr>\n",
              "    <tr>\n",
              "      <th>43735101</th>\n",
              "      <td>MT</td>\n",
              "      <td>135</td>\n",
              "      <td>-</td>\n",
              "      <td>7</td>\n",
              "      <td>3</td>\n",
              "      <td>CG</td>\n",
              "      <td>CGG</td>\n",
              "      <td>10</td>\n",
              "    </tr>\n",
              "    <tr>\n",
              "      <th>43735102</th>\n",
              "      <td>MT</td>\n",
              "      <td>229</td>\n",
              "      <td>+</td>\n",
              "      <td>3</td>\n",
              "      <td>1</td>\n",
              "      <td>CG</td>\n",
              "      <td>CGG</td>\n",
              "      <td>4</td>\n",
              "    </tr>\n",
              "    <tr>\n",
              "      <th>43735103</th>\n",
              "      <td>MT</td>\n",
              "      <td>230</td>\n",
              "      <td>-</td>\n",
              "      <td>3</td>\n",
              "      <td>4</td>\n",
              "      <td>CG</td>\n",
              "      <td>CGT</td>\n",
              "      <td>7</td>\n",
              "    </tr>\n",
              "    <tr>\n",
              "      <th>43735104</th>\n",
              "      <td>MT</td>\n",
              "      <td>263</td>\n",
              "      <td>+</td>\n",
              "      <td>1</td>\n",
              "      <td>0</td>\n",
              "      <td>CG</td>\n",
              "      <td>CGA</td>\n",
              "      <td>1</td>\n",
              "    </tr>\n",
              "  </tbody>\n",
              "</table>\n",
              "</div>"
            ],
            "text/plain": [
              "         chromosome  position  ... trinucleotide context  total count\n",
              "43735100         MT       134  ...                   CGG            4\n",
              "43735101         MT       135  ...                   CGG           10\n",
              "43735102         MT       229  ...                   CGG            4\n",
              "43735103         MT       230  ...                   CGT            7\n",
              "43735104         MT       263  ...                   CGA            1\n",
              "\n",
              "[5 rows x 8 columns]"
            ]
          },
          "metadata": {
            "tags": []
          },
          "execution_count": 14
        }
      ]
    },
    {
      "cell_type": "code",
      "metadata": {
        "id": "ONUbTJ_kEgoM",
        "colab": {
          "base_uri": "https://localhost:8080/",
          "height": 105
        },
        "outputId": "3bad2216-9056-4b2b-a330-fa7d56d0fc71"
      },
      "source": [
        "df_raw_data_H10_mitochondria2.mean()"
      ],
      "execution_count": null,
      "outputs": [
        {
          "output_type": "execute_result",
          "data": {
            "text/plain": [
              "position                7735.019164\n",
              "count methylated           3.818815\n",
              "count non-methylated       3.524390\n",
              "total count                7.343206\n",
              "dtype: float64"
            ]
          },
          "metadata": {
            "tags": []
          },
          "execution_count": 11
        }
      ]
    },
    {
      "cell_type": "markdown",
      "metadata": {
        "id": "IHja81Dsm2p-"
      },
      "source": [
        "## Coverage graph of mitochondria"
      ]
    },
    {
      "cell_type": "code",
      "metadata": {
        "id": "cUdwTVFzkMHH",
        "colab": {
          "base_uri": "https://localhost:8080/",
          "height": 673
        },
        "outputId": "be0722b1-7200-48a7-b44e-4677ecccf55b"
      },
      "source": [
        "df_raw_data_H10_mitochondria2.plot(kind='line',y=\"total count\",x=\"position\",figsize=(15,10),)\n",
        "plt.xlabel(\"mtDNA position\",fontsize=18)\n",
        "plt.ylabel(\"Coverage\",fontsize=18)\n",
        "plt.title('MtDNA coverage',fontsize=18)\n",
        "plt.xticks(fontsize=14)\n",
        "plt.yticks(fontsize=14)"
      ],
      "execution_count": null,
      "outputs": [
        {
          "output_type": "execute_result",
          "data": {
            "text/plain": [
              "(array([-10.,   0.,  10.,  20.,  30.,  40.,  50.,  60.]),\n",
              " <a list of 8 Text major ticklabel objects>)"
            ]
          },
          "metadata": {
            "tags": []
          },
          "execution_count": 18
        },
        {
          "output_type": "display_data",
          "data": {
            "image/png": "[encoded data removed]",
            "text/plain": [
              "<Figure size 1080x720 with 1 Axes>"
            ]
          },
          "metadata": {
            "tags": [],
            "needs_background": "light"
          }
        }
      ]
    },
    {
      "cell_type": "markdown",
      "metadata": {
        "id": "1O_I9LLmEsr7"
      },
      "source": [
        "### What is the average number of reads at CpG sites NOT in mitochondria?"
      ]
    },
    {
      "cell_type": "code",
      "metadata": {
        "id": "jo-Ww4M3E43r",
        "colab": {
          "base_uri": "https://localhost:8080/",
          "height": 197
        },
        "outputId": "353b89e7-6141-44c2-c9b1-01aa0427e8cc"
      },
      "source": [
        "df_raw_data_H10_nucleus=df_raw_data_H10[df_raw_data_H10['chromosome']!='MT']\n",
        "df_raw_data_H10_nucleus.head()"
      ],
      "execution_count": null,
      "outputs": [
        {
          "output_type": "execute_result",
          "data": {
            "text/html": [
              "<div>\n",
              "<style scoped>\n",
              "    .dataframe tbody tr th:only-of-type {\n",
              "        vertical-align: middle;\n",
              "    }\n",
              "\n",
              "    .dataframe tbody tr th {\n",
              "        vertical-align: top;\n",
              "    }\n",
              "\n",
              "    .dataframe thead th {\n",
              "        text-align: right;\n",
              "    }\n",
              "</style>\n",
              "<table border=\"1\" class=\"dataframe\">\n",
              "  <thead>\n",
              "    <tr style=\"text-align: right;\">\n",
              "      <th></th>\n",
              "      <th>chromosome</th>\n",
              "      <th>position</th>\n",
              "      <th>strand</th>\n",
              "      <th>count methylated</th>\n",
              "      <th>count non-methylated</th>\n",
              "      <th>C-context</th>\n",
              "      <th>trinucleotide context</th>\n",
              "      <th>total count</th>\n",
              "    </tr>\n",
              "  </thead>\n",
              "  <tbody>\n",
              "    <tr>\n",
              "      <th>0</th>\n",
              "      <td>17</td>\n",
              "      <td>3000204</td>\n",
              "      <td>+</td>\n",
              "      <td>0</td>\n",
              "      <td>0</td>\n",
              "      <td>CG</td>\n",
              "      <td>CGT</td>\n",
              "      <td>0</td>\n",
              "    </tr>\n",
              "    <tr>\n",
              "      <th>1</th>\n",
              "      <td>17</td>\n",
              "      <td>3000205</td>\n",
              "      <td>-</td>\n",
              "      <td>0</td>\n",
              "      <td>0</td>\n",
              "      <td>CG</td>\n",
              "      <td>CGA</td>\n",
              "      <td>0</td>\n",
              "    </tr>\n",
              "    <tr>\n",
              "      <th>2</th>\n",
              "      <td>17</td>\n",
              "      <td>3000350</td>\n",
              "      <td>+</td>\n",
              "      <td>0</td>\n",
              "      <td>0</td>\n",
              "      <td>CG</td>\n",
              "      <td>CGA</td>\n",
              "      <td>0</td>\n",
              "    </tr>\n",
              "    <tr>\n",
              "      <th>3</th>\n",
              "      <td>17</td>\n",
              "      <td>3000351</td>\n",
              "      <td>-</td>\n",
              "      <td>0</td>\n",
              "      <td>0</td>\n",
              "      <td>CG</td>\n",
              "      <td>CGC</td>\n",
              "      <td>0</td>\n",
              "    </tr>\n",
              "    <tr>\n",
              "      <th>4</th>\n",
              "      <td>17</td>\n",
              "      <td>3000417</td>\n",
              "      <td>+</td>\n",
              "      <td>0</td>\n",
              "      <td>0</td>\n",
              "      <td>CG</td>\n",
              "      <td>CGA</td>\n",
              "      <td>0</td>\n",
              "    </tr>\n",
              "  </tbody>\n",
              "</table>\n",
              "</div>"
            ],
            "text/plain": [
              "  chromosome  position strand  ...  C-context  trinucleotide context total count\n",
              "0         17   3000204      +  ...         CG                    CGT           0\n",
              "1         17   3000205      -  ...         CG                    CGA           0\n",
              "2         17   3000350      +  ...         CG                    CGA           0\n",
              "3         17   3000351      -  ...         CG                    CGC           0\n",
              "4         17   3000417      +  ...         CG                    CGA           0\n",
              "\n",
              "[5 rows x 8 columns]"
            ]
          },
          "metadata": {
            "tags": []
          },
          "execution_count": 19
        }
      ]
    },
    {
      "cell_type": "code",
      "metadata": {
        "id": "iYASDwtdwX9T"
      },
      "source": [
        "#this plot is too computationally difficult to do on collab\n",
        "#df_raw_data_H10_nucleus.plot(kind='line',y=\"total count\",x=\"position\",figsize=(15,10),)\n",
        "#plt.xlabel(\"nuclear DNA position\",fontsize=18)\n",
        "#plt.ylabel(\"Coverage\",fontsize=18)\n",
        "#plt.title('Nuclear DNA coverage',fontsize=18)"
      ],
      "execution_count": null,
      "outputs": []
    },
    {
      "cell_type": "code",
      "metadata": {
        "id": "9Bj-guBmMwqK",
        "colab": {
          "base_uri": "https://localhost:8080/",
          "height": 197
        },
        "outputId": "ea95fead-f632-4468-920f-233530d149d5"
      },
      "source": [
        "#plotting the reads of a random chromosome, eg 10.\n",
        "df_raw_data_H10_nucleus_chr10=df_raw_data_H10[df_raw_data_H10['chromosome']==10]\n",
        "df_raw_data_H10_nucleus_chr10.head()"
      ],
      "execution_count": null,
      "outputs": [
        {
          "output_type": "execute_result",
          "data": {
            "text/html": [
              "<div>\n",
              "<style scoped>\n",
              "    .dataframe tbody tr th:only-of-type {\n",
              "        vertical-align: middle;\n",
              "    }\n",
              "\n",
              "    .dataframe tbody tr th {\n",
              "        vertical-align: top;\n",
              "    }\n",
              "\n",
              "    .dataframe thead th {\n",
              "        text-align: right;\n",
              "    }\n",
              "</style>\n",
              "<table border=\"1\" class=\"dataframe\">\n",
              "  <thead>\n",
              "    <tr style=\"text-align: right;\">\n",
              "      <th></th>\n",
              "      <th>chromosome</th>\n",
              "      <th>position</th>\n",
              "      <th>strand</th>\n",
              "      <th>count methylated</th>\n",
              "      <th>count non-methylated</th>\n",
              "      <th>C-context</th>\n",
              "      <th>trinucleotide context</th>\n",
              "      <th>total count</th>\n",
              "    </tr>\n",
              "  </thead>\n",
              "  <tbody>\n",
              "    <tr>\n",
              "      <th>30430438</th>\n",
              "      <td>10</td>\n",
              "      <td>3100022</td>\n",
              "      <td>+</td>\n",
              "      <td>0</td>\n",
              "      <td>0</td>\n",
              "      <td>CG</td>\n",
              "      <td>CGA</td>\n",
              "      <td>0</td>\n",
              "    </tr>\n",
              "    <tr>\n",
              "      <th>30430439</th>\n",
              "      <td>10</td>\n",
              "      <td>3100023</td>\n",
              "      <td>-</td>\n",
              "      <td>0</td>\n",
              "      <td>0</td>\n",
              "      <td>CG</td>\n",
              "      <td>CGG</td>\n",
              "      <td>0</td>\n",
              "    </tr>\n",
              "    <tr>\n",
              "      <th>30430440</th>\n",
              "      <td>10</td>\n",
              "      <td>3100161</td>\n",
              "      <td>+</td>\n",
              "      <td>0</td>\n",
              "      <td>0</td>\n",
              "      <td>CG</td>\n",
              "      <td>CGA</td>\n",
              "      <td>0</td>\n",
              "    </tr>\n",
              "    <tr>\n",
              "      <th>30430441</th>\n",
              "      <td>10</td>\n",
              "      <td>3100162</td>\n",
              "      <td>-</td>\n",
              "      <td>0</td>\n",
              "      <td>0</td>\n",
              "      <td>CG</td>\n",
              "      <td>CGC</td>\n",
              "      <td>0</td>\n",
              "    </tr>\n",
              "    <tr>\n",
              "      <th>30430442</th>\n",
              "      <td>10</td>\n",
              "      <td>3100242</td>\n",
              "      <td>+</td>\n",
              "      <td>0</td>\n",
              "      <td>0</td>\n",
              "      <td>CG</td>\n",
              "      <td>CGG</td>\n",
              "      <td>0</td>\n",
              "    </tr>\n",
              "  </tbody>\n",
              "</table>\n",
              "</div>"
            ],
            "text/plain": [
              "         chromosome  position  ... trinucleotide context  total count\n",
              "30430438         10   3100022  ...                   CGA            0\n",
              "30430439         10   3100023  ...                   CGG            0\n",
              "30430440         10   3100161  ...                   CGA            0\n",
              "30430441         10   3100162  ...                   CGC            0\n",
              "30430442         10   3100242  ...                   CGG            0\n",
              "\n",
              "[5 rows x 8 columns]"
            ]
          },
          "metadata": {
            "tags": []
          },
          "execution_count": 34
        }
      ]
    },
    {
      "cell_type": "code",
      "metadata": {
        "id": "9tmFOdY-M9Y2",
        "colab": {
          "base_uri": "https://localhost:8080/",
          "height": 673
        },
        "outputId": "68816a9f-e391-4782-bf22-48ea7c82595b"
      },
      "source": [
        "df_raw_data_H10_nucleus_chr10.plot(kind='line',y=\"total count\",x=\"position\",figsize=(15,10),)\n",
        "plt.xlabel(\"nuclear DNA position\",fontsize=18)\n",
        "plt.ylabel(\"Coverage\",fontsize=18)\n",
        "plt.title('Nuclear DNA coverage',fontsize=18)\n",
        "plt.xticks(fontsize=14)\n",
        "plt.yticks(fontsize=14)"
      ],
      "execution_count": null,
      "outputs": [
        {
          "output_type": "execute_result",
          "data": {
            "text/plain": [
              "(array([-5.,  0.,  5., 10., 15., 20., 25., 30.]),\n",
              " <a list of 8 Text major ticklabel objects>)"
            ]
          },
          "metadata": {
            "tags": []
          },
          "execution_count": 37
        },
        {
          "output_type": "display_data",
          "data": {
            "image/png": "[encoded data removed]",
            "text/plain": [
              "<Figure size 1080x720 with 1 Axes>"
            ]
          },
          "metadata": {
            "tags": [],
            "needs_background": "light"
          }
        }
      ]
    },
    {
      "cell_type": "code",
      "metadata": {
        "id": "Mv333J5rWpOt",
        "colab": {
          "base_uri": "https://localhost:8080/",
          "height": 652
        },
        "outputId": "56cda960-3bfe-4123-df86-b969306e084c"
      },
      "source": [
        "df_raw_data_H10_nucleus_chr10.plot(kind='line',y=\"total count\",x=\"position\",figsize=(15,10),)\n",
        "plt.xlabel(\"nuclear DNA position\",fontsize=18)\n",
        "plt.ylabel(\"Coverage\",fontsize=18)\n",
        "plt.title('Nuclear DNA coverage',fontsize=18)\n",
        "plt.ylim(0,60)"
      ],
      "execution_count": null,
      "outputs": [
        {
          "output_type": "execute_result",
          "data": {
            "text/plain": [
              "(0.0, 60.0)"
            ]
          },
          "metadata": {
            "tags": []
          },
          "execution_count": 36
        },
        {
          "output_type": "display_data",
          "data": {
            "image/png": "[encoded data removed]",
            "text/plain": [
              "<Figure size 1080x720 with 1 Axes>"
            ]
          },
          "metadata": {
            "tags": [],
            "needs_background": "light"
          }
        }
      ]
    },
    {
      "cell_type": "code",
      "metadata": {
        "id": "UTG9TCmLFB6L"
      },
      "source": [
        "df_raw_data_H10_nucleus['total count'].mean()"
      ],
      "execution_count": null,
      "outputs": []
    },
    {
      "cell_type": "markdown",
      "metadata": {
        "id": "VCCSm0K6H2pd"
      },
      "source": [
        "Strange average result. Let's look at this in another way."
      ]
    },
    {
      "cell_type": "code",
      "metadata": {
        "id": "c6DlowXDFJW7"
      },
      "source": [
        "plt.figure(figsize=(15,8))\n",
        "sns.boxplot(x='chromosome',y='total count',data=df_raw_data_H10)"
      ],
      "execution_count": null,
      "outputs": []
    },
    {
      "cell_type": "markdown",
      "metadata": {
        "id": "vH4UjGgEI5B9"
      },
      "source": [
        "Why are there two chr 12 and no chr 20, 21 or 22?"
      ]
    },
    {
      "cell_type": "markdown",
      "metadata": {
        "id": "ltrUA6eJBub8"
      },
      "source": [
        "### Redo -0: What is the average number of reads for sites where methylation was measured?\n",
        "\n",
        "We saw that some sites showed no values for methylation or non-methylation. Let's see if the values change once we remove all CpG sites analysed which had zero count for methylation or non-methylation."
      ]
    },
    {
      "cell_type": "code",
      "metadata": {
        "id": "oUpGuYBOCZS5",
        "colab": {
          "base_uri": "https://localhost:8080/",
          "height": 204
        },
        "outputId": "c4dcccb1-6cb5-4c08-fd08-c4d2cefca1a0"
      },
      "source": [
        "df_raw_data_H10_no_zeros=df_raw_data_H10[df_raw_data_H10['total count']>0]\n",
        "df_raw_data_H10_no_zeros.head()"
      ],
      "execution_count": null,
      "outputs": [
        {
          "output_type": "execute_result",
          "data": {
            "text/html": [
              "<div>\n",
              "<style scoped>\n",
              "    .dataframe tbody tr th:only-of-type {\n",
              "        vertical-align: middle;\n",
              "    }\n",
              "\n",
              "    .dataframe tbody tr th {\n",
              "        vertical-align: top;\n",
              "    }\n",
              "\n",
              "    .dataframe thead th {\n",
              "        text-align: right;\n",
              "    }\n",
              "</style>\n",
              "<table border=\"1\" class=\"dataframe\">\n",
              "  <thead>\n",
              "    <tr style=\"text-align: right;\">\n",
              "      <th></th>\n",
              "      <th>chromosome</th>\n",
              "      <th>position</th>\n",
              "      <th>strand</th>\n",
              "      <th>count methylated</th>\n",
              "      <th>count non-methylated</th>\n",
              "      <th>C-context</th>\n",
              "      <th>trinucleotide context</th>\n",
              "      <th>total count</th>\n",
              "    </tr>\n",
              "  </thead>\n",
              "  <tbody>\n",
              "    <tr>\n",
              "      <th>228</th>\n",
              "      <td>17</td>\n",
              "      <td>3022384</td>\n",
              "      <td>+</td>\n",
              "      <td>1</td>\n",
              "      <td>0</td>\n",
              "      <td>CG</td>\n",
              "      <td>CGT</td>\n",
              "      <td>1</td>\n",
              "    </tr>\n",
              "    <tr>\n",
              "      <th>278</th>\n",
              "      <td>17</td>\n",
              "      <td>3028112</td>\n",
              "      <td>+</td>\n",
              "      <td>1</td>\n",
              "      <td>0</td>\n",
              "      <td>CG</td>\n",
              "      <td>CGG</td>\n",
              "      <td>1</td>\n",
              "    </tr>\n",
              "    <tr>\n",
              "      <th>280</th>\n",
              "      <td>17</td>\n",
              "      <td>3028142</td>\n",
              "      <td>+</td>\n",
              "      <td>1</td>\n",
              "      <td>0</td>\n",
              "      <td>CG</td>\n",
              "      <td>CGT</td>\n",
              "      <td>1</td>\n",
              "    </tr>\n",
              "    <tr>\n",
              "      <th>987</th>\n",
              "      <td>17</td>\n",
              "      <td>3077574</td>\n",
              "      <td>-</td>\n",
              "      <td>3</td>\n",
              "      <td>0</td>\n",
              "      <td>CG</td>\n",
              "      <td>CGA</td>\n",
              "      <td>3</td>\n",
              "    </tr>\n",
              "    <tr>\n",
              "      <th>989</th>\n",
              "      <td>17</td>\n",
              "      <td>3077617</td>\n",
              "      <td>-</td>\n",
              "      <td>6</td>\n",
              "      <td>0</td>\n",
              "      <td>CG</td>\n",
              "      <td>CGT</td>\n",
              "      <td>6</td>\n",
              "    </tr>\n",
              "  </tbody>\n",
              "</table>\n",
              "</div>"
            ],
            "text/plain": [
              "    chromosome  position strand  ...  C-context  trinucleotide context total count\n",
              "228         17   3022384      +  ...         CG                    CGT           1\n",
              "278         17   3028112      +  ...         CG                    CGG           1\n",
              "280         17   3028142      +  ...         CG                    CGT           1\n",
              "987         17   3077574      -  ...         CG                    CGA           3\n",
              "989         17   3077617      -  ...         CG                    CGT           6\n",
              "\n",
              "[5 rows x 8 columns]"
            ]
          },
          "metadata": {
            "tags": []
          },
          "execution_count": 5
        }
      ]
    },
    {
      "cell_type": "code",
      "metadata": {
        "id": "j3e1BdEVCjhM",
        "colab": {
          "base_uri": "https://localhost:8080/",
          "height": 514
        },
        "outputId": "d35a2a98-2064-4c28-d898-d0c1e50940df"
      },
      "source": [
        "plt.figure(figsize=(15,8))\n",
        "sns.boxplot(x='chromosome',y='total count',data=df_raw_data_H10_no_zeros)"
      ],
      "execution_count": null,
      "outputs": [
        {
          "output_type": "execute_result",
          "data": {
            "text/plain": [
              "<matplotlib.axes._subplots.AxesSubplot at 0x7f0729b67048>"
            ]
          },
          "metadata": {
            "tags": []
          },
          "execution_count": 21
        },
        {
          "output_type": "display_data",
          "data": {
            "image/png": "[encoded data removed]",
            "text/plain": [
              "<Figure size 1080x576 with 1 Axes>"
            ]
          },
          "metadata": {
            "tags": [],
            "needs_background": "light"
          }
        }
      ]
    },
    {
      "cell_type": "code",
      "metadata": {
        "id": "g1w8QREXCspe",
        "colab": {
          "base_uri": "https://localhost:8080/",
          "height": 34
        },
        "outputId": "310ebe3b-f7cb-4e15-f4e2-dcf74e3845bb"
      },
      "source": [
        "df_raw_data_H10_no_zeros['total count'].mean()"
      ],
      "execution_count": null,
      "outputs": [
        {
          "output_type": "execute_result",
          "data": {
            "text/plain": [
              "1.7153495576290954"
            ]
          },
          "metadata": {
            "tags": []
          },
          "execution_count": 6
        }
      ]
    },
    {
      "cell_type": "code",
      "metadata": {
        "id": "2nOpmWiUEZHr",
        "colab": {
          "base_uri": "https://localhost:8080/",
          "height": 34
        },
        "outputId": "2f579cd4-6dcb-467f-cfea-c426d688bac7"
      },
      "source": [
        "df_raw_data_H10_no_zeros['total count'].median()"
      ],
      "execution_count": null,
      "outputs": [
        {
          "output_type": "execute_result",
          "data": {
            "text/plain": [
              "1.0"
            ]
          },
          "metadata": {
            "tags": []
          },
          "execution_count": 7
        }
      ]
    },
    {
      "cell_type": "markdown",
      "metadata": {
        "id": "14qo5DZ9FE55"
      },
      "source": [
        "### Redo -0: What is the average number of reads at CpG sites in mitochondria?"
      ]
    },
    {
      "cell_type": "code",
      "metadata": {
        "id": "FBE1tsRWEjMQ"
      },
      "source": [
        "df_raw_data_H10_no_zeros_mitochondria=df_raw_data_H10_no_zeros[df_raw_data_H10_no_zeros['chromosome']=='MT']"
      ],
      "execution_count": null,
      "outputs": []
    },
    {
      "cell_type": "code",
      "metadata": {
        "id": "AzbFXN7tFI8z",
        "colab": {
          "base_uri": "https://localhost:8080/",
          "height": 34
        },
        "outputId": "a3ea4024-c490-41a1-b5b9-b6f3fda53cfc"
      },
      "source": [
        "df_raw_data_H10_no_zeros_mitochondria['total count'].mean()"
      ],
      "execution_count": null,
      "outputs": [
        {
          "output_type": "execute_result",
          "data": {
            "text/plain": [
              "10.156626506024097"
            ]
          },
          "metadata": {
            "tags": []
          },
          "execution_count": 9
        }
      ]
    },
    {
      "cell_type": "code",
      "metadata": {
        "id": "WLRS9ExWFOZS",
        "colab": {
          "base_uri": "https://localhost:8080/",
          "height": 34
        },
        "outputId": "50cc1562-8c89-4a5e-ef64-5ae7d8650223"
      },
      "source": [
        "df_raw_data_H10_no_zeros_mitochondria['total count'].median()"
      ],
      "execution_count": null,
      "outputs": [
        {
          "output_type": "execute_result",
          "data": {
            "text/plain": [
              "7.0"
            ]
          },
          "metadata": {
            "tags": []
          },
          "execution_count": 10
        }
      ]
    },
    {
      "cell_type": "markdown",
      "metadata": {
        "id": "WbGE6_Z1FhJF"
      },
      "source": [
        "### Redo -0: What is the average number of reads at CpG sites NOT in mitochondria?"
      ]
    },
    {
      "cell_type": "code",
      "metadata": {
        "id": "r5S13eB8FcpZ"
      },
      "source": [
        "df_raw_data_H10_no_zeros_nucleus=df_raw_data_H10_no_zeros[df_raw_data_H10_no_zeros['chromosome']!='MT']"
      ],
      "execution_count": null,
      "outputs": []
    },
    {
      "cell_type": "code",
      "metadata": {
        "id": "cQf-mGpBFoi0",
        "colab": {
          "base_uri": "https://localhost:8080/",
          "height": 34
        },
        "outputId": "6504b9f5-8831-4a29-a241-700851003296"
      },
      "source": [
        "df_raw_data_H10_no_zeros_nucleus['total count'].mean()"
      ],
      "execution_count": null,
      "outputs": [
        {
          "output_type": "execute_result",
          "data": {
            "text/plain": [
              "1.7138891309178335"
            ]
          },
          "metadata": {
            "tags": []
          },
          "execution_count": 13
        }
      ]
    },
    {
      "cell_type": "code",
      "metadata": {
        "id": "_ruu1AujFsF2",
        "colab": {
          "base_uri": "https://localhost:8080/",
          "height": 34
        },
        "outputId": "9154628c-a697-4a13-8967-4caa0671e1f7"
      },
      "source": [
        "df_raw_data_H10_no_zeros_nucleus['total count'].median()"
      ],
      "execution_count": null,
      "outputs": [
        {
          "output_type": "execute_result",
          "data": {
            "text/plain": [
              "1.0"
            ]
          },
          "metadata": {
            "tags": []
          },
          "execution_count": 14
        }
      ]
    },
    {
      "cell_type": "markdown",
      "metadata": {
        "id": "SVHyzn32Kiw_"
      },
      "source": [
        "### Redo >5: What is the average number of reads for sites where methylation was measured?\n",
        "\n",
        "Values that are below perhaps 5 for the count of methylated and non-methylated sites, should be dubious for us to trust that the sequencing worked. It could be that I am being a bit strict here as some studies use as little as 3 sites to consider a decent coverage."
      ]
    },
    {
      "cell_type": "code",
      "metadata": {
        "id": "GK9YTjq71khp",
        "colab": {
          "base_uri": "https://localhost:8080/",
          "height": 204
        },
        "outputId": "84c618e1-152e-46f1-c7e4-04a17cda3c6c"
      },
      "source": [
        "df_raw_data_H10_filtered=df_raw_data_H10[df_raw_data_H10['total count']>5]\n",
        "df_raw_data_H10_filtered.head()"
      ],
      "execution_count": null,
      "outputs": [
        {
          "output_type": "execute_result",
          "data": {
            "text/html": [
              "<div>\n",
              "<style scoped>\n",
              "    .dataframe tbody tr th:only-of-type {\n",
              "        vertical-align: middle;\n",
              "    }\n",
              "\n",
              "    .dataframe tbody tr th {\n",
              "        vertical-align: top;\n",
              "    }\n",
              "\n",
              "    .dataframe thead th {\n",
              "        text-align: right;\n",
              "    }\n",
              "</style>\n",
              "<table border=\"1\" class=\"dataframe\">\n",
              "  <thead>\n",
              "    <tr style=\"text-align: right;\">\n",
              "      <th></th>\n",
              "      <th>chromosome</th>\n",
              "      <th>position</th>\n",
              "      <th>strand</th>\n",
              "      <th>count methylated</th>\n",
              "      <th>count non-methylated</th>\n",
              "      <th>C-context</th>\n",
              "      <th>trinucleotide context</th>\n",
              "      <th>total count</th>\n",
              "    </tr>\n",
              "  </thead>\n",
              "  <tbody>\n",
              "    <tr>\n",
              "      <th>989</th>\n",
              "      <td>17</td>\n",
              "      <td>3077617</td>\n",
              "      <td>-</td>\n",
              "      <td>6</td>\n",
              "      <td>0</td>\n",
              "      <td>CG</td>\n",
              "      <td>CGT</td>\n",
              "      <td>6</td>\n",
              "    </tr>\n",
              "    <tr>\n",
              "      <th>1089</th>\n",
              "      <td>17</td>\n",
              "      <td>3081966</td>\n",
              "      <td>-</td>\n",
              "      <td>13</td>\n",
              "      <td>0</td>\n",
              "      <td>CG</td>\n",
              "      <td>CGC</td>\n",
              "      <td>13</td>\n",
              "    </tr>\n",
              "    <tr>\n",
              "      <th>1091</th>\n",
              "      <td>17</td>\n",
              "      <td>3082129</td>\n",
              "      <td>-</td>\n",
              "      <td>2</td>\n",
              "      <td>4</td>\n",
              "      <td>CG</td>\n",
              "      <td>CGC</td>\n",
              "      <td>6</td>\n",
              "    </tr>\n",
              "    <tr>\n",
              "      <th>1095</th>\n",
              "      <td>17</td>\n",
              "      <td>3082311</td>\n",
              "      <td>-</td>\n",
              "      <td>7</td>\n",
              "      <td>1</td>\n",
              "      <td>CG</td>\n",
              "      <td>CGA</td>\n",
              "      <td>8</td>\n",
              "    </tr>\n",
              "    <tr>\n",
              "      <th>19021</th>\n",
              "      <td>17</td>\n",
              "      <td>4216875</td>\n",
              "      <td>-</td>\n",
              "      <td>6</td>\n",
              "      <td>0</td>\n",
              "      <td>CG</td>\n",
              "      <td>CGG</td>\n",
              "      <td>6</td>\n",
              "    </tr>\n",
              "  </tbody>\n",
              "</table>\n",
              "</div>"
            ],
            "text/plain": [
              "      chromosome  position strand  ...  C-context  trinucleotide context total count\n",
              "989           17   3077617      -  ...         CG                    CGT           6\n",
              "1089          17   3081966      -  ...         CG                    CGC          13\n",
              "1091          17   3082129      -  ...         CG                    CGC           6\n",
              "1095          17   3082311      -  ...         CG                    CGA           8\n",
              "19021         17   4216875      -  ...         CG                    CGG           6\n",
              "\n",
              "[5 rows x 8 columns]"
            ]
          },
          "metadata": {
            "tags": []
          },
          "execution_count": 15
        }
      ]
    },
    {
      "cell_type": "code",
      "metadata": {
        "id": "4mV5J1py15FR",
        "colab": {
          "base_uri": "https://localhost:8080/",
          "height": 514
        },
        "outputId": "c87fbbbe-ec71-47df-8e96-450703adaa12"
      },
      "source": [
        "plt.figure(figsize=(15,8))\n",
        "sns.boxplot(x='chromosome',y='total count',data=df_raw_data_H10_filtered)"
      ],
      "execution_count": null,
      "outputs": [
        {
          "output_type": "execute_result",
          "data": {
            "text/plain": [
              "<matplotlib.axes._subplots.AxesSubplot at 0x7f072b541d68>"
            ]
          },
          "metadata": {
            "tags": []
          },
          "execution_count": 9
        },
        {
          "output_type": "display_data",
          "data": {
            "image/png": "[encoded data removed]",
            "text/plain": [
              "<Figure size 1080x576 with 1 Axes>"
            ]
          },
          "metadata": {
            "tags": [],
            "needs_background": "light"
          }
        }
      ]
    },
    {
      "cell_type": "code",
      "metadata": {
        "id": "l9HgtQPE2GnK",
        "colab": {
          "base_uri": "https://localhost:8080/",
          "height": 102
        },
        "outputId": "3ccf2dd3-f566-4f26-86bd-fb826b96f87d"
      },
      "source": [
        "df_raw_data_H10_filtered.mean()"
      ],
      "execution_count": null,
      "outputs": [
        {
          "output_type": "execute_result",
          "data": {
            "text/plain": [
              "position                7.674268e+07\n",
              "count methylated        1.933100e+00\n",
              "count non-methylated    6.297131e+00\n",
              "total count             8.230230e+00\n",
              "dtype: float64"
            ]
          },
          "metadata": {
            "tags": []
          },
          "execution_count": 11
        }
      ]
    },
    {
      "cell_type": "code",
      "metadata": {
        "id": "mPpNrL2y2ayJ",
        "colab": {
          "base_uri": "https://localhost:8080/",
          "height": 102
        },
        "outputId": "ea48c797-8647-457e-a701-3bc28725757e"
      },
      "source": [
        "df_raw_data_H10_filtered.median()"
      ],
      "execution_count": null,
      "outputs": [
        {
          "output_type": "execute_result",
          "data": {
            "text/plain": [
              "position                75317714.0\n",
              "count methylated               0.0\n",
              "count non-methylated           7.0\n",
              "total count                    7.0\n",
              "dtype: float64"
            ]
          },
          "metadata": {
            "tags": []
          },
          "execution_count": 12
        }
      ]
    },
    {
      "cell_type": "markdown",
      "metadata": {
        "id": "rZqao9wI5o5S"
      },
      "source": [
        "### Redo >5: What is the average number of reads at CpG sites in mitochondria?"
      ]
    },
    {
      "cell_type": "code",
      "metadata": {
        "id": "UR5lpwAG7C1e"
      },
      "source": [
        "df_raw_data_H10_filtered_mitochondria=df_raw_data_H10_filtered[df_raw_data_H10_filtered['chromosome']=='MT']"
      ],
      "execution_count": null,
      "outputs": []
    },
    {
      "cell_type": "code",
      "metadata": {
        "id": "3Z7k2lcl7h-3",
        "colab": {
          "base_uri": "https://localhost:8080/",
          "height": 102
        },
        "outputId": "3137405a-9e80-4c10-f5af-e80db3e8ffc0"
      },
      "source": [
        "df_raw_data_H10_filtered_mitochondria.mean()"
      ],
      "execution_count": null,
      "outputs": [
        {
          "output_type": "execute_result",
          "data": {
            "text/plain": [
              "position                8855.812766\n",
              "count methylated           7.948936\n",
              "count non-methylated       7.957447\n",
              "total count               15.906383\n",
              "dtype: float64"
            ]
          },
          "metadata": {
            "tags": []
          },
          "execution_count": 14
        }
      ]
    },
    {
      "cell_type": "code",
      "metadata": {
        "id": "WQcs2NVb7mqW",
        "colab": {
          "base_uri": "https://localhost:8080/",
          "height": 102
        },
        "outputId": "e579f084-a20d-4bd8-e6a1-45a071708c3f"
      },
      "source": [
        "df_raw_data_H10_filtered_mitochondria.median()"
      ],
      "execution_count": null,
      "outputs": [
        {
          "output_type": "execute_result",
          "data": {
            "text/plain": [
              "position                11202.0\n",
              "count methylated            7.0\n",
              "count non-methylated        6.0\n",
              "total count                13.0\n",
              "dtype: float64"
            ]
          },
          "metadata": {
            "tags": []
          },
          "execution_count": 15
        }
      ]
    },
    {
      "cell_type": "markdown",
      "metadata": {
        "id": "niLe7vQR7qKu"
      },
      "source": [
        "### Redo >5: What is the average number of reads at CpG sites NOT in mitochondria?"
      ]
    },
    {
      "cell_type": "code",
      "metadata": {
        "id": "6fZosoDq-7qQ",
        "colab": {
          "base_uri": "https://localhost:8080/",
          "height": 204
        },
        "outputId": "77df9398-2ae4-4ba5-dc9f-cf8605bd7eb3"
      },
      "source": [
        "df_raw_data_H10_filtered_nucleus=df_raw_data_H10_filtered[df_raw_data_H10_filtered['chromosome']!='MT']\n",
        "df_raw_data_H10_filtered_nucleus.head()"
      ],
      "execution_count": null,
      "outputs": [
        {
          "output_type": "execute_result",
          "data": {
            "text/html": [
              "<div>\n",
              "<style scoped>\n",
              "    .dataframe tbody tr th:only-of-type {\n",
              "        vertical-align: middle;\n",
              "    }\n",
              "\n",
              "    .dataframe tbody tr th {\n",
              "        vertical-align: top;\n",
              "    }\n",
              "\n",
              "    .dataframe thead th {\n",
              "        text-align: right;\n",
              "    }\n",
              "</style>\n",
              "<table border=\"1\" class=\"dataframe\">\n",
              "  <thead>\n",
              "    <tr style=\"text-align: right;\">\n",
              "      <th></th>\n",
              "      <th>chromosome</th>\n",
              "      <th>position</th>\n",
              "      <th>strand</th>\n",
              "      <th>count methylated</th>\n",
              "      <th>count non-methylated</th>\n",
              "      <th>C-context</th>\n",
              "      <th>trinucleotide context</th>\n",
              "      <th>total count</th>\n",
              "    </tr>\n",
              "  </thead>\n",
              "  <tbody>\n",
              "    <tr>\n",
              "      <th>989</th>\n",
              "      <td>17</td>\n",
              "      <td>3077617</td>\n",
              "      <td>-</td>\n",
              "      <td>6</td>\n",
              "      <td>0</td>\n",
              "      <td>CG</td>\n",
              "      <td>CGT</td>\n",
              "      <td>6</td>\n",
              "    </tr>\n",
              "    <tr>\n",
              "      <th>1089</th>\n",
              "      <td>17</td>\n",
              "      <td>3081966</td>\n",
              "      <td>-</td>\n",
              "      <td>13</td>\n",
              "      <td>0</td>\n",
              "      <td>CG</td>\n",
              "      <td>CGC</td>\n",
              "      <td>13</td>\n",
              "    </tr>\n",
              "    <tr>\n",
              "      <th>1091</th>\n",
              "      <td>17</td>\n",
              "      <td>3082129</td>\n",
              "      <td>-</td>\n",
              "      <td>2</td>\n",
              "      <td>4</td>\n",
              "      <td>CG</td>\n",
              "      <td>CGC</td>\n",
              "      <td>6</td>\n",
              "    </tr>\n",
              "    <tr>\n",
              "      <th>1095</th>\n",
              "      <td>17</td>\n",
              "      <td>3082311</td>\n",
              "      <td>-</td>\n",
              "      <td>7</td>\n",
              "      <td>1</td>\n",
              "      <td>CG</td>\n",
              "      <td>CGA</td>\n",
              "      <td>8</td>\n",
              "    </tr>\n",
              "    <tr>\n",
              "      <th>19021</th>\n",
              "      <td>17</td>\n",
              "      <td>4216875</td>\n",
              "      <td>-</td>\n",
              "      <td>6</td>\n",
              "      <td>0</td>\n",
              "      <td>CG</td>\n",
              "      <td>CGG</td>\n",
              "      <td>6</td>\n",
              "    </tr>\n",
              "  </tbody>\n",
              "</table>\n",
              "</div>"
            ],
            "text/plain": [
              "      chromosome  position strand  ...  C-context  trinucleotide context total count\n",
              "989           17   3077617      -  ...         CG                    CGT           6\n",
              "1089          17   3081966      -  ...         CG                    CGC          13\n",
              "1091          17   3082129      -  ...         CG                    CGC           6\n",
              "1095          17   3082311      -  ...         CG                    CGA           8\n",
              "19021         17   4216875      -  ...         CG                    CGG           6\n",
              "\n",
              "[5 rows x 8 columns]"
            ]
          },
          "metadata": {
            "tags": []
          },
          "execution_count": 17
        }
      ]
    },
    {
      "cell_type": "code",
      "metadata": {
        "id": "UlQ8VIk8_Ec3",
        "colab": {
          "base_uri": "https://localhost:8080/",
          "height": 102
        },
        "outputId": "104fd508-c298-467f-de52-4d15eb69f5a2"
      },
      "source": [
        "df_raw_data_H10_filtered_nucleus.mean()"
      ],
      "execution_count": null,
      "outputs": [
        {
          "output_type": "execute_result",
          "data": {
            "text/plain": [
              "position                7.700344e+07\n",
              "count methylated        1.912656e+00\n",
              "count non-methylated    6.291488e+00\n",
              "total count             8.204144e+00\n",
              "dtype: float64"
            ]
          },
          "metadata": {
            "tags": []
          },
          "execution_count": 18
        }
      ]
    },
    {
      "cell_type": "code",
      "metadata": {
        "id": "8TggejlY_IYv",
        "colab": {
          "base_uri": "https://localhost:8080/",
          "height": 102
        },
        "outputId": "f4aa566e-d3c1-48aa-cc1d-003b222dd4b8"
      },
      "source": [
        "df_raw_data_H10_filtered_nucleus.median()"
      ],
      "execution_count": null,
      "outputs": [
        {
          "output_type": "execute_result",
          "data": {
            "text/plain": [
              "position                75579993.0\n",
              "count methylated               0.0\n",
              "count non-methylated           7.0\n",
              "total count                    7.0\n",
              "dtype: float64"
            ]
          },
          "metadata": {
            "tags": []
          },
          "execution_count": 19
        }
      ]
    },
    {
      "cell_type": "markdown",
      "metadata": {
        "id": "A-igofbH_Mrn"
      },
      "source": [
        "Overall, mitochondria has more reads than the nucleus according to its mean and media, which is as expected, considering that the mitochondria has more copies of DNA. Both mean and median were measured, because often with skewed data median measures are more informative."
      ]
    },
    {
      "cell_type": "code",
      "metadata": {
        "id": "ZZ98wmjVHDav",
        "colab": {
          "base_uri": "https://localhost:8080/",
          "height": 34
        },
        "outputId": "a5f1b339-8f99-46b9-a66c-f15fab4731b1"
      },
      "source": [
        "#percentage of coverage of CpG\n",
        "(len(df_raw_data_H10_filtered)/len(df_raw_data_H10))*100"
      ],
      "execution_count": null,
      "outputs": [
        {
          "output_type": "execute_result",
          "data": {
            "text/plain": [
              "0.15865080757644204"
            ]
          },
          "metadata": {
            "tags": []
          },
          "execution_count": 24
        }
      ]
    },
    {
      "cell_type": "code",
      "metadata": {
        "id": "ElO2FvkXHgTQ",
        "colab": {
          "base_uri": "https://localhost:8080/",
          "height": 34
        },
        "outputId": "d19438a8-1d85-4915-be20-b7e2dc7e0f2b"
      },
      "source": [
        "len(df_raw_data_H10_filtered)"
      ],
      "execution_count": null,
      "outputs": [
        {
          "output_type": "execute_result",
          "data": {
            "text/plain": [
              "69387"
            ]
          },
          "metadata": {
            "tags": []
          },
          "execution_count": 21
        }
      ]
    },
    {
      "cell_type": "code",
      "metadata": {
        "id": "GY5GO93ZHl4x",
        "colab": {
          "base_uri": "https://localhost:8080/",
          "height": 34
        },
        "outputId": "e21bc2e8-7788-4d55-d0ab-7d206b94a418"
      },
      "source": [
        "len(df_raw_data_H10)"
      ],
      "execution_count": null,
      "outputs": [
        {
          "output_type": "execute_result",
          "data": {
            "text/plain": [
              "43735674"
            ]
          },
          "metadata": {
            "tags": []
          },
          "execution_count": 22
        }
      ]
    },
    {
      "cell_type": "code",
      "metadata": {
        "id": "vw5Dzsz-Hn6g",
        "colab": {
          "base_uri": "https://localhost:8080/",
          "height": 34
        },
        "outputId": "05f1548b-6705-4f96-d0e7-9cb02f1bbed9"
      },
      "source": [
        "(len(df_raw_data_H10_no_zeros)/len(df_raw_data_H10))*100"
      ],
      "execution_count": null,
      "outputs": [
        {
          "output_type": "execute_result",
          "data": {
            "text/plain": [
              "5.485494518730865"
            ]
          },
          "metadata": {
            "tags": []
          },
          "execution_count": 26
        }
      ]
    },
    {
      "cell_type": "markdown",
      "metadata": {
        "id": "SU49dyUvUo2K"
      },
      "source": [
        "This suggests that only between 5-0.1% of the data is being used and has a CpG site which is being analysed.\n",
        "\n",
        "According to literature (https://www.ncbi.nlm.nih.gov/pmc/articles/PMC5333175/): \"The total number of CpG sites in human genome comprises around 28.3 million instances. That is less than 1% of genome compared with 4.4% expected given 42% GC content due to C- > T mutation shift following the frequent 5′ cytosine deamination in CG doublet.\"\n",
        "\n",
        "It could be that many cases of methylated and non-methylated sites were zero, because in this sequence there were no CpG sites but instead there were CpH sites, like CHG or CHH. And CpH site analysis are not being shown in this table."
      ]
    },
    {
      "cell_type": "markdown",
      "metadata": {
        "id": "UPMFMLf8U-1w"
      },
      "source": [
        "### What other sites of methylation are there in the samples? "
      ]
    },
    {
      "cell_type": "code",
      "metadata": {
        "id": "DV0uL6-cdajh",
        "colab": {
          "resources": {
            "http://localhost:8080/nbextensions/google.colab/files.js": {
              "data": "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",
              "ok": true,
              "headers": [
                [
                  "content-type",
                  "application/javascript"
                ]
              ],
              "status": 200,
              "status_text": ""
            }
          },
          "base_uri": "https://localhost:8080/",
          "height": 72
        },
        "outputId": "55608000-2be5-44a9-9b07-beeab71b2369"
      },
      "source": [
        "from google.colab import files\n",
        "uploaded = files.upload()"
      ],
      "execution_count": null,
      "outputs": [
        {
          "output_type": "display_data",
          "data": {
            "text/html": [
              "\n",
              "     <input type=\"file\" id=\"files-6e6d9dcb-8b53-4954-84eb-667ec8829be6\" name=\"files[]\" multiple disabled\n",
              "        style=\"border:none\" />\n",
              "     <output id=\"result-6e6d9dcb-8b53-4954-84eb-667ec8829be6\">\n",
              "      Upload widget is only available when the cell has been executed in the\n",
              "      current browser session. Please rerun this cell to enable.\n",
              "      </output>\n",
              "      <script src=\"/nbextensions/google.colab/files.js\"></script> "
            ],
            "text/plain": [
              "<IPython.core.display.HTML object>"
            ]
          },
          "metadata": {
            "tags": []
          }
        },
        {
          "output_type": "stream",
          "text": [
            "Saving samples_stats.csv to samples_stats.csv\n"
          ],
          "name": "stdout"
        }
      ]
    },
    {
      "cell_type": "code",
      "metadata": {
        "id": "oig94lR4dmmr"
      },
      "source": [
        "import io\n",
        "CpH_sites_sample_stats=pd.read_csv(io.BytesIO(uploaded['samples_stats.csv']),sep='\\t')"
      ],
      "execution_count": null,
      "outputs": []
    },
    {
      "cell_type": "code",
      "metadata": {
        "id": "UawPhLjUexnN",
        "colab": {
          "base_uri": "https://localhost:8080/",
          "height": 878
        },
        "outputId": "f6eaca65-83fa-4142-e63e-bf79eb64c0bb"
      },
      "source": [
        "CpH_sites_sample_stats.head(25)"
      ],
      "execution_count": null,
      "outputs": [
        {
          "output_type": "execute_result",
          "data": {
            "text/html": [
              "<div>\n",
              "<style scoped>\n",
              "    .dataframe tbody tr th:only-of-type {\n",
              "        vertical-align: middle;\n",
              "    }\n",
              "\n",
              "    .dataframe tbody tr th {\n",
              "        vertical-align: top;\n",
              "    }\n",
              "\n",
              "    .dataframe thead th {\n",
              "        text-align: right;\n",
              "    }\n",
              "</style>\n",
              "<table border=\"1\" class=\"dataframe\">\n",
              "  <thead>\n",
              "    <tr style=\"text-align: right;\">\n",
              "      <th></th>\n",
              "      <th>id</th>\n",
              "      <th>loc_id</th>\n",
              "      <th>type</th>\n",
              "      <th>cov</th>\n",
              "      <th>trimmed_seq</th>\n",
              "      <th>unique_mappend_reads</th>\n",
              "      <th>ncpgs</th>\n",
              "      <th>Total Reads</th>\n",
              "      <th>Aligned Reads</th>\n",
              "      <th>mapping%</th>\n",
              "      <th>Unaligned Reads</th>\n",
              "      <th>Ambiguously Aligned Reads</th>\n",
              "      <th>No Genomic Sequence</th>\n",
              "      <th>Duplicate Reads (removed)</th>\n",
              "      <th>Unique Reads (remaining)</th>\n",
              "      <th>duplication%</th>\n",
              "      <th>Total Cs</th>\n",
              "      <th>Methylated CpGs</th>\n",
              "      <th>Unmethylated CpGs</th>\n",
              "      <th>CpG rate</th>\n",
              "      <th>Methylated CpHs</th>\n",
              "      <th>Unmethylated CpHs</th>\n",
              "      <th>CpH rate</th>\n",
              "      <th>Methylated CHHs</th>\n",
              "      <th>Unmethylated CHHs</th>\n",
              "      <th>CHH rate</th>\n",
              "    </tr>\n",
              "  </thead>\n",
              "  <tbody>\n",
              "    <tr>\n",
              "      <th>0</th>\n",
              "      <td>CSCP3_SERUM_A01</td>\n",
              "      <td>A01</td>\n",
              "      <td>Serum</td>\n",
              "      <td>0.074412</td>\n",
              "      <td>18041221</td>\n",
              "      <td>1851505</td>\n",
              "      <td>1627223</td>\n",
              "      <td>9020610.5</td>\n",
              "      <td>1128138.5</td>\n",
              "      <td>0.125326</td>\n",
              "      <td>7417425.5</td>\n",
              "      <td>475046.5</td>\n",
              "      <td>0.0</td>\n",
              "      <td>202386.0</td>\n",
              "      <td>925752.5</td>\n",
              "      <td>0.179426</td>\n",
              "      <td>22038140.5</td>\n",
              "      <td>888573.0</td>\n",
              "      <td>559425.0</td>\n",
              "      <td>0.613655</td>\n",
              "      <td>163438.5</td>\n",
              "      <td>5567724.0</td>\n",
              "      <td>0.028516</td>\n",
              "      <td>596535.0</td>\n",
              "      <td>14262445.0</td>\n",
              "      <td>0.040149</td>\n",
              "    </tr>\n",
              "    <tr>\n",
              "      <th>1</th>\n",
              "      <td>CSCP3_SERUM_A02</td>\n",
              "      <td>A02</td>\n",
              "      <td>Serum</td>\n",
              "      <td>0.114713</td>\n",
              "      <td>38063928</td>\n",
              "      <td>3406701</td>\n",
              "      <td>2508524</td>\n",
              "      <td>19031964.0</td>\n",
              "      <td>2439634.5</td>\n",
              "      <td>0.128444</td>\n",
              "      <td>15580241.0</td>\n",
              "      <td>1012088.5</td>\n",
              "      <td>0.0</td>\n",
              "      <td>736284.0</td>\n",
              "      <td>1703350.5</td>\n",
              "      <td>0.301803</td>\n",
              "      <td>40434858.5</td>\n",
              "      <td>1652377.0</td>\n",
              "      <td>890864.5</td>\n",
              "      <td>0.649712</td>\n",
              "      <td>279487.5</td>\n",
              "      <td>10190147.0</td>\n",
              "      <td>0.026693</td>\n",
              "      <td>1094832.0</td>\n",
              "      <td>26327150.5</td>\n",
              "      <td>0.039930</td>\n",
              "    </tr>\n",
              "    <tr>\n",
              "      <th>2</th>\n",
              "      <td>CSCP3_SERUM_B01</td>\n",
              "      <td>B01</td>\n",
              "      <td>Serum</td>\n",
              "      <td>0.135118</td>\n",
              "      <td>18939764</td>\n",
              "      <td>3789389</td>\n",
              "      <td>2954740</td>\n",
              "      <td>9469882.0</td>\n",
              "      <td>2180357.5</td>\n",
              "      <td>0.230464</td>\n",
              "      <td>6729381.0</td>\n",
              "      <td>560143.5</td>\n",
              "      <td>0.0</td>\n",
              "      <td>285663.0</td>\n",
              "      <td>1894694.5</td>\n",
              "      <td>0.131049</td>\n",
              "      <td>47079020.0</td>\n",
              "      <td>1981949.0</td>\n",
              "      <td>1334720.0</td>\n",
              "      <td>0.597564</td>\n",
              "      <td>368028.5</td>\n",
              "      <td>12076852.5</td>\n",
              "      <td>0.029571</td>\n",
              "      <td>942765.5</td>\n",
              "      <td>30374704.5</td>\n",
              "      <td>0.030113</td>\n",
              "    </tr>\n",
              "    <tr>\n",
              "      <th>3</th>\n",
              "      <td>CSCP3_SERUM_B02</td>\n",
              "      <td>B02</td>\n",
              "      <td>Serum</td>\n",
              "      <td>0.260894</td>\n",
              "      <td>53525363</td>\n",
              "      <td>10140419</td>\n",
              "      <td>5705190</td>\n",
              "      <td>26762681.5</td>\n",
              "      <td>6604611.5</td>\n",
              "      <td>0.247016</td>\n",
              "      <td>18672313.0</td>\n",
              "      <td>1485757.0</td>\n",
              "      <td>0.0</td>\n",
              "      <td>1534402.0</td>\n",
              "      <td>5070209.5</td>\n",
              "      <td>0.232304</td>\n",
              "      <td>126052402.5</td>\n",
              "      <td>5375067.5</td>\n",
              "      <td>3489054.0</td>\n",
              "      <td>0.606393</td>\n",
              "      <td>418880.5</td>\n",
              "      <td>32822913.0</td>\n",
              "      <td>0.012599</td>\n",
              "      <td>1719842.5</td>\n",
              "      <td>82226645.0</td>\n",
              "      <td>0.020493</td>\n",
              "    </tr>\n",
              "    <tr>\n",
              "      <th>4</th>\n",
              "      <td>CSCP3_SERUM_C01</td>\n",
              "      <td>C01</td>\n",
              "      <td>Serum</td>\n",
              "      <td>0.097257</td>\n",
              "      <td>15801435</td>\n",
              "      <td>2602656</td>\n",
              "      <td>2126803</td>\n",
              "      <td>7900717.5</td>\n",
              "      <td>1546883.0</td>\n",
              "      <td>0.196095</td>\n",
              "      <td>5913159.0</td>\n",
              "      <td>440675.5</td>\n",
              "      <td>0.0</td>\n",
              "      <td>245555.0</td>\n",
              "      <td>1301328.0</td>\n",
              "      <td>0.158775</td>\n",
              "      <td>32177362.5</td>\n",
              "      <td>1348031.0</td>\n",
              "      <td>870784.0</td>\n",
              "      <td>0.607539</td>\n",
              "      <td>152045.0</td>\n",
              "      <td>8261138.0</td>\n",
              "      <td>0.018070</td>\n",
              "      <td>499407.0</td>\n",
              "      <td>21045957.5</td>\n",
              "      <td>0.023184</td>\n",
              "    </tr>\n",
              "    <tr>\n",
              "      <th>5</th>\n",
              "      <td>CSCP3_SERUM_C02</td>\n",
              "      <td>C02</td>\n",
              "      <td>Serum</td>\n",
              "      <td>0.181255</td>\n",
              "      <td>32904883</td>\n",
              "      <td>5633346</td>\n",
              "      <td>3963645</td>\n",
              "      <td>16452441.5</td>\n",
              "      <td>3699808.5</td>\n",
              "      <td>0.225170</td>\n",
              "      <td>11857508.0</td>\n",
              "      <td>895125.0</td>\n",
              "      <td>0.0</td>\n",
              "      <td>883135.5</td>\n",
              "      <td>2816673.0</td>\n",
              "      <td>0.238636</td>\n",
              "      <td>70623359.5</td>\n",
              "      <td>2574096.0</td>\n",
              "      <td>2636362.0</td>\n",
              "      <td>0.494032</td>\n",
              "      <td>268984.5</td>\n",
              "      <td>18270571.0</td>\n",
              "      <td>0.014507</td>\n",
              "      <td>1004585.5</td>\n",
              "      <td>45868760.5</td>\n",
              "      <td>0.021434</td>\n",
              "    </tr>\n",
              "    <tr>\n",
              "      <th>6</th>\n",
              "      <td>CSCP3_SERUM_D01</td>\n",
              "      <td>D01</td>\n",
              "      <td>Serum</td>\n",
              "      <td>0.118765</td>\n",
              "      <td>17779009</td>\n",
              "      <td>3356695</td>\n",
              "      <td>2597143</td>\n",
              "      <td>8889504.5</td>\n",
              "      <td>1958442.5</td>\n",
              "      <td>0.220569</td>\n",
              "      <td>6423438.0</td>\n",
              "      <td>507623.5</td>\n",
              "      <td>0.5</td>\n",
              "      <td>280095.0</td>\n",
              "      <td>1678347.5</td>\n",
              "      <td>0.143043</td>\n",
              "      <td>41559073.0</td>\n",
              "      <td>1725796.5</td>\n",
              "      <td>1133826.0</td>\n",
              "      <td>0.603500</td>\n",
              "      <td>171429.5</td>\n",
              "      <td>10759136.5</td>\n",
              "      <td>0.015682</td>\n",
              "      <td>590310.5</td>\n",
              "      <td>27178574.0</td>\n",
              "      <td>0.021264</td>\n",
              "    </tr>\n",
              "    <tr>\n",
              "      <th>7</th>\n",
              "      <td>CSCP3_SERUM_D02</td>\n",
              "      <td>D02</td>\n",
              "      <td>Serum</td>\n",
              "      <td>0.265879</td>\n",
              "      <td>54366978</td>\n",
              "      <td>10429267</td>\n",
              "      <td>5814199</td>\n",
              "      <td>27183489.0</td>\n",
              "      <td>6826591.0</td>\n",
              "      <td>0.251390</td>\n",
              "      <td>18765539.0</td>\n",
              "      <td>1591359.0</td>\n",
              "      <td>0.0</td>\n",
              "      <td>1611957.5</td>\n",
              "      <td>5214633.5</td>\n",
              "      <td>0.236078</td>\n",
              "      <td>128215344.5</td>\n",
              "      <td>5274961.0</td>\n",
              "      <td>3694539.0</td>\n",
              "      <td>0.588123</td>\n",
              "      <td>446175.5</td>\n",
              "      <td>33223422.5</td>\n",
              "      <td>0.013250</td>\n",
              "      <td>1779648.0</td>\n",
              "      <td>83796598.5</td>\n",
              "      <td>0.020801</td>\n",
              "    </tr>\n",
              "    <tr>\n",
              "      <th>8</th>\n",
              "      <td>CSCP3_SERUM_E01</td>\n",
              "      <td>E01</td>\n",
              "      <td>Serum</td>\n",
              "      <td>0.095899</td>\n",
              "      <td>9699844</td>\n",
              "      <td>2086989</td>\n",
              "      <td>2097108</td>\n",
              "      <td>4849922.0</td>\n",
              "      <td>1172343.5</td>\n",
              "      <td>0.241945</td>\n",
              "      <td>3408920.5</td>\n",
              "      <td>268658.0</td>\n",
              "      <td>0.0</td>\n",
              "      <td>128849.0</td>\n",
              "      <td>1043494.5</td>\n",
              "      <td>0.109863</td>\n",
              "      <td>26361625.5</td>\n",
              "      <td>778233.0</td>\n",
              "      <td>1193861.0</td>\n",
              "      <td>0.394627</td>\n",
              "      <td>97556.5</td>\n",
              "      <td>6845777.5</td>\n",
              "      <td>0.014050</td>\n",
              "      <td>348497.0</td>\n",
              "      <td>17097700.5</td>\n",
              "      <td>0.019975</td>\n",
              "    </tr>\n",
              "    <tr>\n",
              "      <th>9</th>\n",
              "      <td>CSCP3_SERUM_E02</td>\n",
              "      <td>E02</td>\n",
              "      <td>Serum</td>\n",
              "      <td>0.063487</td>\n",
              "      <td>10743612</td>\n",
              "      <td>1368443</td>\n",
              "      <td>1388322</td>\n",
              "      <td>5371806.0</td>\n",
              "      <td>765482.5</td>\n",
              "      <td>0.142663</td>\n",
              "      <td>4359891.5</td>\n",
              "      <td>246432.0</td>\n",
              "      <td>0.0</td>\n",
              "      <td>81261.0</td>\n",
              "      <td>684221.5</td>\n",
              "      <td>0.106139</td>\n",
              "      <td>16907257.0</td>\n",
              "      <td>696151.5</td>\n",
              "      <td>503461.5</td>\n",
              "      <td>0.580315</td>\n",
              "      <td>86003.0</td>\n",
              "      <td>4312283.5</td>\n",
              "      <td>0.019553</td>\n",
              "      <td>372412.0</td>\n",
              "      <td>10936945.5</td>\n",
              "      <td>0.032930</td>\n",
              "    </tr>\n",
              "    <tr>\n",
              "      <th>10</th>\n",
              "      <td>CSCP3_SERUM_F01</td>\n",
              "      <td>F01</td>\n",
              "      <td>Serum</td>\n",
              "      <td>0.101808</td>\n",
              "      <td>16426943</td>\n",
              "      <td>2769793</td>\n",
              "      <td>2226330</td>\n",
              "      <td>8213471.5</td>\n",
              "      <td>1681455.5</td>\n",
              "      <td>0.204955</td>\n",
              "      <td>6060547.5</td>\n",
              "      <td>471468.5</td>\n",
              "      <td>0.0</td>\n",
              "      <td>296559.0</td>\n",
              "      <td>1384896.5</td>\n",
              "      <td>0.176377</td>\n",
              "      <td>34191517.5</td>\n",
              "      <td>1337550.5</td>\n",
              "      <td>1009479.0</td>\n",
              "      <td>0.569890</td>\n",
              "      <td>151919.0</td>\n",
              "      <td>8801542.0</td>\n",
              "      <td>0.016966</td>\n",
              "      <td>543136.5</td>\n",
              "      <td>22347890.5</td>\n",
              "      <td>0.023732</td>\n",
              "    </tr>\n",
              "    <tr>\n",
              "      <th>11</th>\n",
              "      <td>CSCP3_SERUM_F02</td>\n",
              "      <td>F02</td>\n",
              "      <td>Serum</td>\n",
              "      <td>0.070338</td>\n",
              "      <td>12860234</td>\n",
              "      <td>1731008</td>\n",
              "      <td>1538147</td>\n",
              "      <td>6430117.0</td>\n",
              "      <td>1032513.0</td>\n",
              "      <td>0.160723</td>\n",
              "      <td>5084815.5</td>\n",
              "      <td>312788.5</td>\n",
              "      <td>0.0</td>\n",
              "      <td>167009.0</td>\n",
              "      <td>865504.0</td>\n",
              "      <td>0.161444</td>\n",
              "      <td>21366295.0</td>\n",
              "      <td>887937.0</td>\n",
              "      <td>570211.5</td>\n",
              "      <td>0.608954</td>\n",
              "      <td>98112.0</td>\n",
              "      <td>5459816.0</td>\n",
              "      <td>0.017658</td>\n",
              "      <td>357857.0</td>\n",
              "      <td>13992361.5</td>\n",
              "      <td>0.024947</td>\n",
              "    </tr>\n",
              "    <tr>\n",
              "      <th>12</th>\n",
              "      <td>CSCP3_SERUM_G01</td>\n",
              "      <td>G01</td>\n",
              "      <td>Serum</td>\n",
              "      <td>0.108202</td>\n",
              "      <td>8435911</td>\n",
              "      <td>2348442</td>\n",
              "      <td>2366142</td>\n",
              "      <td>4217955.5</td>\n",
              "      <td>1272035.5</td>\n",
              "      <td>0.301708</td>\n",
              "      <td>2716150.0</td>\n",
              "      <td>229770.0</td>\n",
              "      <td>0.0</td>\n",
              "      <td>97814.5</td>\n",
              "      <td>1174221.0</td>\n",
              "      <td>0.076911</td>\n",
              "      <td>29896521.0</td>\n",
              "      <td>1235785.0</td>\n",
              "      <td>964756.0</td>\n",
              "      <td>0.561589</td>\n",
              "      <td>100584.5</td>\n",
              "      <td>7851434.0</td>\n",
              "      <td>0.012648</td>\n",
              "      <td>373702.5</td>\n",
              "      <td>19370259.0</td>\n",
              "      <td>0.018933</td>\n",
              "    </tr>\n",
              "    <tr>\n",
              "      <th>13</th>\n",
              "      <td>CSCP3_SERUM_G02</td>\n",
              "      <td>G02</td>\n",
              "      <td>Serum</td>\n",
              "      <td>0.047297</td>\n",
              "      <td>10384536</td>\n",
              "      <td>960394</td>\n",
              "      <td>1034294</td>\n",
              "      <td>5192268.0</td>\n",
              "      <td>526572.0</td>\n",
              "      <td>0.101445</td>\n",
              "      <td>4511399.0</td>\n",
              "      <td>154297.0</td>\n",
              "      <td>0.0</td>\n",
              "      <td>46375.0</td>\n",
              "      <td>480197.0</td>\n",
              "      <td>0.088025</td>\n",
              "      <td>11847792.5</td>\n",
              "      <td>494239.5</td>\n",
              "      <td>301047.0</td>\n",
              "      <td>0.621488</td>\n",
              "      <td>54348.0</td>\n",
              "      <td>3019017.5</td>\n",
              "      <td>0.017684</td>\n",
              "      <td>192033.5</td>\n",
              "      <td>7787107.0</td>\n",
              "      <td>0.024068</td>\n",
              "    </tr>\n",
              "    <tr>\n",
              "      <th>14</th>\n",
              "      <td>CSCP3_SERUM_H01</td>\n",
              "      <td>H01</td>\n",
              "      <td>Serum</td>\n",
              "      <td>0.125997</td>\n",
              "      <td>11840278</td>\n",
              "      <td>2799437</td>\n",
              "      <td>2755277</td>\n",
              "      <td>5920139.0</td>\n",
              "      <td>1534111.5</td>\n",
              "      <td>0.259257</td>\n",
              "      <td>4059046.5</td>\n",
              "      <td>326981.0</td>\n",
              "      <td>0.0</td>\n",
              "      <td>134393.0</td>\n",
              "      <td>1399718.5</td>\n",
              "      <td>0.087545</td>\n",
              "      <td>35153041.5</td>\n",
              "      <td>1472760.0</td>\n",
              "      <td>994055.0</td>\n",
              "      <td>0.597041</td>\n",
              "      <td>105632.0</td>\n",
              "      <td>9098751.0</td>\n",
              "      <td>0.011476</td>\n",
              "      <td>444619.5</td>\n",
              "      <td>23037224.0</td>\n",
              "      <td>0.018934</td>\n",
              "    </tr>\n",
              "    <tr>\n",
              "      <th>15</th>\n",
              "      <td>CSCP3_SERUM_H02</td>\n",
              "      <td>H02</td>\n",
              "      <td>Serum</td>\n",
              "      <td>0.070519</td>\n",
              "      <td>11423775</td>\n",
              "      <td>1591752</td>\n",
              "      <td>1542106</td>\n",
              "      <td>5711887.5</td>\n",
              "      <td>900321.5</td>\n",
              "      <td>0.157851</td>\n",
              "      <td>4518495.0</td>\n",
              "      <td>293071.0</td>\n",
              "      <td>0.0</td>\n",
              "      <td>104445.5</td>\n",
              "      <td>795876.0</td>\n",
              "      <td>0.116006</td>\n",
              "      <td>19665122.5</td>\n",
              "      <td>820136.0</td>\n",
              "      <td>546554.0</td>\n",
              "      <td>0.600090</td>\n",
              "      <td>93116.0</td>\n",
              "      <td>5033330.5</td>\n",
              "      <td>0.018163</td>\n",
              "      <td>318203.5</td>\n",
              "      <td>12853782.5</td>\n",
              "      <td>0.024159</td>\n",
              "    </tr>\n",
              "    <tr>\n",
              "      <th>16</th>\n",
              "      <td>CSCP3_SERUM_A03</td>\n",
              "      <td>A03</td>\n",
              "      <td>Serum</td>\n",
              "      <td>0.083197</td>\n",
              "      <td>17084495</td>\n",
              "      <td>2189334</td>\n",
              "      <td>1819331</td>\n",
              "      <td>8542247.5</td>\n",
              "      <td>1294276.0</td>\n",
              "      <td>0.151874</td>\n",
              "      <td>6769523.0</td>\n",
              "      <td>478448.5</td>\n",
              "      <td>0.0</td>\n",
              "      <td>199609.0</td>\n",
              "      <td>1094667.0</td>\n",
              "      <td>0.154205</td>\n",
              "      <td>26075158.0</td>\n",
              "      <td>1087678.5</td>\n",
              "      <td>588475.0</td>\n",
              "      <td>0.648938</td>\n",
              "      <td>189224.5</td>\n",
              "      <td>6657882.0</td>\n",
              "      <td>0.027638</td>\n",
              "      <td>717895.5</td>\n",
              "      <td>16834002.5</td>\n",
              "      <td>0.040895</td>\n",
              "    </tr>\n",
              "    <tr>\n",
              "      <th>17</th>\n",
              "      <td>CSCP3_SERUM_A04</td>\n",
              "      <td>A04</td>\n",
              "      <td>Serum</td>\n",
              "      <td>0.068350</td>\n",
              "      <td>17148895</td>\n",
              "      <td>1614681</td>\n",
              "      <td>1494672</td>\n",
              "      <td>8574447.5</td>\n",
              "      <td>1016508.5</td>\n",
              "      <td>0.118660</td>\n",
              "      <td>7151630.5</td>\n",
              "      <td>406308.5</td>\n",
              "      <td>0.0</td>\n",
              "      <td>209168.0</td>\n",
              "      <td>807340.5</td>\n",
              "      <td>0.204555</td>\n",
              "      <td>19247084.5</td>\n",
              "      <td>785585.5</td>\n",
              "      <td>445902.0</td>\n",
              "      <td>0.637906</td>\n",
              "      <td>129815.5</td>\n",
              "      <td>4869336.0</td>\n",
              "      <td>0.025963</td>\n",
              "      <td>497534.5</td>\n",
              "      <td>12518911.0</td>\n",
              "      <td>0.038230</td>\n",
              "    </tr>\n",
              "    <tr>\n",
              "      <th>18</th>\n",
              "      <td>CSCP3_SERUM_A05</td>\n",
              "      <td>A05</td>\n",
              "      <td>Serum</td>\n",
              "      <td>0.056970</td>\n",
              "      <td>18718568</td>\n",
              "      <td>1541250</td>\n",
              "      <td>1245815</td>\n",
              "      <td>9359284.0</td>\n",
              "      <td>954866.0</td>\n",
              "      <td>0.102503</td>\n",
              "      <td>7838516.0</td>\n",
              "      <td>565902.0</td>\n",
              "      <td>0.0</td>\n",
              "      <td>184241.0</td>\n",
              "      <td>770625.0</td>\n",
              "      <td>0.192998</td>\n",
              "      <td>17937522.0</td>\n",
              "      <td>744650.5</td>\n",
              "      <td>404992.0</td>\n",
              "      <td>0.647716</td>\n",
              "      <td>138881.5</td>\n",
              "      <td>4545047.0</td>\n",
              "      <td>0.029645</td>\n",
              "      <td>552277.5</td>\n",
              "      <td>11551673.5</td>\n",
              "      <td>0.045634</td>\n",
              "    </tr>\n",
              "    <tr>\n",
              "      <th>19</th>\n",
              "      <td>CSCP3_SERUM_B03</td>\n",
              "      <td>B03</td>\n",
              "      <td>Serum</td>\n",
              "      <td>0.148524</td>\n",
              "      <td>17317090</td>\n",
              "      <td>3738231</td>\n",
              "      <td>3247907</td>\n",
              "      <td>8658545.0</td>\n",
              "      <td>2086939.5</td>\n",
              "      <td>0.241278</td>\n",
              "      <td>6058556.0</td>\n",
              "      <td>513049.5</td>\n",
              "      <td>0.0</td>\n",
              "      <td>217824.0</td>\n",
              "      <td>1869115.5</td>\n",
              "      <td>0.104381</td>\n",
              "      <td>46505405.5</td>\n",
              "      <td>1952069.5</td>\n",
              "      <td>1295857.5</td>\n",
              "      <td>0.601019</td>\n",
              "      <td>164942.5</td>\n",
              "      <td>12048384.5</td>\n",
              "      <td>0.013504</td>\n",
              "      <td>633560.0</td>\n",
              "      <td>30410591.5</td>\n",
              "      <td>0.020411</td>\n",
              "    </tr>\n",
              "    <tr>\n",
              "      <th>20</th>\n",
              "      <td>CSCP3_SERUM_B04</td>\n",
              "      <td>B04</td>\n",
              "      <td>Serum</td>\n",
              "      <td>0.149972</td>\n",
              "      <td>22686758</td>\n",
              "      <td>4354918</td>\n",
              "      <td>3279572</td>\n",
              "      <td>11343379.0</td>\n",
              "      <td>2550444.5</td>\n",
              "      <td>0.225193</td>\n",
              "      <td>8202591.5</td>\n",
              "      <td>590343.0</td>\n",
              "      <td>0.0</td>\n",
              "      <td>372985.5</td>\n",
              "      <td>2177459.0</td>\n",
              "      <td>0.146302</td>\n",
              "      <td>54358727.0</td>\n",
              "      <td>2249670.0</td>\n",
              "      <td>1692714.5</td>\n",
              "      <td>0.570623</td>\n",
              "      <td>288421.5</td>\n",
              "      <td>14125177.5</td>\n",
              "      <td>0.020007</td>\n",
              "      <td>894738.0</td>\n",
              "      <td>35108005.5</td>\n",
              "      <td>0.024862</td>\n",
              "    </tr>\n",
              "    <tr>\n",
              "      <th>21</th>\n",
              "      <td>CSCP3_SERUM_B05</td>\n",
              "      <td>B05</td>\n",
              "      <td>Serum</td>\n",
              "      <td>0.074628</td>\n",
              "      <td>14294048</td>\n",
              "      <td>1720406</td>\n",
              "      <td>1631951</td>\n",
              "      <td>7147024.0</td>\n",
              "      <td>1001607.5</td>\n",
              "      <td>0.140797</td>\n",
              "      <td>5728627.0</td>\n",
              "      <td>416789.5</td>\n",
              "      <td>0.0</td>\n",
              "      <td>141404.5</td>\n",
              "      <td>860203.0</td>\n",
              "      <td>0.141193</td>\n",
              "      <td>20996088.0</td>\n",
              "      <td>831706.5</td>\n",
              "      <td>697268.5</td>\n",
              "      <td>0.543963</td>\n",
              "      <td>100867.5</td>\n",
              "      <td>5441127.0</td>\n",
              "      <td>0.018199</td>\n",
              "      <td>380425.0</td>\n",
              "      <td>13544693.5</td>\n",
              "      <td>0.027320</td>\n",
              "    </tr>\n",
              "    <tr>\n",
              "      <th>22</th>\n",
              "      <td>CSCP3_SERUM_C03</td>\n",
              "      <td>C03</td>\n",
              "      <td>Serum</td>\n",
              "      <td>0.106121</td>\n",
              "      <td>14098492</td>\n",
              "      <td>2560483</td>\n",
              "      <td>2320630</td>\n",
              "      <td>7049246.0</td>\n",
              "      <td>1460524.5</td>\n",
              "      <td>0.207646</td>\n",
              "      <td>5199579.0</td>\n",
              "      <td>389142.5</td>\n",
              "      <td>0.0</td>\n",
              "      <td>180283.0</td>\n",
              "      <td>1280241.5</td>\n",
              "      <td>0.123449</td>\n",
              "      <td>31955948.0</td>\n",
              "      <td>1339026.5</td>\n",
              "      <td>1017677.5</td>\n",
              "      <td>0.568176</td>\n",
              "      <td>94930.0</td>\n",
              "      <td>8402855.0</td>\n",
              "      <td>0.011170</td>\n",
              "      <td>430128.5</td>\n",
              "      <td>20671330.5</td>\n",
              "      <td>0.020386</td>\n",
              "    </tr>\n",
              "    <tr>\n",
              "      <th>23</th>\n",
              "      <td>CSCP3_SERUM_C04</td>\n",
              "      <td>C04</td>\n",
              "      <td>Serum</td>\n",
              "      <td>0.144491</td>\n",
              "      <td>15024112</td>\n",
              "      <td>3685274</td>\n",
              "      <td>3159708</td>\n",
              "      <td>7512056.0</td>\n",
              "      <td>2035874.5</td>\n",
              "      <td>0.271275</td>\n",
              "      <td>5022156.5</td>\n",
              "      <td>454025.0</td>\n",
              "      <td>0.0</td>\n",
              "      <td>193237.5</td>\n",
              "      <td>1842637.0</td>\n",
              "      <td>0.094913</td>\n",
              "      <td>45559001.5</td>\n",
              "      <td>1911011.0</td>\n",
              "      <td>1245574.0</td>\n",
              "      <td>0.605408</td>\n",
              "      <td>175380.0</td>\n",
              "      <td>11816501.0</td>\n",
              "      <td>0.014624</td>\n",
              "      <td>633474.5</td>\n",
              "      <td>29777061.0</td>\n",
              "      <td>0.020833</td>\n",
              "    </tr>\n",
              "    <tr>\n",
              "      <th>24</th>\n",
              "      <td>CSCP3_SERUM_C05</td>\n",
              "      <td>C05</td>\n",
              "      <td>Serum</td>\n",
              "      <td>0.106690</td>\n",
              "      <td>17295356</td>\n",
              "      <td>2566083</td>\n",
              "      <td>2333082</td>\n",
              "      <td>8647678.0</td>\n",
              "      <td>1498087.0</td>\n",
              "      <td>0.173552</td>\n",
              "      <td>6643217.0</td>\n",
              "      <td>506374.0</td>\n",
              "      <td>0.0</td>\n",
              "      <td>215045.5</td>\n",
              "      <td>1283041.5</td>\n",
              "      <td>0.143346</td>\n",
              "      <td>31682655.5</td>\n",
              "      <td>1216975.0</td>\n",
              "      <td>1034562.0</td>\n",
              "      <td>0.540509</td>\n",
              "      <td>141848.5</td>\n",
              "      <td>8152591.0</td>\n",
              "      <td>0.017107</td>\n",
              "      <td>526704.5</td>\n",
              "      <td>20609974.5</td>\n",
              "      <td>0.024918</td>\n",
              "    </tr>\n",
              "  </tbody>\n",
              "</table>\n",
              "</div>"
            ],
            "text/plain": [
              "                 id loc_id   type  ...  Methylated CHHs  Unmethylated CHHs  CHH rate\n",
              "0   CSCP3_SERUM_A01    A01  Serum  ...         596535.0         14262445.0  0.040149\n",
              "1   CSCP3_SERUM_A02    A02  Serum  ...        1094832.0         26327150.5  0.039930\n",
              "2   CSCP3_SERUM_B01    B01  Serum  ...         942765.5         30374704.5  0.030113\n",
              "3   CSCP3_SERUM_B02    B02  Serum  ...        1719842.5         82226645.0  0.020493\n",
              "4   CSCP3_SERUM_C01    C01  Serum  ...         499407.0         21045957.5  0.023184\n",
              "5   CSCP3_SERUM_C02    C02  Serum  ...        1004585.5         45868760.5  0.021434\n",
              "6   CSCP3_SERUM_D01    D01  Serum  ...         590310.5         27178574.0  0.021264\n",
              "7   CSCP3_SERUM_D02    D02  Serum  ...        1779648.0         83796598.5  0.020801\n",
              "8   CSCP3_SERUM_E01    E01  Serum  ...         348497.0         17097700.5  0.019975\n",
              "9   CSCP3_SERUM_E02    E02  Serum  ...         372412.0         10936945.5  0.032930\n",
              "10  CSCP3_SERUM_F01    F01  Serum  ...         543136.5         22347890.5  0.023732\n",
              "11  CSCP3_SERUM_F02    F02  Serum  ...         357857.0         13992361.5  0.024947\n",
              "12  CSCP3_SERUM_G01    G01  Serum  ...         373702.5         19370259.0  0.018933\n",
              "13  CSCP3_SERUM_G02    G02  Serum  ...         192033.5          7787107.0  0.024068\n",
              "14  CSCP3_SERUM_H01    H01  Serum  ...         444619.5         23037224.0  0.018934\n",
              "15  CSCP3_SERUM_H02    H02  Serum  ...         318203.5         12853782.5  0.024159\n",
              "16  CSCP3_SERUM_A03    A03  Serum  ...         717895.5         16834002.5  0.040895\n",
              "17  CSCP3_SERUM_A04    A04  Serum  ...         497534.5         12518911.0  0.038230\n",
              "18  CSCP3_SERUM_A05    A05  Serum  ...         552277.5         11551673.5  0.045634\n",
              "19  CSCP3_SERUM_B03    B03  Serum  ...         633560.0         30410591.5  0.020411\n",
              "20  CSCP3_SERUM_B04    B04  Serum  ...         894738.0         35108005.5  0.024862\n",
              "21  CSCP3_SERUM_B05    B05  Serum  ...         380425.0         13544693.5  0.027320\n",
              "22  CSCP3_SERUM_C03    C03  Serum  ...         430128.5         20671330.5  0.020386\n",
              "23  CSCP3_SERUM_C04    C04  Serum  ...         633474.5         29777061.0  0.020833\n",
              "24  CSCP3_SERUM_C05    C05  Serum  ...         526704.5         20609974.5  0.024918\n",
              "\n",
              "[25 rows x 26 columns]"
            ]
          },
          "metadata": {
            "tags": []
          },
          "execution_count": 41
        }
      ]
    },
    {
      "cell_type": "markdown",
      "metadata": {
        "id": "C51mdg1Cl9GI"
      },
      "source": [
        "The previous calculation showed a coverage of 0.158% while in this table we see 0.125% of coverage for CpG sites. These values are close enough to be reassuring, especially considering that this table probably includes in the total sequences analysed also the ones involving CpH sites. Most samples show a coverage between 0.05 and 0.25%."
      ]
    },
    {
      "cell_type": "markdown",
      "metadata": {
        "id": "D5t7RYNckSfI"
      },
      "source": [
        "# Defining MAPQ cutoff threshold"
      ]
    },
    {
      "cell_type": "code",
      "metadata": {
        "id": "tO59eNG2kMgK",
        "colab": {
          "resources": {
            "http://localhost:8080/nbextensions/google.colab/files.js": {
              "data": "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",
              "ok": true,
              "headers": [
                [
                  "content-type",
                  "application/javascript"
                ]
              ],
              "status": 200,
              "status_text": ""
            }
          },
          "base_uri": "https://localhost:8080/",
          "height": 73
        },
        "outputId": "e5e1c692-2401-4c8d-b6a4-a4dce8f5b860"
      },
      "source": [
        "from google.colab import files\n",
        "uploaded = files.upload()"
      ],
      "execution_count": null,
      "outputs": [
        {
          "output_type": "display_data",
          "data": {
            "text/html": [
              "\n",
              "     <input type=\"file\" id=\"files-d611042b-c17c-4d5a-8453-317b7d71c43d\" name=\"files[]\" multiple disabled\n",
              "        style=\"border:none\" />\n",
              "     <output id=\"result-d611042b-c17c-4d5a-8453-317b7d71c43d\">\n",
              "      Upload widget is only available when the cell has been executed in the\n",
              "      current browser session. Please rerun this cell to enable.\n",
              "      </output>\n",
              "      <script src=\"/nbextensions/google.colab/files.js\"></script> "
            ],
            "text/plain": [
              "<IPython.core.display.HTML object>"
            ]
          },
          "metadata": {
            "tags": []
          }
        },
        {
          "output_type": "stream",
          "text": [
            "Saving MAPQ_threshold.csv to MAPQ_threshold.csv\n"
          ],
          "name": "stdout"
        }
      ]
    },
    {
      "cell_type": "code",
      "metadata": {
        "id": "_FXDFqc3vljt"
      },
      "source": [
        "#let's start by installing packages we will likely be using\n",
        "import numpy as np\n",
        "import pandas as pd\n",
        "import matplotlib as mpl\n",
        "import matplotlib.pyplot as plt\n",
        "import seaborn as sns"
      ],
      "execution_count": null,
      "outputs": []
    },
    {
      "cell_type": "code",
      "metadata": {
        "id": "Ksj_3nT5vVjQ"
      },
      "source": [
        "import io\n",
        "MAPQ_threshold=pd.read_csv(io.BytesIO(uploaded['MAPQ_threshold.csv']))"
      ],
      "execution_count": null,
      "outputs": []
    },
    {
      "cell_type": "code",
      "metadata": {
        "id": "LNwRRRt1v_hO",
        "colab": {
          "base_uri": "https://localhost:8080/",
          "height": 197
        },
        "outputId": "97adeb05-e2d1-4e51-ebe3-cce55aad154e"
      },
      "source": [
        "MAPQ_threshold.head()"
      ],
      "execution_count": null,
      "outputs": [
        {
          "output_type": "execute_result",
          "data": {
            "text/html": [
              "<div>\n",
              "<style scoped>\n",
              "    .dataframe tbody tr th:only-of-type {\n",
              "        vertical-align: middle;\n",
              "    }\n",
              "\n",
              "    .dataframe tbody tr th {\n",
              "        vertical-align: top;\n",
              "    }\n",
              "\n",
              "    .dataframe thead th {\n",
              "        text-align: right;\n",
              "    }\n",
              "</style>\n",
              "<table border=\"1\" class=\"dataframe\">\n",
              "  <thead>\n",
              "    <tr style=\"text-align: right;\">\n",
              "      <th></th>\n",
              "      <th>Analysis</th>\n",
              "      <th>Direction</th>\n",
              "      <th>Frequency</th>\n",
              "      <th>MAPQ value</th>\n",
              "    </tr>\n",
              "  </thead>\n",
              "  <tbody>\n",
              "    <tr>\n",
              "      <th>0</th>\n",
              "      <td>SingleEnd</td>\n",
              "      <td>R1</td>\n",
              "      <td>141</td>\n",
              "      <td>NaN</td>\n",
              "    </tr>\n",
              "    <tr>\n",
              "      <th>1</th>\n",
              "      <td>SingleEnd</td>\n",
              "      <td>R1</td>\n",
              "      <td>1619344</td>\n",
              "      <td>0.0</td>\n",
              "    </tr>\n",
              "    <tr>\n",
              "      <th>2</th>\n",
              "      <td>SingleEnd</td>\n",
              "      <td>R1</td>\n",
              "      <td>117887</td>\n",
              "      <td>11.0</td>\n",
              "    </tr>\n",
              "    <tr>\n",
              "      <th>3</th>\n",
              "      <td>SingleEnd</td>\n",
              "      <td>R1</td>\n",
              "      <td>5</td>\n",
              "      <td>12.0</td>\n",
              "    </tr>\n",
              "    <tr>\n",
              "      <th>4</th>\n",
              "      <td>SingleEnd</td>\n",
              "      <td>R1</td>\n",
              "      <td>123366</td>\n",
              "      <td>14.0</td>\n",
              "    </tr>\n",
              "  </tbody>\n",
              "</table>\n",
              "</div>"
            ],
            "text/plain": [
              "    Analysis Direction  Frequency  MAPQ value\n",
              "0  SingleEnd        R1        141         NaN\n",
              "1  SingleEnd        R1    1619344         0.0\n",
              "2  SingleEnd        R1     117887        11.0\n",
              "3  SingleEnd        R1          5        12.0\n",
              "4  SingleEnd        R1     123366        14.0"
            ]
          },
          "metadata": {
            "tags": []
          },
          "execution_count": 5
        }
      ]
    },
    {
      "cell_type": "code",
      "metadata": {
        "id": "i1iVRv5uwGnt",
        "colab": {
          "base_uri": "https://localhost:8080/",
          "height": 344
        },
        "outputId": "ba17a608-3322-4fad-c287-3ad84d5b676f"
      },
      "source": [
        "plt.figure(figsize=(20,5))\n",
        "ax=sns.barplot(x=\"MAPQ value\",y=\"Frequency\",data=MAPQ_threshold, hue=\"Analysis\")\n"
      ],
      "execution_count": null,
      "outputs": [
        {
          "output_type": "display_data",
          "data": {
            "image/png": "[encoded data removed]",
            "text/plain": [
              "<Figure size 1440x360 with 1 Axes>"
            ]
          },
          "metadata": {
            "tags": [],
            "needs_background": "light"
          }
        }
      ]
    },
    {
      "cell_type": "markdown",
      "metadata": {
        "id": "WeYOVxJ4F5AE"
      },
      "source": [
        "It is difficult to see the differences between both files of single-ended alignment versus paired end alignment, so we will try again with another dataset."
      ]
    },
    {
      "cell_type": "code",
      "metadata": {
        "id": "08DFwR_F_GHD",
        "colab": {
          "resources": {
            "http://localhost:8080/nbextensions/google.colab/files.js": {
              "data": "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",
              "ok": true,
              "headers": [
                [
                  "content-type",
                  "application/javascript"
                ]
              ],
              "status": 200,
              "status_text": ""
            }
          },
          "base_uri": "https://localhost:8080/",
          "height": 73
        },
        "outputId": "9df7cd46-c459-4c59-b630-f43da66a650a"
      },
      "source": [
        "from google.colab import files\n",
        "uploaded = files.upload()"
      ],
      "execution_count": null,
      "outputs": [
        {
          "output_type": "display_data",
          "data": {
            "text/html": [
              "\n",
              "     <input type=\"file\" id=\"files-baa923a1-a054-4f61-af73-89ac7de26269\" name=\"files[]\" multiple disabled\n",
              "        style=\"border:none\" />\n",
              "     <output id=\"result-baa923a1-a054-4f61-af73-89ac7de26269\">\n",
              "      Upload widget is only available when the cell has been executed in the\n",
              "      current browser session. Please rerun this cell to enable.\n",
              "      </output>\n",
              "      <script src=\"/nbextensions/google.colab/files.js\"></script> "
            ],
            "text/plain": [
              "<IPython.core.display.HTML object>"
            ]
          },
          "metadata": {
            "tags": []
          }
        },
        {
          "output_type": "stream",
          "text": [
            "Saving MAPQ_threshold_v1.csv to MAPQ_threshold_v1.csv\n"
          ],
          "name": "stdout"
        }
      ]
    },
    {
      "cell_type": "code",
      "metadata": {
        "id": "Mp2veJMYGJSs"
      },
      "source": [
        "import io\n",
        "MAPQ_threshold_V1=pd.read_csv(io.BytesIO(uploaded['MAPQ_threshold_v1.csv']))"
      ],
      "execution_count": null,
      "outputs": []
    },
    {
      "cell_type": "code",
      "metadata": {
        "id": "w-5ZMUFWGM5g",
        "colab": {
          "base_uri": "https://localhost:8080/",
          "height": 197
        },
        "outputId": "95eb288b-67be-42ce-c1f3-f76364ffdca9"
      },
      "source": [
        "MAPQ_threshold_V1.head()"
      ],
      "execution_count": null,
      "outputs": [
        {
          "output_type": "execute_result",
          "data": {
            "text/html": [
              "<div>\n",
              "<style scoped>\n",
              "    .dataframe tbody tr th:only-of-type {\n",
              "        vertical-align: middle;\n",
              "    }\n",
              "\n",
              "    .dataframe tbody tr th {\n",
              "        vertical-align: top;\n",
              "    }\n",
              "\n",
              "    .dataframe thead th {\n",
              "        text-align: right;\n",
              "    }\n",
              "</style>\n",
              "<table border=\"1\" class=\"dataframe\">\n",
              "  <thead>\n",
              "    <tr style=\"text-align: right;\">\n",
              "      <th></th>\n",
              "      <th>Analysis</th>\n",
              "      <th>Direction</th>\n",
              "      <th>Alignment</th>\n",
              "      <th>Frequency</th>\n",
              "      <th>MAPQ value</th>\n",
              "    </tr>\n",
              "  </thead>\n",
              "  <tbody>\n",
              "    <tr>\n",
              "      <th>0</th>\n",
              "      <td>SingleEnd</td>\n",
              "      <td>R1</td>\n",
              "      <td>SingleEnd-R1</td>\n",
              "      <td>141</td>\n",
              "      <td>NaN</td>\n",
              "    </tr>\n",
              "    <tr>\n",
              "      <th>1</th>\n",
              "      <td>SingleEnd</td>\n",
              "      <td>R1</td>\n",
              "      <td>SingleEnd-R1</td>\n",
              "      <td>1619344</td>\n",
              "      <td>0.0</td>\n",
              "    </tr>\n",
              "    <tr>\n",
              "      <th>2</th>\n",
              "      <td>SingleEnd</td>\n",
              "      <td>R1</td>\n",
              "      <td>SingleEnd-R1</td>\n",
              "      <td>117887</td>\n",
              "      <td>11.0</td>\n",
              "    </tr>\n",
              "    <tr>\n",
              "      <th>3</th>\n",
              "      <td>SingleEnd</td>\n",
              "      <td>R1</td>\n",
              "      <td>SingleEnd-R1</td>\n",
              "      <td>5</td>\n",
              "      <td>12.0</td>\n",
              "    </tr>\n",
              "    <tr>\n",
              "      <th>4</th>\n",
              "      <td>SingleEnd</td>\n",
              "      <td>R1</td>\n",
              "      <td>SingleEnd-R1</td>\n",
              "      <td>123366</td>\n",
              "      <td>14.0</td>\n",
              "    </tr>\n",
              "  </tbody>\n",
              "</table>\n",
              "</div>"
            ],
            "text/plain": [
              "    Analysis Direction     Alignment  Frequency  MAPQ value\n",
              "0  SingleEnd        R1  SingleEnd-R1        141         NaN\n",
              "1  SingleEnd        R1  SingleEnd-R1    1619344         0.0\n",
              "2  SingleEnd        R1  SingleEnd-R1     117887        11.0\n",
              "3  SingleEnd        R1  SingleEnd-R1          5        12.0\n",
              "4  SingleEnd        R1  SingleEnd-R1     123366        14.0"
            ]
          },
          "metadata": {
            "tags": []
          },
          "execution_count": 12
        }
      ]
    },
    {
      "cell_type": "code",
      "metadata": {
        "id": "hWK-qQlXGQcB",
        "colab": {
          "base_uri": "https://localhost:8080/",
          "height": 615
        },
        "outputId": "c246ae3f-48f8-4654-d2d9-04b06bfbb7c7"
      },
      "source": [
        "plt.figure(figsize=(20,10))\n",
        "ax=sns.barplot(x=\"MAPQ value\",y=\"Frequency\",data=MAPQ_threshold_V1, hue=\"Alignment\")\n"
      ],
      "execution_count": null,
      "outputs": [
        {
          "output_type": "display_data",
          "data": {
            "image/png": "[encoded data removed]",
            "text/plain": [
              "<Figure size 1440x720 with 1 Axes>"
            ]
          },
          "metadata": {
            "tags": [],
            "needs_background": "light"
          }
        }
      ]
    },
    {
      "cell_type": "markdown",
      "metadata": {
        "id": "9M9MPoBMJcYt"
      },
      "source": [
        "There seems to be an error bar in the value 0, and I spotted a mistake in the data file. So, let's try again."
      ]
    },
    {
      "cell_type": "code",
      "metadata": {
        "id": "VqhHdmtPGV_Z",
        "colab": {
          "resources": {
            "http://localhost:8080/nbextensions/google.colab/files.js": {
              "data": "Ly8gQ29weXJpZ2h0IDIwMTcgR29vZ2xlIExMQwovLwovLyBMaWNlbnNlZCB1bmRlciB0aGUgQXBhY2hlIExpY2Vuc2UsIFZlcnNpb24gMi4wICh0aGUgIkxpY2Vuc2UiKTsKLy8geW91IG1heSBub3QgdXNlIHRoaXMgZmlsZSBleGNlcHQgaW4gY29tcGxpYW5jZSB3aXRoIHRoZSBMaWNlbnNlLgovLyBZb3UgbWF5IG9idGFpbiBhIGNvcHkgb2YgdGhlIExpY2Vuc2UgYXQKLy8KLy8gICAgICBodHRwOi8vd3d3LmFwYWNoZS5vcmcvbGljZW5zZXMvTElDRU5TRS0yLjAKLy8KLy8gVW5sZXNzIHJlcXVpcmVkIGJ5IGFwcGxpY2FibGUgbGF3IG9yIGFncmVlZCB0byBpbiB3cml0aW5nLCBzb2Z0d2FyZQovLyBkaXN0cmlidXRlZCB1bmRlciB0aGUgTGljZW5zZSBpcyBkaXN0cmlidXRlZCBvbiBhbiAiQVMgSVMiIEJBU0lTLAovLyBXSVRIT1VUIFdBUlJBTlRJRVMgT1IgQ09ORElUSU9OUyBPRiBBTlkgS0lORCwgZWl0aGVyIGV4cHJlc3Mgb3IgaW1wbGllZC4KLy8gU2VlIHRoZSBMaWNlbnNlIGZvciB0aGUgc3BlY2lmaWMgbGFuZ3VhZ2UgZ292ZXJuaW5nIHBlcm1pc3Npb25zIGFuZAovLyBsaW1pdGF0aW9ucyB1bmRlciB0aGUgTGljZW5zZS4KCi8qKgogKiBAZmlsZW92ZXJ2aWV3IEhlbHBlcnMgZm9yIGdvb2dsZS5jb2xhYiBQeXRob24gbW9kdWxlLgogKi8KKGZ1bmN0aW9uKHNjb3BlKSB7CmZ1bmN0aW9uIHNwYW4odGV4dCwgc3R5bGVBdHRyaWJ1dGVzID0ge30pIHsKICBjb25zdCBlbGVtZW50ID0gZG9jdW1lbnQuY3JlYXRlRWxlbWVudCgnc3BhbicpOwogIGVsZW1lbnQudGV4dENvbnRlbnQgPSB0ZXh0OwogIGZvciAoY29uc3Qga2V5IG9mIE9iamVjdC5rZXlzKHN0eWxlQXR0cmlidXRlcykpIHsKICAgIGVsZW1lbnQuc3R5bGVba2V5XSA9IHN0eWxlQXR0cmlidXRlc1trZXldOwogIH0KICByZXR1cm4gZWxlbWVudDsKfQoKLy8gTWF4IG51bWJlciBvZiBieXRlcyB3aGljaCB3aWxsIGJlIHVwbG9hZGVkIGF0IGEgdGltZS4KY29uc3QgTUFYX1BBWUxPQURfU0laRSA9IDEwMCAqIDEwMjQ7CgpmdW5jdGlvbiBfdXBsb2FkRmlsZXMoaW5wdXRJZCwgb3V0cHV0SWQpIHsKICBjb25zdCBzdGVwcyA9IHVwbG9hZEZpbGVzU3RlcChpbnB1dElkLCBvdXRwdXRJZCk7CiAgY29uc3Qgb3V0cHV0RWxlbWVudCA9IGRvY3VtZW50LmdldEVsZW1lbnRCeUlkKG91dHB1dElkKTsKICAvLyBDYWNoZSBzdGVwcyBvbiB0aGUgb3V0cHV0RWxlbWVudCB0byBtYWtlIGl0IGF2YWlsYWJsZSBmb3IgdGhlIG5leHQgY2FsbAogIC8vIHRvIHVwbG9hZEZpbGVzQ29udGludWUgZnJvbSBQeXRob24uCiAgb3V0cHV0RWxlbWVudC5zdGVwcyA9IHN0ZXBzOwoKICByZXR1cm4gX3VwbG9hZEZpbGVzQ29udGludWUob3V0cHV0SWQpOwp9CgovLyBUaGlzIGlzIHJvdWdobHkgYW4gYXN5bmMgZ2VuZXJhdG9yIChub3Qgc3VwcG9ydGVkIGluIHRoZSBicm93c2VyIHlldCksCi8vIHdoZXJlIHRoZXJlIGFyZSBtdWx0aXBsZSBhc3luY2hyb25vdXMgc3RlcHMgYW5kIHRoZSBQeXRob24gc2lkZSBpcyBnb2luZwovLyB0byBwb2xsIGZvciBjb21wbGV0aW9uIG9mIGVhY2ggc3RlcC4KLy8gVGhpcyB1c2VzIGEgUHJvbWlzZSB0byBibG9jayB0aGUgcHl0aG9uIHNpZGUgb24gY29tcGxldGlvbiBvZiBlYWNoIHN0ZXAsCi8vIHRoZW4gcGFzc2VzIHRoZSByZXN1bHQgb2YgdGhlIHByZXZpb3VzIHN0ZXAgYXMgdGhlIGlucHV0IHRvIHRoZSBuZXh0IHN0ZXAuCmZ1bmN0aW9uIF91cGxvYWRGaWxlc0NvbnRpbnVlKG91dHB1dElkKSB7CiAgY29uc3Qgb3V0cHV0RWxlbWVudCA9IGRvY3VtZW50LmdldEVsZW1lbnRCeUlkKG91dHB1dElkKTsKICBjb25zdCBzdGVwcyA9IG91dHB1dEVsZW1lbnQuc3RlcHM7CgogIGNvbnN0IG5leHQgPSBzdGVwcy5uZXh0KG91dHB1dEVsZW1lbnQubGFzdFByb21pc2VWYWx1ZSk7CiAgcmV0dXJuIFByb21pc2UucmVzb2x2ZShuZXh0LnZhbHVlLnByb21pc2UpLnRoZW4oKHZhbHVlKSA9PiB7CiAgICAvLyBDYWNoZSB0aGUgbGFzdCBwcm9taXNlIHZhbHVlIHRvIG1ha2UgaXQgYXZhaWxhYmxlIHRvIHRoZSBuZXh0CiAgICAvLyBzdGVwIG9mIHRoZSBnZW5lcmF0b3IuCiAgICBvdXRwdXRFbGVtZW50Lmxhc3RQcm9taXNlVmFsdWUgPSB2YWx1ZTsKICAgIHJldHVybiBuZXh0LnZhbHVlLnJlc3BvbnNlOwogIH0pOwp9CgovKioKICogR2VuZXJhdG9yIGZ1bmN0aW9uIHdoaWNoIGlzIGNhbGxlZCBiZXR3ZWVuIGVhY2ggYXN5bmMgc3RlcCBvZiB0aGUgdXBsb2FkCiAqIHByb2Nlc3MuCiAqIEBwYXJhbSB7c3RyaW5nfSBpbnB1dElkIEVsZW1lbnQgSUQgb2YgdGhlIGlucHV0IGZpbGUgcGlja2VyIGVsZW1lbnQuCiAqIEBwYXJhbSB7c3RyaW5nfSBvdXRwdXRJZCBFbGVtZW50IElEIG9mIHRoZSBvdXRwdXQgZGlzcGxheS4KICogQHJldHVybiB7IUl0ZXJhYmxlPCFPYmplY3Q+fSBJdGVyYWJsZSBvZiBuZXh0IHN0ZXBzLgogKi8KZnVuY3Rpb24qIHVwbG9hZEZpbGVzU3RlcChpbnB1dElkLCBvdXRwdXRJZCkgewogIGNvbnN0IGlucHV0RWxlbWVudCA9IGRvY3VtZW50LmdldEVsZW1lbnRCeUlkKGlucHV0SWQpOwogIGlucHV0RWxlbWVudC5kaXNhYmxlZCA9IGZhbHNlOwoKICBjb25zdCBvdXRwdXRFbGVtZW50ID0gZG9jdW1lbnQuZ2V0RWxlbWVudEJ5SWQob3V0cHV0SWQpOwogIG91dHB1dEVsZW1lbnQuaW5uZXJIVE1MID0gJyc7CgogIGNvbnN0IHBpY2tlZFByb21pc2UgPSBuZXcgUHJvbWlzZSgocmVzb2x2ZSkgPT4gewogICAgaW5wdXRFbGVtZW50LmFkZEV2ZW50TGlzdGVuZXIoJ2NoYW5nZScsIChlKSA9PiB7CiAgICAgIHJlc29sdmUoZS50YXJnZXQuZmlsZXMpOwogICAgfSk7CiAgfSk7CgogIGNvbnN0IGNhbmNlbCA9IGRvY3VtZW50LmNyZWF0ZUVsZW1lbnQoJ2J1dHRvbicpOwogIGlucHV0RWxlbWVudC5wYXJlbnRFbGVtZW50LmFwcGVuZENoaWxkKGNhbmNlbCk7CiAgY2FuY2VsLnRleHRDb250ZW50ID0gJ0NhbmNlbCB1cGxvYWQnOwogIGNvbnN0IGNhbmNlbFByb21pc2UgPSBuZXcgUHJvbWlzZSgocmVzb2x2ZSkgPT4gewogICAgY2FuY2VsLm9uY2xpY2sgPSAoKSA9PiB7CiAgICAgIHJlc29sdmUobnVsbCk7CiAgICB9OwogIH0pOwoKICAvLyBXYWl0IGZvciB0aGUgdXNlciB0byBwaWNrIHRoZSBmaWxlcy4KICBjb25zdCBmaWxlcyA9IHlpZWxkIHsKICAgIHByb21pc2U6IFByb21pc2UucmFjZShbcGlja2VkUHJvbWlzZSwgY2FuY2VsUHJvbWlzZV0pLAogICAgcmVzcG9uc2U6IHsKICAgICAgYWN0aW9uOiAnc3RhcnRpbmcnLAogICAgfQogIH07CgogIGNhbmNlbC5yZW1vdmUoKTsKCiAgLy8gRGlzYWJsZSB0aGUgaW5wdXQgZWxlbWVudCBzaW5jZSBmdXJ0aGVyIHBpY2tzIGFyZSBub3QgYWxsb3dlZC4KICBpbnB1dEVsZW1lbnQuZGlzYWJsZWQgPSB0cnVlOwoKICBpZiAoIWZpbGVzKSB7CiAgICByZXR1cm4gewogICAgICByZXNwb25zZTogewogICAgICAgIGFjdGlvbjogJ2NvbXBsZXRlJywKICAgICAgfQogICAgfTsKICB9CgogIGZvciAoY29uc3QgZmlsZSBvZiBmaWxlcykgewogICAgY29uc3QgbGkgPSBkb2N1bWVudC5jcmVhdGVFbGVtZW50KCdsaScpOwogICAgbGkuYXBwZW5kKHNwYW4oZmlsZS5uYW1lLCB7Zm9udFdlaWdodDogJ2JvbGQnfSkpOwogICAgbGkuYXBwZW5kKHNwYW4oCiAgICAgICAgYCgke2ZpbGUudHlwZSB8fCAnbi9hJ30pIC0gJHtmaWxlLnNpemV9IGJ5dGVzLCBgICsKICAgICAgICBgbGFzdCBtb2RpZmllZDogJHsKICAgICAgICAgICAgZmlsZS5sYXN0TW9kaWZpZWREYXRlID8gZmlsZS5sYXN0TW9kaWZpZWREYXRlLnRvTG9jYWxlRGF0ZVN0cmluZygpIDoKICAgICAgICAgICAgICAgICAgICAgICAgICAgICAgICAgICAgJ24vYSd9IC0gYCkpOwogICAgY29uc3QgcGVyY2VudCA9IHNwYW4oJzAlIGRvbmUnKTsKICAgIGxpLmFwcGVuZENoaWxkKHBlcmNlbnQpOwoKICAgIG91dHB1dEVsZW1lbnQuYXBwZW5kQ2hpbGQobGkpOwoKICAgIGNvbnN0IGZpbGVEYXRhUHJvbWlzZSA9IG5ldyBQcm9taXNlKChyZXNvbHZlKSA9PiB7CiAgICAgIGNvbnN0IHJlYWRlciA9IG5ldyBGaWxlUmVhZGVyKCk7CiAgICAgIHJlYWRlci5vbmxvYWQgPSAoZSkgPT4gewogICAgICAgIHJlc29sdmUoZS50YXJnZXQucmVzdWx0KTsKICAgICAgfTsKICAgICAgcmVhZGVyLnJlYWRBc0FycmF5QnVmZmVyKGZpbGUpOwogICAgfSk7CiAgICAvLyBXYWl0IGZvciB0aGUgZGF0YSB0byBiZSByZWFkeS4KICAgIGxldCBmaWxlRGF0YSA9IHlpZWxkIHsKICAgICAgcHJvbWlzZTogZmlsZURhdGFQcm9taXNlLAogICAgICByZXNwb25zZTogewogICAgICAgIGFjdGlvbjogJ2NvbnRpbnVlJywKICAgICAgfQogICAgfTsKCiAgICAvLyBVc2UgYSBjaHVua2VkIHNlbmRpbmcgdG8gYXZvaWQgbWVzc2FnZSBzaXplIGxpbWl0cy4gU2VlIGIvNjIxMTU2NjAuCiAgICBsZXQgcG9zaXRpb24gPSAwOwogICAgd2hpbGUgKHBvc2l0aW9uIDwgZmlsZURhdGEuYnl0ZUxlbmd0aCkgewogICAgICBjb25zdCBsZW5ndGggPSBNYXRoLm1pbihmaWxlRGF0YS5ieXRlTGVuZ3RoIC0gcG9zaXRpb24sIE1BWF9QQVlMT0FEX1NJWkUpOwogICAgICBjb25zdCBjaHVuayA9IG5ldyBVaW50OEFycmF5KGZpbGVEYXRhLCBwb3NpdGlvbiwgbGVuZ3RoKTsKICAgICAgcG9zaXRpb24gKz0gbGVuZ3RoOwoKICAgICAgY29uc3QgYmFzZTY0ID0gYnRvYShTdHJpbmcuZnJvbUNoYXJDb2RlLmFwcGx5KG51bGwsIGNodW5rKSk7CiAgICAgIHlpZWxkIHsKICAgICAgICByZXNwb25zZTogewogICAgICAgICAgYWN0aW9uOiAnYXBwZW5kJywKICAgICAgICAgIGZpbGU6IGZpbGUubmFtZSwKICAgICAgICAgIGRhdGE6IGJhc2U2NCwKICAgICAgICB9LAogICAgICB9OwogICAgICBwZXJjZW50LnRleHRDb250ZW50ID0KICAgICAgICAgIGAke01hdGgucm91bmQoKHBvc2l0aW9uIC8gZmlsZURhdGEuYnl0ZUxlbmd0aCkgKiAxMDApfSUgZG9uZWA7CiAgICB9CiAgfQoKICAvLyBBbGwgZG9uZS4KICB5aWVsZCB7CiAgICByZXNwb25zZTogewogICAgICBhY3Rpb246ICdjb21wbGV0ZScsCiAgICB9CiAgfTsKfQoKc2NvcGUuZ29vZ2xlID0gc2NvcGUuZ29vZ2xlIHx8IHt9OwpzY29wZS5nb29nbGUuY29sYWIgPSBzY29wZS5nb29nbGUuY29sYWIgfHwge307CnNjb3BlLmdvb2dsZS5jb2xhYi5fZmlsZXMgPSB7CiAgX3VwbG9hZEZpbGVzLAogIF91cGxvYWRGaWxlc0NvbnRpbnVlLAp9Owp9KShzZWxmKTsK",
              "ok": true,
              "headers": [
                [
                  "content-type",
                  "application/javascript"
                ]
              ],
              "status": 200,
              "status_text": ""
            }
          },
          "base_uri": "https://localhost:8080/",
          "height": 73
        },
        "outputId": "4ae1b167-d627-4aea-ceb0-fba89b76721b"
      },
      "source": [
        "from google.colab import files\n",
        "uploaded = files.upload()"
      ],
      "execution_count": null,
      "outputs": [
        {
          "output_type": "display_data",
          "data": {
            "text/html": [
              "\n",
              "     <input type=\"file\" id=\"files-f95ff0fb-92c5-4576-96f6-d55d4c53d803\" name=\"files[]\" multiple disabled\n",
              "        style=\"border:none\" />\n",
              "     <output id=\"result-f95ff0fb-92c5-4576-96f6-d55d4c53d803\">\n",
              "      Upload widget is only available when the cell has been executed in the\n",
              "      current browser session. Please rerun this cell to enable.\n",
              "      </output>\n",
              "      <script src=\"/nbextensions/google.colab/files.js\"></script> "
            ],
            "text/plain": [
              "<IPython.core.display.HTML object>"
            ]
          },
          "metadata": {
            "tags": []
          }
        },
        {
          "output_type": "stream",
          "text": [
            "Saving MAPQ_threshold_v2.csv to MAPQ_threshold_v2.csv\n"
          ],
          "name": "stdout"
        }
      ]
    },
    {
      "cell_type": "code",
      "metadata": {
        "id": "o28RMxmTJorJ"
      },
      "source": [
        "import io\n",
        "MAPQ_threshold_V2=pd.read_csv(io.BytesIO(uploaded['MAPQ_threshold_v2.csv']))"
      ],
      "execution_count": null,
      "outputs": []
    },
    {
      "cell_type": "code",
      "metadata": {
        "id": "jB-n06G-Ju78",
        "colab": {
          "base_uri": "https://localhost:8080/",
          "height": 197
        },
        "outputId": "5bc8396d-0f1b-4db2-a256-fc4ada8f84db"
      },
      "source": [
        "MAPQ_threshold_V2.head()"
      ],
      "execution_count": null,
      "outputs": [
        {
          "output_type": "execute_result",
          "data": {
            "text/html": [
              "<div>\n",
              "<style scoped>\n",
              "    .dataframe tbody tr th:only-of-type {\n",
              "        vertical-align: middle;\n",
              "    }\n",
              "\n",
              "    .dataframe tbody tr th {\n",
              "        vertical-align: top;\n",
              "    }\n",
              "\n",
              "    .dataframe thead th {\n",
              "        text-align: right;\n",
              "    }\n",
              "</style>\n",
              "<table border=\"1\" class=\"dataframe\">\n",
              "  <thead>\n",
              "    <tr style=\"text-align: right;\">\n",
              "      <th></th>\n",
              "      <th>Analysis</th>\n",
              "      <th>Direction</th>\n",
              "      <th>Alignment</th>\n",
              "      <th>Frequency</th>\n",
              "      <th>MAPQ value</th>\n",
              "    </tr>\n",
              "  </thead>\n",
              "  <tbody>\n",
              "    <tr>\n",
              "      <th>0</th>\n",
              "      <td>SingleEnd</td>\n",
              "      <td>R1</td>\n",
              "      <td>SingleEnd-R1</td>\n",
              "      <td>141</td>\n",
              "      <td>NaN</td>\n",
              "    </tr>\n",
              "    <tr>\n",
              "      <th>1</th>\n",
              "      <td>SingleEnd</td>\n",
              "      <td>R1</td>\n",
              "      <td>SingleEnd-R1</td>\n",
              "      <td>1619344</td>\n",
              "      <td>0.0</td>\n",
              "    </tr>\n",
              "    <tr>\n",
              "      <th>2</th>\n",
              "      <td>SingleEnd</td>\n",
              "      <td>R1</td>\n",
              "      <td>SingleEnd-R1</td>\n",
              "      <td>117887</td>\n",
              "      <td>11.0</td>\n",
              "    </tr>\n",
              "    <tr>\n",
              "      <th>3</th>\n",
              "      <td>SingleEnd</td>\n",
              "      <td>R1</td>\n",
              "      <td>SingleEnd-R1</td>\n",
              "      <td>5</td>\n",
              "      <td>12.0</td>\n",
              "    </tr>\n",
              "    <tr>\n",
              "      <th>4</th>\n",
              "      <td>SingleEnd</td>\n",
              "      <td>R1</td>\n",
              "      <td>SingleEnd-R1</td>\n",
              "      <td>123366</td>\n",
              "      <td>14.0</td>\n",
              "    </tr>\n",
              "  </tbody>\n",
              "</table>\n",
              "</div>"
            ],
            "text/plain": [
              "    Analysis Direction     Alignment  Frequency  MAPQ value\n",
              "0  SingleEnd        R1  SingleEnd-R1        141         NaN\n",
              "1  SingleEnd        R1  SingleEnd-R1    1619344         0.0\n",
              "2  SingleEnd        R1  SingleEnd-R1     117887        11.0\n",
              "3  SingleEnd        R1  SingleEnd-R1          5        12.0\n",
              "4  SingleEnd        R1  SingleEnd-R1     123366        14.0"
            ]
          },
          "metadata": {
            "tags": []
          },
          "execution_count": 18
        }
      ]
    },
    {
      "cell_type": "code",
      "metadata": {
        "id": "u3fcQb0CJzgS",
        "colab": {
          "base_uri": "https://localhost:8080/",
          "height": 677
        },
        "outputId": "abf9ed0a-b4ea-4842-b5b2-b40a6b459444"
      },
      "source": [
        "plt.figure(figsize=(20,10))\n",
        "ax=sns.barplot(x=\"MAPQ value\",y=\"Frequency\",data=MAPQ_threshold_V2, hue=\"Alignment\")\n",
        "plt.axvline(7.5, color='grey',linestyle=\"--\")\n",
        "plt.axvline(14.5, color='grey',linestyle=\"--\")\n",
        "plt.axvline(9.5, color='grey',linestyle=\"--\")\n",
        "plt.xlabel(\"MAPQ value\",fontsize=16)\n",
        "plt.ylabel(\"Frequency\",fontsize=16)\n",
        "plt.xticks(fontsize=12)\n",
        "plt.yticks(fontsize=12)\n"
      ],
      "execution_count": null,
      "outputs": [
        {
          "output_type": "execute_result",
          "data": {
            "text/plain": [
              "(array([       0.,  2000000.,  4000000.,  6000000.,  8000000., 10000000.,\n",
              "        12000000., 14000000., 16000000.]),\n",
              " <a list of 9 Text major ticklabel objects>)"
            ]
          },
          "metadata": {
            "tags": []
          },
          "execution_count": 58
        },
        {
          "output_type": "display_data",
          "data": {
            "image/png": "[encoded data removed]",
            "text/plain": [
              "<Figure size 1440x720 with 1 Axes>"
            ]
          },
          "metadata": {
            "tags": [],
            "needs_background": "light"
          }
        }
      ]
    },
    {
      "cell_type": "markdown",
      "metadata": {
        "id": "MeM9BgIUJoaH"
      },
      "source": [
        "What does this mean?\n",
        "\n",
        "AS:i:<N> aln score\n",
        "XS:i:<N> aln score for next best aln (only reported if >1 aln found)\n",
        "\n",
        "\"true multireads\" are those where AS=XS, \n",
        "\"true unireads\" are reads that have only a single mapping position in the scoring scheme, and \n",
        "\"maxireads\" include true unireads and reads where AS > XS. \n",
        "\n",
        "Mapping quality is related to \"uniqueness.\" We say an alignment is unique if it has a much higher alignment score than all the other possible alignments. The bigger the gap between the best alignment's score and the second-best alignment's score, the more unique the best alignment, and the higher its mapping quality should be.\n",
        "\n",
        "Accurate mapping qualities are useful for downstream tools like variant callers. For instance, a variant caller might choose to ignore evidence from alignments with mapping quality less than, say, 10. A mapping quality of 10 or less indicates that there is at least a 1 in 10 chance that the read truly originated elsewhere."
      ]
    },
    {
      "cell_type": "code",
      "metadata": {
        "id": "OV8oGgH5Znzu"
      },
      "source": [
        "MAPQ_threshold_V2_Paired=MAPQ_threshold_V2[MAPQ_threshold_V2['Alignment']==\"PairedEnd-R0\"]"
      ],
      "execution_count": null,
      "outputs": []
    },
    {
      "cell_type": "code",
      "metadata": {
        "id": "Bb8lIo9JZ-Oe",
        "colab": {
          "base_uri": "https://localhost:8080/",
          "height": 1000
        },
        "outputId": "43af66af-771a-4600-9e32-9797188eff9c"
      },
      "source": [
        "MAPQ_threshold_V2_Paired"
      ],
      "execution_count": null,
      "outputs": [
        {
          "output_type": "execute_result",
          "data": {
            "text/html": [
              "<div>\n",
              "<style scoped>\n",
              "    .dataframe tbody tr th:only-of-type {\n",
              "        vertical-align: middle;\n",
              "    }\n",
              "\n",
              "    .dataframe tbody tr th {\n",
              "        vertical-align: top;\n",
              "    }\n",
              "\n",
              "    .dataframe thead th {\n",
              "        text-align: right;\n",
              "    }\n",
              "</style>\n",
              "<table border=\"1\" class=\"dataframe\">\n",
              "  <thead>\n",
              "    <tr style=\"text-align: right;\">\n",
              "      <th></th>\n",
              "      <th>Analysis</th>\n",
              "      <th>Direction</th>\n",
              "      <th>Alignment</th>\n",
              "      <th>Frequency</th>\n",
              "      <th>MAPQ value</th>\n",
              "    </tr>\n",
              "  </thead>\n",
              "  <tbody>\n",
              "    <tr>\n",
              "      <th>70</th>\n",
              "      <td>PairedEnd</td>\n",
              "      <td>NaN</td>\n",
              "      <td>PairedEnd-R0</td>\n",
              "      <td>141</td>\n",
              "      <td>NaN</td>\n",
              "    </tr>\n",
              "    <tr>\n",
              "      <th>71</th>\n",
              "      <td>PairedEnd</td>\n",
              "      <td>NaN</td>\n",
              "      <td>PairedEnd-R0</td>\n",
              "      <td>1217942</td>\n",
              "      <td>0.0</td>\n",
              "    </tr>\n",
              "    <tr>\n",
              "      <th>72</th>\n",
              "      <td>PairedEnd</td>\n",
              "      <td>NaN</td>\n",
              "      <td>PairedEnd-R0</td>\n",
              "      <td>158952</td>\n",
              "      <td>11.0</td>\n",
              "    </tr>\n",
              "    <tr>\n",
              "      <th>73</th>\n",
              "      <td>PairedEnd</td>\n",
              "      <td>NaN</td>\n",
              "      <td>PairedEnd-R0</td>\n",
              "      <td>99638</td>\n",
              "      <td>12.0</td>\n",
              "    </tr>\n",
              "    <tr>\n",
              "      <th>74</th>\n",
              "      <td>PairedEnd</td>\n",
              "      <td>NaN</td>\n",
              "      <td>PairedEnd-R0</td>\n",
              "      <td>58362</td>\n",
              "      <td>14.0</td>\n",
              "    </tr>\n",
              "    <tr>\n",
              "      <th>75</th>\n",
              "      <td>PairedEnd</td>\n",
              "      <td>NaN</td>\n",
              "      <td>PairedEnd-R0</td>\n",
              "      <td>82064</td>\n",
              "      <td>15.0</td>\n",
              "    </tr>\n",
              "    <tr>\n",
              "      <th>76</th>\n",
              "      <td>PairedEnd</td>\n",
              "      <td>NaN</td>\n",
              "      <td>PairedEnd-R0</td>\n",
              "      <td>33410</td>\n",
              "      <td>16.0</td>\n",
              "    </tr>\n",
              "    <tr>\n",
              "      <th>77</th>\n",
              "      <td>PairedEnd</td>\n",
              "      <td>NaN</td>\n",
              "      <td>PairedEnd-R0</td>\n",
              "      <td>71284</td>\n",
              "      <td>17.0</td>\n",
              "    </tr>\n",
              "    <tr>\n",
              "      <th>78</th>\n",
              "      <td>PairedEnd</td>\n",
              "      <td>NaN</td>\n",
              "      <td>PairedEnd-R0</td>\n",
              "      <td>52202</td>\n",
              "      <td>18.0</td>\n",
              "    </tr>\n",
              "    <tr>\n",
              "      <th>79</th>\n",
              "      <td>PairedEnd</td>\n",
              "      <td>NaN</td>\n",
              "      <td>PairedEnd-R0</td>\n",
              "      <td>93936</td>\n",
              "      <td>2.0</td>\n",
              "    </tr>\n",
              "    <tr>\n",
              "      <th>80</th>\n",
              "      <td>PairedEnd</td>\n",
              "      <td>NaN</td>\n",
              "      <td>PairedEnd-R0</td>\n",
              "      <td>49250</td>\n",
              "      <td>21.0</td>\n",
              "    </tr>\n",
              "    <tr>\n",
              "      <th>81</th>\n",
              "      <td>PairedEnd</td>\n",
              "      <td>NaN</td>\n",
              "      <td>PairedEnd-R0</td>\n",
              "      <td>52962</td>\n",
              "      <td>22.0</td>\n",
              "    </tr>\n",
              "    <tr>\n",
              "      <th>82</th>\n",
              "      <td>PairedEnd</td>\n",
              "      <td>NaN</td>\n",
              "      <td>PairedEnd-R0</td>\n",
              "      <td>1696588</td>\n",
              "      <td>23.0</td>\n",
              "    </tr>\n",
              "    <tr>\n",
              "      <th>83</th>\n",
              "      <td>PairedEnd</td>\n",
              "      <td>NaN</td>\n",
              "      <td>PairedEnd-R0</td>\n",
              "      <td>1976212</td>\n",
              "      <td>24.0</td>\n",
              "    </tr>\n",
              "    <tr>\n",
              "      <th>84</th>\n",
              "      <td>PairedEnd</td>\n",
              "      <td>NaN</td>\n",
              "      <td>PairedEnd-R0</td>\n",
              "      <td>32098</td>\n",
              "      <td>25.0</td>\n",
              "    </tr>\n",
              "    <tr>\n",
              "      <th>85</th>\n",
              "      <td>PairedEnd</td>\n",
              "      <td>NaN</td>\n",
              "      <td>PairedEnd-R0</td>\n",
              "      <td>17410</td>\n",
              "      <td>26.0</td>\n",
              "    </tr>\n",
              "    <tr>\n",
              "      <th>86</th>\n",
              "      <td>PairedEnd</td>\n",
              "      <td>NaN</td>\n",
              "      <td>PairedEnd-R0</td>\n",
              "      <td>1462</td>\n",
              "      <td>27.0</td>\n",
              "    </tr>\n",
              "    <tr>\n",
              "      <th>87</th>\n",
              "      <td>PairedEnd</td>\n",
              "      <td>NaN</td>\n",
              "      <td>PairedEnd-R0</td>\n",
              "      <td>719972</td>\n",
              "      <td>3.0</td>\n",
              "    </tr>\n",
              "    <tr>\n",
              "      <th>88</th>\n",
              "      <td>PairedEnd</td>\n",
              "      <td>NaN</td>\n",
              "      <td>PairedEnd-R0</td>\n",
              "      <td>203540</td>\n",
              "      <td>30.0</td>\n",
              "    </tr>\n",
              "    <tr>\n",
              "      <th>89</th>\n",
              "      <td>PairedEnd</td>\n",
              "      <td>NaN</td>\n",
              "      <td>PairedEnd-R0</td>\n",
              "      <td>226628</td>\n",
              "      <td>31.0</td>\n",
              "    </tr>\n",
              "    <tr>\n",
              "      <th>90</th>\n",
              "      <td>PairedEnd</td>\n",
              "      <td>NaN</td>\n",
              "      <td>PairedEnd-R0</td>\n",
              "      <td>149084</td>\n",
              "      <td>32.0</td>\n",
              "    </tr>\n",
              "    <tr>\n",
              "      <th>91</th>\n",
              "      <td>PairedEnd</td>\n",
              "      <td>NaN</td>\n",
              "      <td>PairedEnd-R0</td>\n",
              "      <td>157178</td>\n",
              "      <td>34.0</td>\n",
              "    </tr>\n",
              "    <tr>\n",
              "      <th>92</th>\n",
              "      <td>PairedEnd</td>\n",
              "      <td>NaN</td>\n",
              "      <td>PairedEnd-R0</td>\n",
              "      <td>120630</td>\n",
              "      <td>35.0</td>\n",
              "    </tr>\n",
              "    <tr>\n",
              "      <th>93</th>\n",
              "      <td>PairedEnd</td>\n",
              "      <td>NaN</td>\n",
              "      <td>PairedEnd-R0</td>\n",
              "      <td>89862</td>\n",
              "      <td>36.0</td>\n",
              "    </tr>\n",
              "    <tr>\n",
              "      <th>94</th>\n",
              "      <td>PairedEnd</td>\n",
              "      <td>NaN</td>\n",
              "      <td>PairedEnd-R0</td>\n",
              "      <td>64848</td>\n",
              "      <td>37.0</td>\n",
              "    </tr>\n",
              "    <tr>\n",
              "      <th>95</th>\n",
              "      <td>PairedEnd</td>\n",
              "      <td>NaN</td>\n",
              "      <td>PairedEnd-R0</td>\n",
              "      <td>68820</td>\n",
              "      <td>38.0</td>\n",
              "    </tr>\n",
              "    <tr>\n",
              "      <th>96</th>\n",
              "      <td>PairedEnd</td>\n",
              "      <td>NaN</td>\n",
              "      <td>PairedEnd-R0</td>\n",
              "      <td>6794</td>\n",
              "      <td>39.0</td>\n",
              "    </tr>\n",
              "    <tr>\n",
              "      <th>97</th>\n",
              "      <td>PairedEnd</td>\n",
              "      <td>NaN</td>\n",
              "      <td>PairedEnd-R0</td>\n",
              "      <td>38978</td>\n",
              "      <td>4.0</td>\n",
              "    </tr>\n",
              "    <tr>\n",
              "      <th>98</th>\n",
              "      <td>PairedEnd</td>\n",
              "      <td>NaN</td>\n",
              "      <td>PairedEnd-R0</td>\n",
              "      <td>3069210</td>\n",
              "      <td>40.0</td>\n",
              "    </tr>\n",
              "    <tr>\n",
              "      <th>99</th>\n",
              "      <td>PairedEnd</td>\n",
              "      <td>NaN</td>\n",
              "      <td>PairedEnd-R0</td>\n",
              "      <td>14660252</td>\n",
              "      <td>42.0</td>\n",
              "    </tr>\n",
              "    <tr>\n",
              "      <th>100</th>\n",
              "      <td>PairedEnd</td>\n",
              "      <td>NaN</td>\n",
              "      <td>PairedEnd-R0</td>\n",
              "      <td>5266</td>\n",
              "      <td>5.0</td>\n",
              "    </tr>\n",
              "    <tr>\n",
              "      <th>101</th>\n",
              "      <td>PairedEnd</td>\n",
              "      <td>NaN</td>\n",
              "      <td>PairedEnd-R0</td>\n",
              "      <td>37964</td>\n",
              "      <td>6.0</td>\n",
              "    </tr>\n",
              "    <tr>\n",
              "      <th>102</th>\n",
              "      <td>PairedEnd</td>\n",
              "      <td>NaN</td>\n",
              "      <td>PairedEnd-R0</td>\n",
              "      <td>256864</td>\n",
              "      <td>7.0</td>\n",
              "    </tr>\n",
              "    <tr>\n",
              "      <th>103</th>\n",
              "      <td>PairedEnd</td>\n",
              "      <td>NaN</td>\n",
              "      <td>PairedEnd-R0</td>\n",
              "      <td>934574</td>\n",
              "      <td>8.0</td>\n",
              "    </tr>\n",
              "  </tbody>\n",
              "</table>\n",
              "</div>"
            ],
            "text/plain": [
              "      Analysis Direction     Alignment  Frequency  MAPQ value\n",
              "70   PairedEnd       NaN  PairedEnd-R0        141         NaN\n",
              "71   PairedEnd       NaN  PairedEnd-R0    1217942         0.0\n",
              "72   PairedEnd       NaN  PairedEnd-R0     158952        11.0\n",
              "73   PairedEnd       NaN  PairedEnd-R0      99638        12.0\n",
              "74   PairedEnd       NaN  PairedEnd-R0      58362        14.0\n",
              "75   PairedEnd       NaN  PairedEnd-R0      82064        15.0\n",
              "76   PairedEnd       NaN  PairedEnd-R0      33410        16.0\n",
              "77   PairedEnd       NaN  PairedEnd-R0      71284        17.0\n",
              "78   PairedEnd       NaN  PairedEnd-R0      52202        18.0\n",
              "79   PairedEnd       NaN  PairedEnd-R0      93936         2.0\n",
              "80   PairedEnd       NaN  PairedEnd-R0      49250        21.0\n",
              "81   PairedEnd       NaN  PairedEnd-R0      52962        22.0\n",
              "82   PairedEnd       NaN  PairedEnd-R0    1696588        23.0\n",
              "83   PairedEnd       NaN  PairedEnd-R0    1976212        24.0\n",
              "84   PairedEnd       NaN  PairedEnd-R0      32098        25.0\n",
              "85   PairedEnd       NaN  PairedEnd-R0      17410        26.0\n",
              "86   PairedEnd       NaN  PairedEnd-R0       1462        27.0\n",
              "87   PairedEnd       NaN  PairedEnd-R0     719972         3.0\n",
              "88   PairedEnd       NaN  PairedEnd-R0     203540        30.0\n",
              "89   PairedEnd       NaN  PairedEnd-R0     226628        31.0\n",
              "90   PairedEnd       NaN  PairedEnd-R0     149084        32.0\n",
              "91   PairedEnd       NaN  PairedEnd-R0     157178        34.0\n",
              "92   PairedEnd       NaN  PairedEnd-R0     120630        35.0\n",
              "93   PairedEnd       NaN  PairedEnd-R0      89862        36.0\n",
              "94   PairedEnd       NaN  PairedEnd-R0      64848        37.0\n",
              "95   PairedEnd       NaN  PairedEnd-R0      68820        38.0\n",
              "96   PairedEnd       NaN  PairedEnd-R0       6794        39.0\n",
              "97   PairedEnd       NaN  PairedEnd-R0      38978         4.0\n",
              "98   PairedEnd       NaN  PairedEnd-R0    3069210        40.0\n",
              "99   PairedEnd       NaN  PairedEnd-R0   14660252        42.0\n",
              "100  PairedEnd       NaN  PairedEnd-R0       5266         5.0\n",
              "101  PairedEnd       NaN  PairedEnd-R0      37964         6.0\n",
              "102  PairedEnd       NaN  PairedEnd-R0     256864         7.0\n",
              "103  PairedEnd       NaN  PairedEnd-R0     934574         8.0"
            ]
          },
          "metadata": {
            "tags": []
          },
          "execution_count": 20
        }
      ]
    },
    {
      "cell_type": "code",
      "metadata": {
        "id": "DHSAOOsyaIoe",
        "colab": {
          "base_uri": "https://localhost:8080/"
        },
        "outputId": "5476ea24-11a4-454b-85a7-fad8c4a2b5a6"
      },
      "source": [
        "MAPQ_threshold_V2_Paired.sum(axis=0)"
      ],
      "execution_count": null,
      "outputs": [
        {
          "output_type": "execute_result",
          "data": {
            "text/plain": [
              "Analysis      PairedEndPairedEndPairedEndPairedEndPairedEndP...\n",
              "Direction                                                     0\n",
              "Alignment     PairedEnd-R0PairedEnd-R0PairedEnd-R0PairedEnd-...\n",
              "Frequency                                              26504377\n",
              "MAPQ value                                                  700\n",
              "dtype: object"
            ]
          },
          "metadata": {
            "tags": []
          },
          "execution_count": 23
        }
      ]
    },
    {
      "cell_type": "code",
      "metadata": {
        "id": "gMwu2xwubTml"
      },
      "source": [
        "MAPQ_threshold_V2_Paired_Under8=MAPQ_threshold_V2_Paired[MAPQ_threshold_V2_Paired['MAPQ value']<=8]"
      ],
      "execution_count": null,
      "outputs": []
    },
    {
      "cell_type": "code",
      "metadata": {
        "id": "ay1WQRCZb7vN",
        "colab": {
          "base_uri": "https://localhost:8080/",
          "height": 287
        },
        "outputId": "ce268de1-0837-4aec-a051-b2a0f98664ba"
      },
      "source": [
        "MAPQ_threshold_V2_Paired_Under8"
      ],
      "execution_count": null,
      "outputs": [
        {
          "output_type": "execute_result",
          "data": {
            "text/html": [
              "<div>\n",
              "<style scoped>\n",
              "    .dataframe tbody tr th:only-of-type {\n",
              "        vertical-align: middle;\n",
              "    }\n",
              "\n",
              "    .dataframe tbody tr th {\n",
              "        vertical-align: top;\n",
              "    }\n",
              "\n",
              "    .dataframe thead th {\n",
              "        text-align: right;\n",
              "    }\n",
              "</style>\n",
              "<table border=\"1\" class=\"dataframe\">\n",
              "  <thead>\n",
              "    <tr style=\"text-align: right;\">\n",
              "      <th></th>\n",
              "      <th>Analysis</th>\n",
              "      <th>Direction</th>\n",
              "      <th>Alignment</th>\n",
              "      <th>Frequency</th>\n",
              "      <th>MAPQ value</th>\n",
              "    </tr>\n",
              "  </thead>\n",
              "  <tbody>\n",
              "    <tr>\n",
              "      <th>71</th>\n",
              "      <td>PairedEnd</td>\n",
              "      <td>NaN</td>\n",
              "      <td>PairedEnd-R0</td>\n",
              "      <td>1217942</td>\n",
              "      <td>0.0</td>\n",
              "    </tr>\n",
              "    <tr>\n",
              "      <th>79</th>\n",
              "      <td>PairedEnd</td>\n",
              "      <td>NaN</td>\n",
              "      <td>PairedEnd-R0</td>\n",
              "      <td>93936</td>\n",
              "      <td>2.0</td>\n",
              "    </tr>\n",
              "    <tr>\n",
              "      <th>87</th>\n",
              "      <td>PairedEnd</td>\n",
              "      <td>NaN</td>\n",
              "      <td>PairedEnd-R0</td>\n",
              "      <td>719972</td>\n",
              "      <td>3.0</td>\n",
              "    </tr>\n",
              "    <tr>\n",
              "      <th>97</th>\n",
              "      <td>PairedEnd</td>\n",
              "      <td>NaN</td>\n",
              "      <td>PairedEnd-R0</td>\n",
              "      <td>38978</td>\n",
              "      <td>4.0</td>\n",
              "    </tr>\n",
              "    <tr>\n",
              "      <th>100</th>\n",
              "      <td>PairedEnd</td>\n",
              "      <td>NaN</td>\n",
              "      <td>PairedEnd-R0</td>\n",
              "      <td>5266</td>\n",
              "      <td>5.0</td>\n",
              "    </tr>\n",
              "    <tr>\n",
              "      <th>101</th>\n",
              "      <td>PairedEnd</td>\n",
              "      <td>NaN</td>\n",
              "      <td>PairedEnd-R0</td>\n",
              "      <td>37964</td>\n",
              "      <td>6.0</td>\n",
              "    </tr>\n",
              "    <tr>\n",
              "      <th>102</th>\n",
              "      <td>PairedEnd</td>\n",
              "      <td>NaN</td>\n",
              "      <td>PairedEnd-R0</td>\n",
              "      <td>256864</td>\n",
              "      <td>7.0</td>\n",
              "    </tr>\n",
              "    <tr>\n",
              "      <th>103</th>\n",
              "      <td>PairedEnd</td>\n",
              "      <td>NaN</td>\n",
              "      <td>PairedEnd-R0</td>\n",
              "      <td>934574</td>\n",
              "      <td>8.0</td>\n",
              "    </tr>\n",
              "  </tbody>\n",
              "</table>\n",
              "</div>"
            ],
            "text/plain": [
              "      Analysis Direction     Alignment  Frequency  MAPQ value\n",
              "71   PairedEnd       NaN  PairedEnd-R0    1217942         0.0\n",
              "79   PairedEnd       NaN  PairedEnd-R0      93936         2.0\n",
              "87   PairedEnd       NaN  PairedEnd-R0     719972         3.0\n",
              "97   PairedEnd       NaN  PairedEnd-R0      38978         4.0\n",
              "100  PairedEnd       NaN  PairedEnd-R0       5266         5.0\n",
              "101  PairedEnd       NaN  PairedEnd-R0      37964         6.0\n",
              "102  PairedEnd       NaN  PairedEnd-R0     256864         7.0\n",
              "103  PairedEnd       NaN  PairedEnd-R0     934574         8.0"
            ]
          },
          "metadata": {
            "tags": []
          },
          "execution_count": 27
        }
      ]
    },
    {
      "cell_type": "code",
      "metadata": {
        "id": "oI7s0keUb_k1",
        "colab": {
          "base_uri": "https://localhost:8080/"
        },
        "outputId": "17022f5a-ec6d-4837-cd83-f9203f64547a"
      },
      "source": [
        "MAPQ_threshold_V2_Paired_Under8.sum(axis=0)"
      ],
      "execution_count": null,
      "outputs": [
        {
          "output_type": "execute_result",
          "data": {
            "text/plain": [
              "Analysis      PairedEndPairedEndPairedEndPairedEndPairedEndP...\n",
              "Direction                                                     0\n",
              "Alignment     PairedEnd-R0PairedEnd-R0PairedEnd-R0PairedEnd-...\n",
              "Frequency                                               3305496\n",
              "MAPQ value                                                   35\n",
              "dtype: object"
            ]
          },
          "metadata": {
            "tags": []
          },
          "execution_count": 29
        }
      ]
    },
    {
      "cell_type": "code",
      "metadata": {
        "id": "cuCCoO5bcIU1",
        "colab": {
          "base_uri": "https://localhost:8080/"
        },
        "outputId": "bbbd339f-5655-4447-a74d-25dbdecb7761"
      },
      "source": [
        "Perc_Paired_Under8=(3305496/26504377)*100\n",
        "Perc_Paired_Under8"
      ],
      "execution_count": null,
      "outputs": [
        {
          "output_type": "execute_result",
          "data": {
            "text/plain": [
              "12.471509894384614"
            ]
          },
          "metadata": {
            "tags": []
          },
          "execution_count": 31
        }
      ]
    },
    {
      "cell_type": "code",
      "metadata": {
        "id": "Ubd70nzocTiV"
      },
      "source": [
        "MAPQ_threshold_V2_Paired_Under12=MAPQ_threshold_V2_Paired[MAPQ_threshold_V2_Paired['MAPQ value']<=12]"
      ],
      "execution_count": null,
      "outputs": []
    },
    {
      "cell_type": "code",
      "metadata": {
        "id": "XSUtwju8cbbd",
        "colab": {
          "base_uri": "https://localhost:8080/",
          "height": 347
        },
        "outputId": "1e2e5056-14a9-4b31-e47c-0056eeacbd49"
      },
      "source": [
        "MAPQ_threshold_V2_Paired_Under12"
      ],
      "execution_count": null,
      "outputs": [
        {
          "output_type": "execute_result",
          "data": {
            "text/html": [
              "<div>\n",
              "<style scoped>\n",
              "    .dataframe tbody tr th:only-of-type {\n",
              "        vertical-align: middle;\n",
              "    }\n",
              "\n",
              "    .dataframe tbody tr th {\n",
              "        vertical-align: top;\n",
              "    }\n",
              "\n",
              "    .dataframe thead th {\n",
              "        text-align: right;\n",
              "    }\n",
              "</style>\n",
              "<table border=\"1\" class=\"dataframe\">\n",
              "  <thead>\n",
              "    <tr style=\"text-align: right;\">\n",
              "      <th></th>\n",
              "      <th>Analysis</th>\n",
              "      <th>Direction</th>\n",
              "      <th>Alignment</th>\n",
              "      <th>Frequency</th>\n",
              "      <th>MAPQ value</th>\n",
              "    </tr>\n",
              "  </thead>\n",
              "  <tbody>\n",
              "    <tr>\n",
              "      <th>71</th>\n",
              "      <td>PairedEnd</td>\n",
              "      <td>NaN</td>\n",
              "      <td>PairedEnd-R0</td>\n",
              "      <td>1217942</td>\n",
              "      <td>0.0</td>\n",
              "    </tr>\n",
              "    <tr>\n",
              "      <th>72</th>\n",
              "      <td>PairedEnd</td>\n",
              "      <td>NaN</td>\n",
              "      <td>PairedEnd-R0</td>\n",
              "      <td>158952</td>\n",
              "      <td>11.0</td>\n",
              "    </tr>\n",
              "    <tr>\n",
              "      <th>73</th>\n",
              "      <td>PairedEnd</td>\n",
              "      <td>NaN</td>\n",
              "      <td>PairedEnd-R0</td>\n",
              "      <td>99638</td>\n",
              "      <td>12.0</td>\n",
              "    </tr>\n",
              "    <tr>\n",
              "      <th>79</th>\n",
              "      <td>PairedEnd</td>\n",
              "      <td>NaN</td>\n",
              "      <td>PairedEnd-R0</td>\n",
              "      <td>93936</td>\n",
              "      <td>2.0</td>\n",
              "    </tr>\n",
              "    <tr>\n",
              "      <th>87</th>\n",
              "      <td>PairedEnd</td>\n",
              "      <td>NaN</td>\n",
              "      <td>PairedEnd-R0</td>\n",
              "      <td>719972</td>\n",
              "      <td>3.0</td>\n",
              "    </tr>\n",
              "    <tr>\n",
              "      <th>97</th>\n",
              "      <td>PairedEnd</td>\n",
              "      <td>NaN</td>\n",
              "      <td>PairedEnd-R0</td>\n",
              "      <td>38978</td>\n",
              "      <td>4.0</td>\n",
              "    </tr>\n",
              "    <tr>\n",
              "      <th>100</th>\n",
              "      <td>PairedEnd</td>\n",
              "      <td>NaN</td>\n",
              "      <td>PairedEnd-R0</td>\n",
              "      <td>5266</td>\n",
              "      <td>5.0</td>\n",
              "    </tr>\n",
              "    <tr>\n",
              "      <th>101</th>\n",
              "      <td>PairedEnd</td>\n",
              "      <td>NaN</td>\n",
              "      <td>PairedEnd-R0</td>\n",
              "      <td>37964</td>\n",
              "      <td>6.0</td>\n",
              "    </tr>\n",
              "    <tr>\n",
              "      <th>102</th>\n",
              "      <td>PairedEnd</td>\n",
              "      <td>NaN</td>\n",
              "      <td>PairedEnd-R0</td>\n",
              "      <td>256864</td>\n",
              "      <td>7.0</td>\n",
              "    </tr>\n",
              "    <tr>\n",
              "      <th>103</th>\n",
              "      <td>PairedEnd</td>\n",
              "      <td>NaN</td>\n",
              "      <td>PairedEnd-R0</td>\n",
              "      <td>934574</td>\n",
              "      <td>8.0</td>\n",
              "    </tr>\n",
              "  </tbody>\n",
              "</table>\n",
              "</div>"
            ],
            "text/plain": [
              "      Analysis Direction     Alignment  Frequency  MAPQ value\n",
              "71   PairedEnd       NaN  PairedEnd-R0    1217942         0.0\n",
              "72   PairedEnd       NaN  PairedEnd-R0     158952        11.0\n",
              "73   PairedEnd       NaN  PairedEnd-R0      99638        12.0\n",
              "79   PairedEnd       NaN  PairedEnd-R0      93936         2.0\n",
              "87   PairedEnd       NaN  PairedEnd-R0     719972         3.0\n",
              "97   PairedEnd       NaN  PairedEnd-R0      38978         4.0\n",
              "100  PairedEnd       NaN  PairedEnd-R0       5266         5.0\n",
              "101  PairedEnd       NaN  PairedEnd-R0      37964         6.0\n",
              "102  PairedEnd       NaN  PairedEnd-R0     256864         7.0\n",
              "103  PairedEnd       NaN  PairedEnd-R0     934574         8.0"
            ]
          },
          "metadata": {
            "tags": []
          },
          "execution_count": 33
        }
      ]
    },
    {
      "cell_type": "code",
      "metadata": {
        "id": "ytRtyLNlcdN9",
        "colab": {
          "base_uri": "https://localhost:8080/"
        },
        "outputId": "37ff65b9-6b72-4860-c37b-589b7ce65174"
      },
      "source": [
        "MAPQ_threshold_V2_Paired_Under12.sum(axis=0)"
      ],
      "execution_count": null,
      "outputs": [
        {
          "output_type": "execute_result",
          "data": {
            "text/plain": [
              "Analysis      PairedEndPairedEndPairedEndPairedEndPairedEndP...\n",
              "Direction                                                     0\n",
              "Alignment     PairedEnd-R0PairedEnd-R0PairedEnd-R0PairedEnd-...\n",
              "Frequency                                               3564086\n",
              "MAPQ value                                                   58\n",
              "dtype: object"
            ]
          },
          "metadata": {
            "tags": []
          },
          "execution_count": 34
        }
      ]
    },
    {
      "cell_type": "code",
      "metadata": {
        "id": "uGaRiWJzcho9",
        "colab": {
          "base_uri": "https://localhost:8080/"
        },
        "outputId": "c881d28f-450b-4d07-ff44-1b1ec88dde76"
      },
      "source": [
        "Perc_Paired_Under12=(3564086/26504377)*100\n",
        "Perc_Paired_Under12"
      ],
      "execution_count": null,
      "outputs": [
        {
          "output_type": "execute_result",
          "data": {
            "text/plain": [
              "13.447160067184374"
            ]
          },
          "metadata": {
            "tags": []
          },
          "execution_count": 35
        }
      ]
    },
    {
      "cell_type": "code",
      "metadata": {
        "id": "v32eXwDhcnTd"
      },
      "source": [
        "MAPQ_threshold_V2_Paired_Under18=MAPQ_threshold_V2_Paired[MAPQ_threshold_V2_Paired['MAPQ value']<=18]"
      ],
      "execution_count": null,
      "outputs": []
    },
    {
      "cell_type": "code",
      "metadata": {
        "id": "-G5oRT1-cryG",
        "colab": {
          "base_uri": "https://localhost:8080/",
          "height": 497
        },
        "outputId": "68a69222-d628-4ab1-b498-b335e3a2d00f"
      },
      "source": [
        "MAPQ_threshold_V2_Paired_Under18"
      ],
      "execution_count": null,
      "outputs": [
        {
          "output_type": "execute_result",
          "data": {
            "text/html": [
              "<div>\n",
              "<style scoped>\n",
              "    .dataframe tbody tr th:only-of-type {\n",
              "        vertical-align: middle;\n",
              "    }\n",
              "\n",
              "    .dataframe tbody tr th {\n",
              "        vertical-align: top;\n",
              "    }\n",
              "\n",
              "    .dataframe thead th {\n",
              "        text-align: right;\n",
              "    }\n",
              "</style>\n",
              "<table border=\"1\" class=\"dataframe\">\n",
              "  <thead>\n",
              "    <tr style=\"text-align: right;\">\n",
              "      <th></th>\n",
              "      <th>Analysis</th>\n",
              "      <th>Direction</th>\n",
              "      <th>Alignment</th>\n",
              "      <th>Frequency</th>\n",
              "      <th>MAPQ value</th>\n",
              "    </tr>\n",
              "  </thead>\n",
              "  <tbody>\n",
              "    <tr>\n",
              "      <th>71</th>\n",
              "      <td>PairedEnd</td>\n",
              "      <td>NaN</td>\n",
              "      <td>PairedEnd-R0</td>\n",
              "      <td>1217942</td>\n",
              "      <td>0.0</td>\n",
              "    </tr>\n",
              "    <tr>\n",
              "      <th>72</th>\n",
              "      <td>PairedEnd</td>\n",
              "      <td>NaN</td>\n",
              "      <td>PairedEnd-R0</td>\n",
              "      <td>158952</td>\n",
              "      <td>11.0</td>\n",
              "    </tr>\n",
              "    <tr>\n",
              "      <th>73</th>\n",
              "      <td>PairedEnd</td>\n",
              "      <td>NaN</td>\n",
              "      <td>PairedEnd-R0</td>\n",
              "      <td>99638</td>\n",
              "      <td>12.0</td>\n",
              "    </tr>\n",
              "    <tr>\n",
              "      <th>74</th>\n",
              "      <td>PairedEnd</td>\n",
              "      <td>NaN</td>\n",
              "      <td>PairedEnd-R0</td>\n",
              "      <td>58362</td>\n",
              "      <td>14.0</td>\n",
              "    </tr>\n",
              "    <tr>\n",
              "      <th>75</th>\n",
              "      <td>PairedEnd</td>\n",
              "      <td>NaN</td>\n",
              "      <td>PairedEnd-R0</td>\n",
              "      <td>82064</td>\n",
              "      <td>15.0</td>\n",
              "    </tr>\n",
              "    <tr>\n",
              "      <th>76</th>\n",
              "      <td>PairedEnd</td>\n",
              "      <td>NaN</td>\n",
              "      <td>PairedEnd-R0</td>\n",
              "      <td>33410</td>\n",
              "      <td>16.0</td>\n",
              "    </tr>\n",
              "    <tr>\n",
              "      <th>77</th>\n",
              "      <td>PairedEnd</td>\n",
              "      <td>NaN</td>\n",
              "      <td>PairedEnd-R0</td>\n",
              "      <td>71284</td>\n",
              "      <td>17.0</td>\n",
              "    </tr>\n",
              "    <tr>\n",
              "      <th>78</th>\n",
              "      <td>PairedEnd</td>\n",
              "      <td>NaN</td>\n",
              "      <td>PairedEnd-R0</td>\n",
              "      <td>52202</td>\n",
              "      <td>18.0</td>\n",
              "    </tr>\n",
              "    <tr>\n",
              "      <th>79</th>\n",
              "      <td>PairedEnd</td>\n",
              "      <td>NaN</td>\n",
              "      <td>PairedEnd-R0</td>\n",
              "      <td>93936</td>\n",
              "      <td>2.0</td>\n",
              "    </tr>\n",
              "    <tr>\n",
              "      <th>87</th>\n",
              "      <td>PairedEnd</td>\n",
              "      <td>NaN</td>\n",
              "      <td>PairedEnd-R0</td>\n",
              "      <td>719972</td>\n",
              "      <td>3.0</td>\n",
              "    </tr>\n",
              "    <tr>\n",
              "      <th>97</th>\n",
              "      <td>PairedEnd</td>\n",
              "      <td>NaN</td>\n",
              "      <td>PairedEnd-R0</td>\n",
              "      <td>38978</td>\n",
              "      <td>4.0</td>\n",
              "    </tr>\n",
              "    <tr>\n",
              "      <th>100</th>\n",
              "      <td>PairedEnd</td>\n",
              "      <td>NaN</td>\n",
              "      <td>PairedEnd-R0</td>\n",
              "      <td>5266</td>\n",
              "      <td>5.0</td>\n",
              "    </tr>\n",
              "    <tr>\n",
              "      <th>101</th>\n",
              "      <td>PairedEnd</td>\n",
              "      <td>NaN</td>\n",
              "      <td>PairedEnd-R0</td>\n",
              "      <td>37964</td>\n",
              "      <td>6.0</td>\n",
              "    </tr>\n",
              "    <tr>\n",
              "      <th>102</th>\n",
              "      <td>PairedEnd</td>\n",
              "      <td>NaN</td>\n",
              "      <td>PairedEnd-R0</td>\n",
              "      <td>256864</td>\n",
              "      <td>7.0</td>\n",
              "    </tr>\n",
              "    <tr>\n",
              "      <th>103</th>\n",
              "      <td>PairedEnd</td>\n",
              "      <td>NaN</td>\n",
              "      <td>PairedEnd-R0</td>\n",
              "      <td>934574</td>\n",
              "      <td>8.0</td>\n",
              "    </tr>\n",
              "  </tbody>\n",
              "</table>\n",
              "</div>"
            ],
            "text/plain": [
              "      Analysis Direction     Alignment  Frequency  MAPQ value\n",
              "71   PairedEnd       NaN  PairedEnd-R0    1217942         0.0\n",
              "72   PairedEnd       NaN  PairedEnd-R0     158952        11.0\n",
              "73   PairedEnd       NaN  PairedEnd-R0      99638        12.0\n",
              "74   PairedEnd       NaN  PairedEnd-R0      58362        14.0\n",
              "75   PairedEnd       NaN  PairedEnd-R0      82064        15.0\n",
              "76   PairedEnd       NaN  PairedEnd-R0      33410        16.0\n",
              "77   PairedEnd       NaN  PairedEnd-R0      71284        17.0\n",
              "78   PairedEnd       NaN  PairedEnd-R0      52202        18.0\n",
              "79   PairedEnd       NaN  PairedEnd-R0      93936         2.0\n",
              "87   PairedEnd       NaN  PairedEnd-R0     719972         3.0\n",
              "97   PairedEnd       NaN  PairedEnd-R0      38978         4.0\n",
              "100  PairedEnd       NaN  PairedEnd-R0       5266         5.0\n",
              "101  PairedEnd       NaN  PairedEnd-R0      37964         6.0\n",
              "102  PairedEnd       NaN  PairedEnd-R0     256864         7.0\n",
              "103  PairedEnd       NaN  PairedEnd-R0     934574         8.0"
            ]
          },
          "metadata": {
            "tags": []
          },
          "execution_count": 37
        }
      ]
    },
    {
      "cell_type": "code",
      "metadata": {
        "id": "SiBiLV6vcte9",
        "colab": {
          "base_uri": "https://localhost:8080/"
        },
        "outputId": "8959468e-b9e7-4f81-d1e6-38b9a1fcb5a3"
      },
      "source": [
        "MAPQ_threshold_V2_Paired_Under18.sum(axis=0)"
      ],
      "execution_count": null,
      "outputs": [
        {
          "output_type": "execute_result",
          "data": {
            "text/plain": [
              "Analysis      PairedEndPairedEndPairedEndPairedEndPairedEndP...\n",
              "Direction                                                     0\n",
              "Alignment     PairedEnd-R0PairedEnd-R0PairedEnd-R0PairedEnd-...\n",
              "Frequency                                               3861408\n",
              "MAPQ value                                                  138\n",
              "dtype: object"
            ]
          },
          "metadata": {
            "tags": []
          },
          "execution_count": 38
        }
      ]
    },
    {
      "cell_type": "code",
      "metadata": {
        "id": "_udXZ4wkcwr1",
        "colab": {
          "base_uri": "https://localhost:8080/"
        },
        "outputId": "9005fb71-7d10-4f4d-d69c-cd9c28924426"
      },
      "source": [
        "Perc_Paired_Under18=(3861408/26504377)*100\n",
        "Perc_Paired_Under18"
      ],
      "execution_count": null,
      "outputs": [
        {
          "output_type": "execute_result",
          "data": {
            "text/plain": [
              "14.568944593566565"
            ]
          },
          "metadata": {
            "tags": []
          },
          "execution_count": 39
        }
      ]
    },
    {
      "cell_type": "code",
      "metadata": {
        "id": "k4WR1-rWc2qV"
      },
      "source": [
        ""
      ],
      "execution_count": null,
      "outputs": []
    }
  ]
}